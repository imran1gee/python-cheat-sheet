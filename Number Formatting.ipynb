{
 "cells": [
  {
   "cell_type": "markdown",
   "metadata": {},
   "source": [
    "# Number Formatting\n",
    "\n",
    "References:\n",
    "\n",
    "* https://pyformat.info/\n",
    "* https://queirozf.com/entries/python-number-formatting-examples"
   ]
  },
  {
   "cell_type": "raw",
   "metadata": {},
   "source": [
    "## Grammar\n",
    "\n",
    "replacement_field ::=  \"{\" [field_name] [\"!\" conversion] [\":\" format_spec] \"}\"\n",
    "field_name        ::=  arg_name (\".\" attribute_name | \"[\" element_index \"]\")*\n",
    "arg_name          ::=  [identifier | integer]\n",
    "attribute_name    ::=  identifier\n",
    "element_index     ::=  integer | index_string\n",
    "index_string      ::=  <any source character except \"]\"> +\n",
    "conversion        ::=  \"r\" | \"s\"\n",
    "format_spec       ::=  <described in the next section>\n",
    "    \n",
    "## format_spec\n",
    "    \n",
    "format_spec ::=  [[fill]align][sign][#][0][width][,][.precision][type]  \n",
    "fill        ::=  <any character>  \n",
    "align       ::=  \"<\" | \">\" | \"=\" | \"^\"  \n",
    "sign        ::=  \"+\" | \"-\" | \" \"  \n",
    "width       ::=  integer  \n",
    "precision   ::=  integer  \n",
    "type        ::=  \"b\" | \"c\" | \"d\" | \"e\" | \"E\" | \"f\" | \"F\" | \"g\" | \"G\" | \"n\" | \"o\" | \"s\" | \"x\" | \"X\" | \"%\" "
   ]
  },
  {
   "cell_type": "markdown",
   "metadata": {},
   "source": [
    "### The number before the colon corresponds to the field_name and is optional"
   ]
  },
  {
   "cell_type": "code",
   "execution_count": 50,
   "metadata": {},
   "outputs": [
    {
     "data": {
      "text/plain": [
       "'123.45'"
      ]
     },
     "execution_count": 50,
     "metadata": {},
     "output_type": "execute_result"
    }
   ],
   "source": [
    "\"{:.2f}\".format(123.45, 67.890)"
   ]
  },
  {
   "cell_type": "code",
   "execution_count": 51,
   "metadata": {},
   "outputs": [
    {
     "data": {
      "text/plain": [
       "'123.45'"
      ]
     },
     "execution_count": 51,
     "metadata": {},
     "output_type": "execute_result"
    }
   ],
   "source": [
    "\"{0:.2f}\".format(123.45, 67.890)"
   ]
  },
  {
   "cell_type": "code",
   "execution_count": 52,
   "metadata": {},
   "outputs": [
    {
     "data": {
      "text/plain": [
       "'67.89'"
      ]
     },
     "execution_count": 52,
     "metadata": {},
     "output_type": "execute_result"
    }
   ],
   "source": [
    "\"{1:.2f}\".format(123.45, 67.890)"
   ]
  },
  {
   "cell_type": "markdown",
   "metadata": {},
   "source": [
    "# Rounding Numbers"
   ]
  },
  {
   "cell_type": "code",
   "execution_count": 44,
   "metadata": {},
   "outputs": [
    {
     "name": "stdout",
     "output_type": "stream",
     "text": [
      "{:.0f} : 123\n",
      "{:.1f} : 123.5\n",
      "{:.2f} : 123.46\n",
      "{:.3f} : 123.457\n",
      "{:.4f} : 123.4568\n",
      "{:.5f} : 123.45679\n"
     ]
    }
   ],
   "source": [
    "for i in range(6):\n",
    "    # The 'f' tells it to format it as a floating point number\n",
    "    f = \"{:.\" + str(i) + \"f}\"\n",
    "    print(f, \":\", f.format(123.456789))"
   ]
  },
  {
   "cell_type": "code",
   "execution_count": 48,
   "metadata": {},
   "outputs": [
    {
     "data": {
      "text/plain": [
       "'67.89'"
      ]
     },
     "execution_count": 48,
     "metadata": {},
     "output_type": "execute_result"
    }
   ],
   "source": []
  },
  {
   "cell_type": "markdown",
   "metadata": {},
   "source": [
    "## Rounding Percents"
   ]
  },
  {
   "cell_type": "code",
   "execution_count": 53,
   "metadata": {},
   "outputs": [
    {
     "name": "stdout",
     "output_type": "stream",
     "text": [
      "{:.0%} : 12%\n",
      "{:.1%} : 12.3%\n",
      "{:.2%} : 12.35%\n",
      "{:.3%} : 12.346%\n",
      "{:.4%} : 12.3457%\n",
      "{:.5%} : 12.34568%\n"
     ]
    }
   ],
   "source": [
    "for i in range(6):\n",
    "    f = \"{:.\" + str(i) + \"%}\"\n",
    "    print(f, \":\", f.format(.123456789))"
   ]
  },
  {
   "cell_type": "markdown",
   "metadata": {},
   "source": [
    "## Commas as separators"
   ]
  },
  {
   "cell_type": "code",
   "execution_count": 15,
   "metadata": {},
   "outputs": [
    {
     "data": {
      "text/plain": [
       "'100,000'"
      ]
     },
     "execution_count": 15,
     "metadata": {},
     "output_type": "execute_result"
    }
   ],
   "source": [
    "\"{:,}\".format(100000)"
   ]
  }
 ],
 "metadata": {
  "kernelspec": {
   "display_name": "Python 3",
   "language": "python",
   "name": "python3"
  },
  "language_info": {
   "codemirror_mode": {
    "name": "ipython",
    "version": 3
   },
   "file_extension": ".py",
   "mimetype": "text/x-python",
   "name": "python",
   "nbconvert_exporter": "python",
   "pygments_lexer": "ipython3",
   "version": "3.8.2"
  }
 },
 "nbformat": 4,
 "nbformat_minor": 4
}
