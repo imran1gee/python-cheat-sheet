{
 "cells": [
  {
   "cell_type": "code",
   "execution_count": 37,
   "metadata": {},
   "outputs": [],
   "source": [
    "import numpy as np\n",
    "from sklearn.metrics.pairwise import cosine_similarity\n",
    "import matplotlib.pyplot as plt"
   ]
  },
  {
   "cell_type": "markdown",
   "metadata": {},
   "source": [
    "## Creating an Array"
   ]
  },
  {
   "cell_type": "code",
   "execution_count": 3,
   "metadata": {},
   "outputs": [
    {
     "name": "stdout",
     "output_type": "stream",
     "text": [
      "a1: ['a' 'b' 'c']\n",
      "a2: ['a' 'b' 'c']\n",
      "Are they equal? True\n"
     ]
    }
   ],
   "source": [
    "# Using a list\n",
    "a1 = np.array(['a', 'b', 'c'])\n",
    "\n",
    "# Using a tuple\n",
    "a2 = np.array(('a', 'b', 'c'))\n",
    "\n",
    "print(\"a1:\", a1)\n",
    "print(\"a2:\", a2)\n",
    "print(\"Are they equal?\", np.array_equal(a1, a2))"
   ]
  },
  {
   "cell_type": "markdown",
   "metadata": {},
   "source": [
    "## Slicing"
   ]
  },
  {
   "cell_type": "code",
   "execution_count": 4,
   "metadata": {},
   "outputs": [
    {
     "name": "stdout",
     "output_type": "stream",
     "text": [
      "Array: [ 5 10 15 20 25 30 35 40]\n",
      "Elements 2 and 3: [15 20]\n",
      "First 2 elements: [ 5 10]\n",
      "Last 2 elements: [35 40]\n"
     ]
    }
   ],
   "source": [
    "## Slicing an array\n",
    "\n",
    "arr = np.array([5, 10, 15, 20, 25, 30, 35, 40])\n",
    "print(\"Array:\", arr)\n",
    "print(\"Elements 2 and 3:\", arr[2:4])\n",
    "print(\"First 2 elements:\", arr[:2])\n",
    "print(\"Last 2 elements:\", arr[-2:])"
   ]
  },
  {
   "cell_type": "markdown",
   "metadata": {},
   "source": [
    "## Subsetting"
   ]
  },
  {
   "cell_type": "code",
   "execution_count": 5,
   "metadata": {},
   "outputs": [
    {
     "name": "stdout",
     "output_type": "stream",
     "text": [
      "Array: [ 5 10 15]\n",
      "Greater than 8: [10 15]\n",
      "Greater than 8 and less than 12: [10]\n",
      "Greater than 8 and less than 12: [10]\n"
     ]
    }
   ],
   "source": [
    "arr = np.array([5, 10, 15])\n",
    "print(\"Array:\", arr)\n",
    "print(\"Greater than 8:\", arr[arr > 8])\n",
    "print(\"Greater than 8 and less than 12:\", arr[(arr > 8) & (arr < 12)])\n",
    "print(\"Greater than 8 and less than 12:\", arr[np.logical_and(arr > 8, arr < 12)])"
   ]
  },
  {
   "cell_type": "markdown",
   "metadata": {},
   "source": [
    "## Mapping"
   ]
  },
  {
   "cell_type": "code",
   "execution_count": 6,
   "metadata": {},
   "outputs": [
    {
     "name": "stdout",
     "output_type": "stream",
     "text": [
      "[ 16  36  64 100]\n"
     ]
    }
   ],
   "source": [
    "arr = np.array([4, 6, 8, 10])\n",
    "squarer = lambda i: i ** 2\n",
    "squared = squarer(arr)\n",
    "print(squared)"
   ]
  },
  {
   "cell_type": "markdown",
   "metadata": {},
   "source": [
    "## Reshaping"
   ]
  },
  {
   "cell_type": "code",
   "execution_count": 7,
   "metadata": {},
   "outputs": [
    {
     "name": "stdout",
     "output_type": "stream",
     "text": [
      "Array:\n",
      " [[3 4 5]\n",
      " [6 7 8]]\n",
      "\n",
      "1 row, 1 element with 6 columns:\n",
      " [[3 4 5 6 7 8]]\n",
      "\n",
      "1 row, 6 columns:\n",
      " [3 4 5 6 7 8]\n",
      "\n",
      "2 rows, 3 columns:\n",
      " [[3 4 5]\n",
      " [6 7 8]]\n",
      "\n",
      "6 rows, 1 column:\n",
      " [[3]\n",
      " [4]\n",
      " [5]\n",
      " [6]\n",
      " [7]\n",
      " [8]]\n",
      "\n",
      "As many rows as needed, 1 columns:\n",
      " [[3]\n",
      " [4]\n",
      " [5]\n",
      " [6]\n",
      " [7]\n",
      " [8]]\n",
      "\n",
      "Ravel: [3 4 5 6 7 8]\n"
     ]
    }
   ],
   "source": [
    "arr = np.array([\n",
    "    [3, 4, 5],\n",
    "    [6, 7, 8]])\n",
    "\n",
    "# x.reshape((num_rows, num_columns))\n",
    "print(\"Array:\\n\", arr)\n",
    "print(\"\\n1 row, 1 element with 6 columns:\\n\", arr.reshape((1, 6)))\n",
    "\n",
    "# Equivalent to this because \"If an integer, \n",
    "# then the result will be a 1-D array of that length.\"\n",
    "print(\"\\n1 row, 6 columns:\\n\", arr.reshape(6))\n",
    "\n",
    "print(\"\\n2 rows, 3 columns:\\n\", arr.reshape((2, 3)))\n",
    "\n",
    "print(\"\\n6 rows, 1 column:\\n\", arr.reshape((6, 1)))\n",
    "\n",
    "# Equivalent to:\n",
    "# Because \"One shape dimension can be -1. In this case, the \n",
    "# value is inferred from the length of the array and remaining dimensions.\"\"\n",
    "print(\"\\nAs many rows as needed, 1 columns:\\n\", arr.reshape((-1, 1)))\n",
    "\n",
    "print(\"\\nRavel:\", arr.ravel())"
   ]
  },
  {
   "cell_type": "markdown",
   "metadata": {},
   "source": [
    "## Creating an array of evenly spaced numbers between two values"
   ]
  },
  {
   "cell_type": "code",
   "execution_count": 8,
   "metadata": {},
   "outputs": [
    {
     "name": "stdout",
     "output_type": "stream",
     "text": [
      "[1. 2.]\n",
      "[1.  1.5 2. ]\n"
     ]
    }
   ],
   "source": [
    "print(np.linspace(1, 2, num=2))\n",
    "print(np.linspace(1, 2, num=3))"
   ]
  },
  {
   "cell_type": "markdown",
   "metadata": {},
   "source": [
    "## Stacking"
   ]
  },
  {
   "cell_type": "code",
   "execution_count": 9,
   "metadata": {},
   "outputs": [
    {
     "name": "stdout",
     "output_type": "stream",
     "text": [
      "['a' 'b' 'c' 'd' 'e' 'f']\n"
     ]
    }
   ],
   "source": [
    "# Horizontal stacking\n",
    "a1 = np.array(['a', 'b', 'c'])\n",
    "a2 = np.array(['d', 'e', 'f'])\n",
    "print(np.hstack([a1, a2]))"
   ]
  },
  {
   "cell_type": "code",
   "execution_count": 10,
   "metadata": {},
   "outputs": [
    {
     "name": "stdout",
     "output_type": "stream",
     "text": [
      "[['a' 'b' 'c']\n",
      " ['d' 'e' 'f']]\n"
     ]
    }
   ],
   "source": [
    "# Vertical stacking\n",
    "a1 = np.array(['a', 'b', 'c'])\n",
    "a2 = np.array(['d', 'e', 'f'])\n",
    "\n",
    "print(np.vstack([a1, a2]))"
   ]
  },
  {
   "cell_type": "code",
   "execution_count": 11,
   "metadata": {},
   "outputs": [
    {
     "name": "stdout",
     "output_type": "stream",
     "text": [
      "[['a' 'd']\n",
      " ['b' 'e']\n",
      " ['c' 'f']]\n"
     ]
    }
   ],
   "source": [
    "# Stacking 1-d arrays\n",
    "\n",
    "a1 = np.array(['a', 'b', 'c'])\n",
    "a2 = np.array(['d', 'e', 'f'])\n",
    "print(np.column_stack((a1, a2)))\n",
    "\n",
    "# Equivalent to:\n",
    "# print(np.array(list(zip(a1, a2))))"
   ]
  },
  {
   "cell_type": "markdown",
   "metadata": {},
   "source": [
    "## Calculating the maximum values element-wise"
   ]
  },
  {
   "cell_type": "code",
   "execution_count": 12,
   "metadata": {},
   "outputs": [
    {
     "name": "stdout",
     "output_type": "stream",
     "text": [
      "[ 3  5 10]\n"
     ]
    }
   ],
   "source": [
    "a1 = np.array([2, 5, 10])\n",
    "a2 = np.array([3, 4, 6])\n",
    "\n",
    "print(np.maximum(a1, a2))"
   ]
  },
  {
   "cell_type": "code",
   "execution_count": 13,
   "metadata": {},
   "outputs": [
    {
     "name": "stdout",
     "output_type": "stream",
     "text": [
      "[ 6  6 10]\n"
     ]
    }
   ],
   "source": [
    "# Can also supply a number for the second argument in which case\n",
    "# it will be broadcast to an array and compared element-wise:\n",
    "a = np.array([2, 5, 10])\n",
    "print(np.maximum(a1, 6))"
   ]
  },
  {
   "cell_type": "markdown",
   "metadata": {},
   "source": [
    "## Min and Max"
   ]
  },
  {
   "cell_type": "code",
   "execution_count": 14,
   "metadata": {},
   "outputs": [
    {
     "name": "stdout",
     "output_type": "stream",
     "text": [
      "Min: 2\n",
      "Min: 2\n",
      "Max: 10\n",
      "Max: 10\n"
     ]
    }
   ],
   "source": [
    "arr = np.array([2, 5, 10])\n",
    "\n",
    "print(\"Min:\", arr.min())\n",
    "print(\"Min:\", np.min(arr))\n",
    "print(\"Max:\", arr.max())\n",
    "print(\"Max:\", np.max(arr))"
   ]
  },
  {
   "cell_type": "markdown",
   "metadata": {},
   "source": [
    "## Finding the positions of the largest values in an array"
   ]
  },
  {
   "cell_type": "code",
   "execution_count": 15,
   "metadata": {},
   "outputs": [
    {
     "name": "stdout",
     "output_type": "stream",
     "text": [
      "Array:\n",
      " [[1 2 3]\n",
      " [4 5 6]]\n",
      "\n",
      "Position of the largest value in the (flattened) array: 5\n",
      "\n",
      "Position of largest value in each column:\n",
      " [1 1 1]\n",
      "\n",
      "Position of largest value in each row:\n",
      " [2 2]\n"
     ]
    }
   ],
   "source": [
    "arr = np.array([[1, 2, 3], [4, 5, 6]])\n",
    "print(\"Array:\\n\", arr)\n",
    "print(\"\\nPosition of the largest value in the (flattened) array:\", np.argmax(arr))\n",
    "print(\"\\nPosition of largest value in each column:\\n\", np.argmax(arr, axis=0))\n",
    "print(\"\\nPosition of largest value in each row:\\n\", np.argmax(arr, axis=1))"
   ]
  },
  {
   "cell_type": "markdown",
   "metadata": {},
   "source": [
    "## Returning the indeces that would sort an array"
   ]
  },
  {
   "cell_type": "code",
   "execution_count": 16,
   "metadata": {},
   "outputs": [
    {
     "name": "stdout",
     "output_type": "stream",
     "text": [
      "[2 0 1]\n"
     ]
    }
   ],
   "source": [
    "arr = np.array([3, 10, 2])\n",
    "print(arr.argsort())"
   ]
  },
  {
   "cell_type": "markdown",
   "metadata": {},
   "source": [
    "## Finding array values that contain a string"
   ]
  },
  {
   "cell_type": "code",
   "execution_count": 17,
   "metadata": {},
   "outputs": [
    {
     "name": "stdout",
     "output_type": "stream",
     "text": [
      "Method 1:\n",
      " ['user_count']\n",
      "\n",
      "Method 2:\n",
      " ['user_count']\n"
     ]
    }
   ],
   "source": [
    "arr = np.array(['company_id', 'days_after_sign_up', 'user_count'])\n",
    "matches = arr[np.flatnonzero(np.core.defchararray.find(arr, \"_count\") != -1)]\n",
    "print(\"Method 1:\\n\", matches)\n",
    "\n",
    "matches = [column for column in arr if \"_count\" in column]\n",
    "print(\"\\nMethod 2:\\n\", matches)"
   ]
  },
  {
   "cell_type": "markdown",
   "metadata": {},
   "source": [
    "## Calculating statistics row and column wise"
   ]
  },
  {
   "cell_type": "code",
   "execution_count": 18,
   "metadata": {},
   "outputs": [
    {
     "name": "stdout",
     "output_type": "stream",
     "text": [
      "Array:\n",
      " [[1 2 3]\n",
      " [4 5 6]]\n",
      "\n",
      "Mean column wise: [2.5 3.5 4.5]\n",
      "\n",
      "Mean row wise: [2. 5.]\n"
     ]
    }
   ],
   "source": [
    "arr = np.array([[1, 2, 3], [4, 5, 6]])\n",
    "print(\"Array:\\n\", arr)\n",
    "print(\"\\nMean column wise:\", arr.mean(axis=0))\n",
    "print(\"\\nMean row wise:\", arr.mean(axis=1))"
   ]
  },
  {
   "cell_type": "markdown",
   "metadata": {},
   "source": [
    "## Squeeze"
   ]
  },
  {
   "cell_type": "code",
   "execution_count": 19,
   "metadata": {},
   "outputs": [
    {
     "name": "stdout",
     "output_type": "stream",
     "text": [
      "Array:\n",
      " [[1]\n",
      " [4]\n",
      " [7]]\n",
      "\n",
      "Squeezed:\n",
      " [1 4 7]\n"
     ]
    }
   ],
   "source": [
    "arr = np.array([[1], [4], [7]])\n",
    "print(\"Array:\\n\", arr)\n",
    "\n",
    "print(\"\\nSqueezed:\\n\", arr.squeeze())"
   ]
  },
  {
   "cell_type": "markdown",
   "metadata": {},
   "source": [
    "## Median"
   ]
  },
  {
   "cell_type": "code",
   "execution_count": 20,
   "metadata": {},
   "outputs": [
    {
     "name": "stdout",
     "output_type": "stream",
     "text": [
      "Array:\n",
      " [nan  4.  8. 10.]\n",
      "Median of an array with a nan will be nan: nan\n",
      "Median of an array with with nan removed will be a number: 8.0\n"
     ]
    }
   ],
   "source": [
    "arr = np.array([np.nan, 4, 8, 10])\n",
    "print(\"Array:\\n\", arr)\n",
    "print(\"Median of an array with a nan will be nan:\", np.median(arr))\n",
    "print(\"Median of an array with with nan removed will be a number:\", np.nanmedian(arr))"
   ]
  },
  {
   "cell_type": "markdown",
   "metadata": {},
   "source": [
    "## Count Nonzero"
   ]
  },
  {
   "cell_type": "code",
   "execution_count": 21,
   "metadata": {},
   "outputs": [
    {
     "name": "stdout",
     "output_type": "stream",
     "text": [
      "Size: 5\n",
      "Count: 5\n",
      "Non-zero count: 3\n"
     ]
    }
   ],
   "source": [
    "arr = np.array([0, 0, 2, 4, 8])\n",
    "\n",
    "print(\"Size:\", np.size(arr))\n",
    "print(\"Count:\", len(arr))\n",
    "print(\"Non-zero count:\", np.count_nonzero(arr))"
   ]
  },
  {
   "cell_type": "markdown",
   "metadata": {},
   "source": [
    "## Indexing"
   ]
  },
  {
   "cell_type": "code",
   "execution_count": 22,
   "metadata": {},
   "outputs": [
    {
     "name": "stdout",
     "output_type": "stream",
     "text": [
      "All: [0 1 2 4 8]\n",
      "Every other starting at index 0: [0 2 8]\n",
      "Every other starting at index 1: [1 4]\n",
      "Reversed: [8 4 2 1 0]\n",
      "Reversed except last element: [4 2 1 0]\n"
     ]
    }
   ],
   "source": [
    "arr = np.array([0, 1, 2, 4, 8])\n",
    "\n",
    "# The basic slice syntax is i:j:k where i is the starting index, \n",
    "# j is the stopping index, and k is the step\n",
    "\n",
    "print(\"All:\", arr[:])\n",
    "print(\"Every other starting at index 0:\", arr[::2])\n",
    "print(\"Every other starting at index 1:\", arr[1::2])\n",
    "print(\"Reversed:\", arr[::-1])\n",
    "print(\"Reversed except last element:\", arr[-2::-1])"
   ]
  },
  {
   "cell_type": "markdown",
   "metadata": {},
   "source": [
    "## Slicing"
   ]
  },
  {
   "cell_type": "code",
   "execution_count": 23,
   "metadata": {},
   "outputs": [
    {
     "name": "stdout",
     "output_type": "stream",
     "text": [
      "[[ 2  4  8]\n",
      " [ 3  6  9]\n",
      " [ 4  8 12]\n",
      " [ 5 10 15]]\n",
      "\n",
      "Rows: 1 and 2, Column: 0:\n",
      " [2 3]\n",
      "\n",
      "Rows: All, Column: 0:\n",
      " [2 3 4 5]\n",
      "\n",
      "Rows: 1, Column: All:\n",
      " [2 4 8]\n",
      "\n",
      "Rows: 1, Column: Last:\n",
      " 8\n",
      "\n",
      "Rows: All, Column: All except last:\n",
      " [[ 2  4]\n",
      " [ 3  6]\n",
      " [ 4  8]\n",
      " [ 5 10]]\n",
      "\n",
      "Rows: Last, Column: Last:\n",
      " 15\n"
     ]
    }
   ],
   "source": [
    "arr = np.array([[2, 4, 8], [3, 6, 9], [4, 8, 12], [5, 10, 15]])\n",
    "print(arr)\n",
    "\n",
    "# arr[rows:columns]\n",
    "\n",
    "print(\"\\nRows: 1 and 2, Column: 0:\\n\", arr[0:2,0])\n",
    "print(\"\\nRows: All, Column: 0:\\n\", arr[:,0])\n",
    "print(\"\\nRows: 1, Column: All:\\n\", arr[0,:])\n",
    "print(\"\\nRows: 1, Column: Last:\\n\", arr[0,-1])\n",
    "print(\"\\nRows: All, Column: All except last:\\n\", arr[:,:-1])\n",
    "print(\"\\nRows: Last, Column: Last:\\n\", arr[-1,-1])"
   ]
  },
  {
   "cell_type": "markdown",
   "metadata": {},
   "source": [
    "## Flattening an array"
   ]
  },
  {
   "cell_type": "code",
   "execution_count": 24,
   "metadata": {},
   "outputs": [
    {
     "data": {
      "text/plain": [
       "array([2, 4, 6])"
      ]
     },
     "execution_count": 24,
     "metadata": {},
     "output_type": "execute_result"
    }
   ],
   "source": [
    "y = np.array([[2], [4], [6]])\n",
    "\n",
    "# ravel: \"Return a contiguous flattened array.\"\n",
    "y.ravel()\n",
    "\n",
    "# Same as:\n",
    "# y.reshape(1, -1)"
   ]
  },
  {
   "cell_type": "markdown",
   "metadata": {},
   "source": [
    "## Generating a range of values"
   ]
  },
  {
   "cell_type": "code",
   "execution_count": 25,
   "metadata": {},
   "outputs": [
    {
     "data": {
      "text/plain": [
       "array([50, 55, 60, 65, 70, 75, 80, 85, 90, 95])"
      ]
     },
     "execution_count": 25,
     "metadata": {},
     "output_type": "execute_result"
    }
   ],
   "source": [
    "np.arange(50, 100, 5)"
   ]
  },
  {
   "cell_type": "code",
   "execution_count": 26,
   "metadata": {
    "scrolled": true
   },
   "outputs": [
    {
     "data": {
      "text/plain": [
       "[50, 55, 60, 65, 70, 75, 80, 85, 90, 95]"
      ]
     },
     "execution_count": 26,
     "metadata": {},
     "output_type": "execute_result"
    }
   ],
   "source": [
    "# Similar process to generate a list, but this doesn't work for decimals\n",
    "list(range(50, 100, 5))"
   ]
  },
  {
   "cell_type": "markdown",
   "metadata": {},
   "source": [
    "## Log Space"
   ]
  },
  {
   "cell_type": "code",
   "execution_count": 42,
   "metadata": {},
   "outputs": [
    {
     "name": "stdout",
     "output_type": "stream",
     "text": [
      "[1.00000000e-04 2.77544952e-04 7.70312006e-04 2.13796209e-03\n",
      " 5.93380586e-03 1.64689787e-02 4.57088190e-02 1.26862520e-01\n",
      " 3.52100520e-01 9.77237221e-01]\n"
     ]
    },
    {
     "data": {
      "image/png": "[encoded data removed]",
      "text/plain": [
       "<Figure size 432x288 with 1 Axes>"
      ]
     },
     "metadata": {
      "needs_background": "light"
     },
     "output_type": "display_data"
    }
   ],
   "source": [
    "values = np.logspace(-4, -0.01, 10)\n",
    "print(values)\n",
    "\n",
    "plt.plot(values)\n",
    "plt.show()"
   ]
  },
  {
   "cell_type": "markdown",
   "metadata": {},
   "source": [
    "## Generating a specific number of values between two other values"
   ]
  },
  {
   "cell_type": "code",
   "execution_count": 28,
   "metadata": {},
   "outputs": [
    {
     "data": {
      "text/plain": [
       "array([ 0., 10., 20., 30., 40., 50.])"
      ]
     },
     "execution_count": 28,
     "metadata": {},
     "output_type": "execute_result"
    }
   ],
   "source": [
    "# linspace = linear space\n",
    "np.linspace(0, 50, 6)"
   ]
  },
  {
   "cell_type": "markdown",
   "metadata": {},
   "source": [
    "## Calculating the dot product"
   ]
  },
  {
   "cell_type": "code",
   "execution_count": 29,
   "metadata": {},
   "outputs": [
    {
     "data": {
      "text/plain": [
       "39"
      ]
     },
     "execution_count": 29,
     "metadata": {},
     "output_type": "execute_result"
    }
   ],
   "source": [
    "a = np.array([3, 4])\n",
    "b = np.array([5, 6])\n",
    "\n",
    "# 3 * 5 + 4 * 6\n",
    "np.dot(a, b)"
   ]
  },
  {
   "cell_type": "markdown",
   "metadata": {},
   "source": [
    "### Shorthand"
   ]
  },
  {
   "cell_type": "code",
   "execution_count": 30,
   "metadata": {},
   "outputs": [
    {
     "data": {
      "text/plain": [
       "39"
      ]
     },
     "execution_count": 30,
     "metadata": {},
     "output_type": "execute_result"
    }
   ],
   "source": [
    "a@b"
   ]
  },
  {
   "cell_type": "markdown",
   "metadata": {},
   "source": [
    "## Measuring cosine similarity"
   ]
  },
  {
   "cell_type": "code",
   "execution_count": 31,
   "metadata": {},
   "outputs": [
    {
     "name": "stdout",
     "output_type": "stream",
     "text": [
      "Manually: 0.7388188340435563\n",
      "\n",
      "Function:\n",
      " [[1.         0.73881883]\n",
      " [0.73881883 1.        ]]\n"
     ]
    }
   ],
   "source": [
    "a = np.array([4, 7, 1])\n",
    "b = np.array([5, 2, 3])\n",
    "\n",
    "dot_product = a@b\n",
    "magnitude = np.sqrt(a[0]**2 + a[1]**2 + a[2]**2) * np.sqrt(b[0]**2 + b[1]**2 + b[2]**2)\n",
    "print(\"Manually:\", dot_product / magnitude)\n",
    "\n",
    "sim = cosine_similarity([a, b])\n",
    "print(\"\\nFunction:\\n\", sim)"
   ]
  },
  {
   "cell_type": "markdown",
   "metadata": {},
   "source": [
    "## Multiplication of two arrays is element wise"
   ]
  },
  {
   "cell_type": "code",
   "execution_count": 32,
   "metadata": {
    "scrolled": false
   },
   "outputs": [],
   "source": [
    "a = np.array([-1, 1])\n",
    "b = np.array([2, 3])\n",
    "c = a * b"
   ]
  },
  {
   "cell_type": "code",
   "execution_count": 33,
   "metadata": {},
   "outputs": [
    {
     "data": {
      "text/plain": [
       "1"
      ]
     },
     "execution_count": 33,
     "metadata": {},
     "output_type": "execute_result"
    }
   ],
   "source": [
    "c.sum()"
   ]
  },
  {
   "cell_type": "markdown",
   "metadata": {},
   "source": [
    "### Same as dot product"
   ]
  },
  {
   "cell_type": "code",
   "execution_count": 34,
   "metadata": {},
   "outputs": [
    {
     "data": {
      "text/plain": [
       "1"
      ]
     },
     "execution_count": 34,
     "metadata": {},
     "output_type": "execute_result"
    }
   ],
   "source": [
    "a@b"
   ]
  },
  {
   "cell_type": "code",
   "execution_count": 35,
   "metadata": {},
   "outputs": [
    {
     "data": {
      "text/plain": [
       "1.3333333333333333"
      ]
     },
     "execution_count": 35,
     "metadata": {},
     "output_type": "execute_result"
    }
   ],
   "source": [
    "4/3"
   ]
  },
  {
   "cell_type": "markdown",
   "metadata": {},
   "source": [
    "## Return array value or zero, whichever is largest"
   ]
  },
  {
   "cell_type": "code",
   "execution_count": 36,
   "metadata": {},
   "outputs": [
    {
     "ename": "ValueError",
     "evalue": "operands could not be broadcast together with shapes (4,) (5,) ",
     "output_type": "error",
     "traceback": [
      "\u001b[0;31m---------------------------------------------------------------------------\u001b[0m",
      "\u001b[0;31mValueError\u001b[0m                                Traceback (most recent call last)",
      "\u001b[0;32m<ipython-input-36-d23d1593cb1b>\u001b[0m in \u001b[0;36m<module>\u001b[0;34m\u001b[0m\n\u001b[1;32m      2\u001b[0m \u001b[0marr\u001b[0m \u001b[0;34m=\u001b[0m \u001b[0mnp\u001b[0m\u001b[0;34m.\u001b[0m\u001b[0marray\u001b[0m\u001b[0;34m(\u001b[0m\u001b[0;34m[\u001b[0m\u001b[0;34m-\u001b[0m\u001b[0;36m2\u001b[0m\u001b[0;34m,\u001b[0m \u001b[0;34m-\u001b[0m\u001b[0;36m1\u001b[0m\u001b[0;34m,\u001b[0m \u001b[0;36m0\u001b[0m\u001b[0;34m,\u001b[0m \u001b[0;36m1\u001b[0m\u001b[0;34m,\u001b[0m \u001b[0;36m2\u001b[0m\u001b[0;34m]\u001b[0m\u001b[0;34m)\u001b[0m\u001b[0;34m\u001b[0m\u001b[0;34m\u001b[0m\u001b[0m\n\u001b[1;32m      3\u001b[0m \u001b[0;34m\u001b[0m\u001b[0m\n\u001b[0;32m----> 4\u001b[0;31m \u001b[0mnp\u001b[0m\u001b[0;34m.\u001b[0m\u001b[0mmaximum\u001b[0m\u001b[0;34m(\u001b[0m\u001b[0mzeros\u001b[0m\u001b[0;34m,\u001b[0m \u001b[0marr\u001b[0m\u001b[0;34m)\u001b[0m\u001b[0;34m\u001b[0m\u001b[0;34m\u001b[0m\u001b[0m\n\u001b[0m",
      "\u001b[0;31mValueError\u001b[0m: operands could not be broadcast together with shapes (4,) (5,) "
     ]
    }
   ],
   "source": [
    "zeros = np.zeros(len(arr))\n",
    "arr = np.array([-2, -1, 0, 1, 2])\n",
    "\n",
    "np.maximum(zeros, arr)"
   ]
  }
 ],
 "metadata": {
  "kernelspec": {
   "display_name": "Python 3",
   "language": "python",
   "name": "python3"
  },
  "language_info": {
   "codemirror_mode": {
    "name": "ipython",
    "version": 3
   },
   "file_extension": ".py",
   "mimetype": "text/x-python",
   "name": "python",
   "nbconvert_exporter": "python",
   "pygments_lexer": "ipython3",
   "version": "3.8.2"
  }
 },
 "nbformat": 4,
 "nbformat_minor": 4
}
