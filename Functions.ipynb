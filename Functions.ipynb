{
 "cells": [
  {
   "cell_type": "markdown",
   "metadata": {},
   "source": [
    "## Partials"
   ]
  },
  {
   "cell_type": "code",
   "execution_count": 17,
   "metadata": {},
   "outputs": [
    {
     "name": "stdout",
     "output_type": "stream",
     "text": [
      "Prices: [1 2 3 4 5]\n",
      "Multiply by 5: [ 5 10 15 20 25]\n",
      "Multiply by 10 using partial: [10 20 30 40 50]\n"
     ]
    }
   ],
   "source": [
    "from functools import partial\n",
    "import numpy as np\n",
    "\n",
    "def multiplier(values, m):\n",
    "    return values * m\n",
    "\n",
    "multiply_by_10 = partial(multiplier, m=10)\n",
    "\n",
    "prices = np.array(range(1, 6))\n",
    "print(\"Prices:\", prices)\n",
    "print(\"Multiply by 5:\", multiplier(prices, 5))\n",
    "print(\"Multiply by 10 using partial:\", multiply_by_10(prices))"
   ]
  }
 ],
 "metadata": {
  "kernelspec": {
   "display_name": "Python 3",
   "language": "python",
   "name": "python3"
  },
  "language_info": {
   "codemirror_mode": {
    "name": "ipython",
    "version": 3
   },
   "file_extension": ".py",
   "mimetype": "text/x-python",
   "name": "python",
   "nbconvert_exporter": "python",
   "pygments_lexer": "ipython3",
   "version": "3.8.2"
  }
 },
 "nbformat": 4,
 "nbformat_minor": 4
}
