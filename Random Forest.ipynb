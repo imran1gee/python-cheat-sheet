{
 "cells": [
  {
   "cell_type": "markdown",
   "metadata": {},
   "source": [
    "# Random Forest\n",
    "\n",
    "References:\n",
    "\n",
    "* [Hyperparameter Tuning in Python](https://campus.datacamp.com/courses/hyperparameter-tuning-in-python/hyperparameters-and-parameters)\n",
    "\n",
    "Important hypermarameters:\n",
    "\n",
    "* `n_estimators` - should be set to a high number, 300, 500, 1000\n",
    "* `max_features`\n",
    "* `max_depth`\n",
    "* `min_leaf_sample`\n",
    "* maybe (`criterion`)"
   ]
  },
  {
   "cell_type": "code",
   "execution_count": 1,
   "metadata": {},
   "outputs": [],
   "source": [
    "from sklearn.ensemble import RandomForestClassifier"
   ]
  },
  {
   "cell_type": "code",
   "execution_count": null,
   "metadata": {},
   "outputs": [],
   "source": []
  }
 ],
 "metadata": {
  "kernelspec": {
   "display_name": "Python 3",
   "language": "python",
   "name": "python3"
  },
  "language_info": {
   "codemirror_mode": {
    "name": "ipython",
    "version": 3
   },
   "file_extension": ".py",
   "mimetype": "text/x-python",
   "name": "python",
   "nbconvert_exporter": "python",
   "pygments_lexer": "ipython3",
   "version": "3.8.2"
  }
 },
 "nbformat": 4,
 "nbformat_minor": 4
}
