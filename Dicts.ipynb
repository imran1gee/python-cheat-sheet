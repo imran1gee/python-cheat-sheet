{
 "cells": [
  {
   "cell_type": "markdown",
   "metadata": {},
   "source": [
    "# Dicts"
   ]
  },
  {
   "cell_type": "code",
   "execution_count": 5,
   "metadata": {},
   "outputs": [],
   "source": [
    "import pandas as pd\n",
    "from collections import defaultdict "
   ]
  },
  {
   "cell_type": "markdown",
   "metadata": {},
   "source": [
    "## Converting data frame to dict"
   ]
  },
  {
   "cell_type": "code",
   "execution_count": 6,
   "metadata": {
    "scrolled": true
   },
   "outputs": [
    {
     "data": {
      "text/html": [
       "<div>\n",
       "<style scoped>\n",
       "    .dataframe tbody tr th:only-of-type {\n",
       "        vertical-align: middle;\n",
       "    }\n",
       "\n",
       "    .dataframe tbody tr th {\n",
       "        vertical-align: top;\n",
       "    }\n",
       "\n",
       "    .dataframe thead th {\n",
       "        text-align: right;\n",
       "    }\n",
       "</style>\n",
       "<table border=\"1\" class=\"dataframe\">\n",
       "  <thead>\n",
       "    <tr style=\"text-align: right;\">\n",
       "      <th></th>\n",
       "      <th>Fare</th>\n",
       "      <th>Sex</th>\n",
       "      <th>Embarked</th>\n",
       "    </tr>\n",
       "  </thead>\n",
       "  <tbody>\n",
       "    <tr>\n",
       "      <th>0</th>\n",
       "      <td>4</td>\n",
       "      <td>m</td>\n",
       "      <td>S</td>\n",
       "    </tr>\n",
       "    <tr>\n",
       "      <th>1</th>\n",
       "      <td>10</td>\n",
       "      <td>f</td>\n",
       "      <td>C</td>\n",
       "    </tr>\n",
       "    <tr>\n",
       "      <th>2</th>\n",
       "      <td>20</td>\n",
       "      <td>m</td>\n",
       "      <td>S</td>\n",
       "    </tr>\n",
       "  </tbody>\n",
       "</table>\n",
       "</div>"
      ],
      "text/plain": [
       "   Fare Sex Embarked\n",
       "0     4   m        S\n",
       "1    10   f        C\n",
       "2    20   m        S"
      ]
     },
     "metadata": {},
     "output_type": "display_data"
    },
    {
     "name": "stdout",
     "output_type": "stream",
     "text": [
      "Default:\n"
     ]
    },
    {
     "data": {
      "text/plain": [
       "{'Fare': {0: 4, 1: 10, 2: 20},\n",
       " 'Sex': {0: 'm', 1: 'f', 2: 'm'},\n",
       " 'Embarked': {0: 'S', 1: 'C', 2: 'S'}}"
      ]
     },
     "metadata": {},
     "output_type": "display_data"
    },
    {
     "name": "stdout",
     "output_type": "stream",
     "text": [
      "Records:\n"
     ]
    },
    {
     "data": {
      "text/plain": [
       "[{'Fare': 4, 'Sex': 'm', 'Embarked': 'S'},\n",
       " {'Fare': 10, 'Sex': 'f', 'Embarked': 'C'},\n",
       " {'Fare': 20, 'Sex': 'm', 'Embarked': 'S'}]"
      ]
     },
     "metadata": {},
     "output_type": "display_data"
    }
   ],
   "source": [
    "df = pd.DataFrame({\n",
    "    \"Fare\": [4, 10, 20],\n",
    "    \"Sex\": [\"m\", \"f\", \"m\"],\n",
    "    \"Embarked\": [\"S\", \"C\", \"S\"]\n",
    "})\n",
    "\n",
    "display(df)\n",
    "\n",
    "print(\"Default:\")\n",
    "display(df.to_dict())\n",
    "\n",
    "print(\"Records:\")\n",
    "display(df.to_dict(\"records\"))"
   ]
  },
  {
   "cell_type": "markdown",
   "metadata": {},
   "source": [
    "## Iterating"
   ]
  },
  {
   "cell_type": "code",
   "execution_count": 7,
   "metadata": {
    "scrolled": true
   },
   "outputs": [
    {
     "name": "stdout",
     "output_type": "stream",
     "text": [
      "2020-04-01: 6\n",
      "2020-05-01: 8\n"
     ]
    }
   ],
   "source": [
    "dictionary = {\n",
    "    \"2020-04-01\": 6,\n",
    "    \"2020-05-01\": 8\n",
    "}\n",
    "\n",
    "for key, value in dictionary.items() :\n",
    "    print(key + \": \" + str(value))"
   ]
  },
  {
   "cell_type": "markdown",
   "metadata": {},
   "source": [
    "### Iterating by ascending value"
   ]
  },
  {
   "cell_type": "code",
   "execution_count": 4,
   "metadata": {},
   "outputs": [
    {
     "name": "stdout",
     "output_type": "stream",
     "text": [
      "riker: 2\n",
      "ava: 4\n",
      "mason: 5\n",
      "matt: 35\n"
     ]
    }
   ],
   "source": [
    "ages = {\n",
    "    \"matt\": 35,\n",
    "    \"riker\": 2,\n",
    "    \"mason\": 5,\n",
    "    \"ava\": 4\n",
    "}\n",
    "\n",
    "for name, age in sorted(ages.items(), key=lambda item: item[1]):\n",
    "    print(\"{}: {}\".format(name, age))"
   ]
  },
  {
   "cell_type": "markdown",
   "metadata": {},
   "source": [
    "## Deleting an item"
   ]
  },
  {
   "cell_type": "code",
   "execution_count": 8,
   "metadata": {},
   "outputs": [
    {
     "name": "stdout",
     "output_type": "stream",
     "text": [
      "New dict: {'b': 6, 'c': 7}\n"
     ]
    }
   ],
   "source": [
    "d = {\"a\": 5, \"b\": 6, \"c\": 7}\n",
    "del d[\"a\"]\n",
    "print(\"New dict:\", d)"
   ]
  },
  {
   "cell_type": "markdown",
   "metadata": {},
   "source": [
    "Or you can also return the deleted item:"
   ]
  },
  {
   "cell_type": "code",
   "execution_count": 9,
   "metadata": {},
   "outputs": [
    {
     "name": "stdout",
     "output_type": "stream",
     "text": [
      "New dict: {'b': 6, 'c': 7}\n",
      "Deleted item: 5\n"
     ]
    }
   ],
   "source": [
    "d = {\"a\": 5, \"b\": 6, \"c\": 7}\n",
    "item = d.pop(\"a\")\n",
    "print(\"New dict:\", d)\n",
    "print(\"Deleted item:\", item)"
   ]
  },
  {
   "cell_type": "markdown",
   "metadata": {},
   "source": [
    "## Number of keys"
   ]
  },
  {
   "cell_type": "code",
   "execution_count": 13,
   "metadata": {},
   "outputs": [
    {
     "data": {
      "text/plain": [
       "3"
      ]
     },
     "execution_count": 13,
     "metadata": {},
     "output_type": "execute_result"
    }
   ],
   "source": [
    "d = {\"a\": 5, \"b\": 6, \"c\": 7}\n",
    "len(d)"
   ]
  },
  {
   "cell_type": "markdown",
   "metadata": {},
   "source": [
    "## Default Dict"
   ]
  },
  {
   "cell_type": "code",
   "execution_count": 10,
   "metadata": {},
   "outputs": [
    {
     "name": "stdout",
     "output_type": "stream",
     "text": [
      "defaultdict(<class 'int'>, {'machine': 10})\n",
      "machine: 10\n",
      "learning: 0\n"
     ]
    }
   ],
   "source": [
    "word_counts = defaultdict(int)\n",
    "word_counts[\"machine\"] = 10\n",
    "print(word_counts)\n",
    "print(\"machine:\", word_counts[\"machine\"])\n",
    "print(\"learning:\", word_counts[\"learning\"])"
   ]
  },
  {
   "cell_type": "markdown",
   "metadata": {},
   "source": [
    "## Creating a dict from a list"
   ]
  },
  {
   "cell_type": "markdown",
   "metadata": {},
   "source": [
    "### With no key values"
   ]
  },
  {
   "cell_type": "code",
   "execution_count": 11,
   "metadata": {},
   "outputs": [
    {
     "data": {
      "text/plain": [
       "{'a': None, 'b': None, 'c': None}"
      ]
     },
     "execution_count": 11,
     "metadata": {},
     "output_type": "execute_result"
    }
   ],
   "source": [
    "dict.fromkeys([\"a\", \"b\", \"c\"])"
   ]
  },
  {
   "cell_type": "markdown",
   "metadata": {},
   "source": [
    "### With key values"
   ]
  },
  {
   "cell_type": "code",
   "execution_count": 12,
   "metadata": {},
   "outputs": [
    {
     "data": {
      "text/plain": [
       "{'a': 5, 'b': 5, 'c': 5}"
      ]
     },
     "execution_count": 12,
     "metadata": {},
     "output_type": "execute_result"
    }
   ],
   "source": [
    "dict.fromkeys([\"a\", \"b\", \"c\"], 5)"
   ]
  }
 ],
 "metadata": {
  "kernelspec": {
   "display_name": "Python 3",
   "language": "python",
   "name": "python3"
  },
  "language_info": {
   "codemirror_mode": {
    "name": "ipython",
    "version": 3
   },
   "file_extension": ".py",
   "mimetype": "text/x-python",
   "name": "python",
   "nbconvert_exporter": "python",
   "pygments_lexer": "ipython3",
   "version": "3.8.2"
  }
 },
 "nbformat": 4,
 "nbformat_minor": 4
}
