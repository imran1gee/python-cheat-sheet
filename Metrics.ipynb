{
 "cells": [
  {
   "cell_type": "code",
   "execution_count": 4,
   "metadata": {},
   "outputs": [],
   "source": [
    "import pandas as pd\n",
    "import numpy as np\n",
    "from sklearn.ensemble import RandomForestClassifier\n",
    "from sklearn.model_selection import train_test_split\n",
    "from sklearn.metrics import confusion_matrix, plot_confusion_matrix, classification_report, accuracy_score, roc_curve, roc_auc_score, mean_squared_log_error\n",
    "import matplotlib.pyplot as plt"
   ]
  },
  {
   "cell_type": "code",
   "execution_count": 33,
   "metadata": {},
   "outputs": [
    {
     "data": {
      "text/plain": [
       "RandomForestClassifier(random_state=1)"
      ]
     },
     "execution_count": 33,
     "metadata": {},
     "output_type": "execute_result"
    }
   ],
   "source": [
    "df = pd.read_csv(\"data/titantic-train.csv\")\n",
    "df = df[[\"Fare\", \"Age\", \"Pclass\", \"SibSp\", \"Parch\", \"Survived\"]].dropna()\n",
    "\n",
    "X = df.iloc[:, :-1]\n",
    "y = df.iloc[:, -1:].values.ravel()\n",
    "\n",
    "X_train, X_test, y_train, y_test = train_test_split(X, y, random_state=1, stratify=y)\n",
    "\n",
    "rf = RandomForestClassifier(random_state=1)\n",
    "rf.fit(X_train, y_train)"
   ]
  },
  {
   "cell_type": "markdown",
   "metadata": {},
   "source": [
    "## Accuracy Score"
   ]
  },
  {
   "cell_type": "code",
   "execution_count": 34,
   "metadata": {},
   "outputs": [
    {
     "data": {
      "text/plain": [
       "0.6703910614525139"
      ]
     },
     "execution_count": 34,
     "metadata": {},
     "output_type": "execute_result"
    }
   ],
   "source": [
    "rf.score(X_test, y_test)"
   ]
  },
  {
   "cell_type": "code",
   "execution_count": 35,
   "metadata": {},
   "outputs": [
    {
     "data": {
      "text/plain": [
       "0.6703910614525139"
      ]
     },
     "execution_count": 35,
     "metadata": {},
     "output_type": "execute_result"
    }
   ],
   "source": [
    "y_pred = rf.predict(X_test)\n",
    "accuracy_score(y_test, y_pred)"
   ]
  },
  {
   "cell_type": "markdown",
   "metadata": {},
   "source": [
    "## Confusion Matrix"
   ]
  },
  {
   "cell_type": "markdown",
   "metadata": {},
   "source": [
    "### Calculating a confusion matrix\n",
    "\n",
    "```\n",
    "+---------------+------------------+-----------------+\n",
    "|               | Predicted: False | Predicted: True |\n",
    "+---------------+------------------+-----------------+\n",
    "| Actual: False | True Negative    | False Positive  |\n",
    "| Actual: True  | False Negative   | True Positive   |\n",
    "+---------------+------------------+-----------------+\n",
    "```"
   ]
  },
  {
   "cell_type": "code",
   "execution_count": 46,
   "metadata": {},
   "outputs": [
    {
     "name": "stdout",
     "output_type": "stream",
     "text": [
      "Confusion Matrix:\n",
      " [[74 32]\n",
      " [27 46]] \n",
      "\n",
      "Classification Report:\n",
      "               precision    recall  f1-score   support\n",
      "\n",
      "        Died       0.73      0.70      0.71       106\n",
      "    Survived       0.59      0.63      0.61        73\n",
      "\n",
      "    accuracy                           0.67       179\n",
      "   macro avg       0.66      0.66      0.66       179\n",
      "weighted avg       0.67      0.67      0.67       179\n",
      " \n",
      "\n",
      "Precision: 0.59\n",
      "Recall: 0.63\n",
      "Accuracy: 0.67\n"
     ]
    }
   ],
   "source": [
    "c_matrix = confusion_matrix(y_test, y_pred)\n",
    "c_report = classification_report(y_test, y_pred, target_names=[\"Died\", \"Survived\"])\n",
    "\n",
    "true_negative = c_matrix[0, 0]     # Free customer, correctly predicted\n",
    "false_positive = c_matrix[0, 1]    # Free customer, but predicted to be paid\n",
    "false_negative = c_matrix[1, 0]    # Conversion, but predicted to be free\n",
    "true_positive = c_matrix[1, 1]     # Conversion, correctly predicted\n",
    "\n",
    "precision = true_positive / (true_positive + false_positive)\n",
    "recall = true_positive / (true_positive + false_negative)\n",
    "accuracy = (true_negative + true_positive) / (true_negative + false_positive + false_negative + true_positive)\n",
    "\n",
    "print(\"Confusion Matrix:\\n\", c_matrix, \"\\n\")\n",
    "print(\"Classification Report:\\n\", c_report, \"\\n\")\n",
    "\n",
    "# The % of passengers classified as survived that actually survived\n",
    "# The % of companies classified as a conversion that actually converted\n",
    "print(\"Precision: {:.2f}\".format(precision))\n",
    "\n",
    "# The % of passengers that were correctly identified\n",
    "# The % of conversions that were correctly identified\n",
    "print(\"Recall: {:.2f}\".format(recall))\n",
    "\n",
    "# The overall % correct\n",
    "print(\"Accuracy: {:.2f}\".format(accuracy))       "
   ]
  },
  {
   "cell_type": "markdown",
   "metadata": {},
   "source": [
    "### Visualizing a confusion matrix"
   ]
  },
  {
   "cell_type": "code",
   "execution_count": 37,
   "metadata": {
    "scrolled": true
   },
   "outputs": [
    {
     "data": {
      "image/png": "[encoded data removed]",
      "text/plain": [
       "<Figure size 432x288 with 2 Axes>"
      ]
     },
     "metadata": {
      "needs_background": "light"
     },
     "output_type": "display_data"
    }
   ],
   "source": [
    "plot_confusion_matrix(rf, X_test, y_test, display_labels=[\"Died\", \"Survived\"])\n",
    "plt.show()"
   ]
  },
  {
   "cell_type": "markdown",
   "metadata": {},
   "source": [
    "## ROC curve"
   ]
  },
  {
   "cell_type": "code",
   "execution_count": 53,
   "metadata": {},
   "outputs": [
    {
     "data": {
      "image/png": "[encoded data removed]",
      "text/plain": [
       "<Figure size 432x288 with 1 Axes>"
      ]
     },
     "metadata": {
      "needs_background": "light"
     },
     "output_type": "display_data"
    }
   ],
   "source": [
    "fpr, tpr, thresholds = roc_curve(y_test, y_pred_prob)\n",
    "\n",
    "plt.plot([0, 1], [0, 1], 'k--')\n",
    "plt.plot(fpr, tpr)\n",
    "# plt.scatter([false_positive_rate], [true_positive_rate], c='red')\n",
    "plt.xlabel('False Positive Rate')\n",
    "plt.ylabel('True Positive Rate')\n",
    "plt.title('ROC Curve')\n",
    "plt.show()"
   ]
  },
  {
   "cell_type": "markdown",
   "metadata": {},
   "source": [
    "## AUC score\n",
    "\n",
    "The area under the ROC curve."
   ]
  },
  {
   "cell_type": "code",
   "execution_count": 49,
   "metadata": {},
   "outputs": [
    {
     "data": {
      "text/plain": [
       "0.7118764538640475"
      ]
     },
     "execution_count": 49,
     "metadata": {},
     "output_type": "execute_result"
    }
   ],
   "source": [
    "y_pred_prob = rf.predict_proba(X_test)[:, 1]\n",
    "roc_auc_score(y_test, y_pred_prob)"
   ]
  },
  {
   "cell_type": "markdown",
   "metadata": {},
   "source": [
    "## Mean Squared Log Error\n",
    "\n",
    "See [calculation method](https://peltarion.com/knowledge-center/documentation/modeling-view/build-an-ai-model/loss-functions/mean-squared-logarithmic-error-(msle))."
   ]
  },
  {
   "cell_type": "code",
   "execution_count": 16,
   "metadata": {},
   "outputs": [
    {
     "name": "stdout",
     "output_type": "stream",
     "text": [
      "MSLE function: 0.83\n",
      "MSLE manual method 1: 0.83\n",
      "MSLE manual method 2: 0.83\n"
     ]
    }
   ],
   "source": [
    "y_true = np.array([100])\n",
    "y_pred = np.array([250])\n",
    "msle_function = mean_squared_log_error(y_true, y_pred)\n",
    "print(\"MSLE function: {:.2f}\".format(msle_function))\n",
    "\n",
    "msle_manual_1 = (np.log(y_true + 1) - np.log(y_pred + 1)) ** 2\n",
    "print(\"MSLE manual method 1: {:.2f}\".format(msle_manual_1[0]))\n",
    "\n",
    "msle_manual_2 = (np.log((y_true + 1) / (y_pred + 1))) ** 2\n",
    "print(\"MSLE manual method 2: {:.2f}\".format(msle_manual_2[0]))"
   ]
  }
 ],
 "metadata": {
  "kernelspec": {
   "display_name": "Python 3",
   "language": "python",
   "name": "python3"
  },
  "language_info": {
   "codemirror_mode": {
    "name": "ipython",
    "version": 3
   },
   "file_extension": ".py",
   "mimetype": "text/x-python",
   "name": "python",
   "nbconvert_exporter": "python",
   "pygments_lexer": "ipython3",
   "version": "3.8.2"
  }
 },
 "nbformat": 4,
 "nbformat_minor": 4
}
