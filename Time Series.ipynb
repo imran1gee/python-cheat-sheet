{
 "cells": [
  {
   "cell_type": "markdown",
   "metadata": {},
   "source": [
    "# Time Series\n",
    "\n",
    "## Create a timestamp"
   ]
  },
  {
   "cell_type": "code",
   "execution_count": 29,
   "metadata": {},
   "outputs": [
    {
     "name": "stdout",
     "output_type": "stream",
     "text": [
      "2020-07-22 00:00:00\n",
      "2020-07-22 00:00:00\n"
     ]
    }
   ],
   "source": [
    "import pandas as pd\n",
    "from datetime import datetime\n",
    "import seaborn as sns\n",
    "import matplotlib.pyplot as plt\n",
    "import numpy as np\n",
    "import numpy_ext as npext\n",
    "\n",
    "# You can use a datetime object\n",
    "ts = pd.Timestamp(datetime(2020, 7, 22))\n",
    "print(ts)\n",
    "\n",
    "# Or more easily a string\n",
    "ts = pd.Timestamp(\"2020-07-22\")\n",
    "print(ts)"
   ]
  },
  {
   "cell_type": "markdown",
   "metadata": {},
   "source": [
    "## Accessing timestamp info"
   ]
  },
  {
   "cell_type": "code",
   "execution_count": 30,
   "metadata": {},
   "outputs": [
    {
     "name": "stdout",
     "output_type": "stream",
     "text": [
      "Year: 2020\n",
      "Week: 30\n",
      "Day Name: Wednesday\n",
      "Time: 00:00:00\n"
     ]
    }
   ],
   "source": [
    "# Some data points are stored as properties:\n",
    "print(\"Year:\", ts.year)\n",
    "print(\"Week:\", ts.week)\n",
    "\n",
    "# While others need to be accessed via methods:\n",
    "print(\"Day Name:\", ts.day_name())\n",
    "print(\"Time:\", ts.time())"
   ]
  },
  {
   "cell_type": "markdown",
   "metadata": {},
   "source": [
    "## Periods"
   ]
  },
  {
   "cell_type": "code",
   "execution_count": 31,
   "metadata": {},
   "outputs": [
    {
     "name": "stdout",
     "output_type": "stream",
     "text": [
      "Period: 2020-07\n",
      "Next Period: 2020-08\n",
      "\n",
      "Period: 2020-07-01\n",
      "Next Period: 2020-07-02\n",
      "\n",
      "Monthly to Daily: 2020-07-31\n",
      "Period to timestamp: 2020-07-01 00:00:00\n",
      "Timestamp to period: 2020-07-22\n"
     ]
    }
   ],
   "source": [
    "# Default frequency is \"M\" (month)\n",
    "period_monthly = pd.Period(\"2020-07\")\n",
    "print(\"Period:\", period_monthly)\n",
    "print(\"Next Period:\", period_monthly + 1)\n",
    "\n",
    "period_daily = pd.Period(\"2020-07-01\", freq=\"D\")\n",
    "print(\"\\nPeriod:\", period_daily)\n",
    "print(\"Next Period:\", period_daily + 1)\n",
    "\n",
    "# Converting frequencies\n",
    "print(\"\\nMonthly to Daily:\", period_monthly.asfreq(\"D\"))\n",
    "\n",
    "# Converting to a timestamp\n",
    "print(\"Period to timestamp:\", period_monthly.to_timestamp())\n",
    "\n",
    "# And can convert timestamps to period:\n",
    "print(\"Timestamp to period:\", pd.Timestamp(\"2020-07-22\").to_period(freq=\"D\"))"
   ]
  },
  {
   "cell_type": "markdown",
   "metadata": {},
   "source": [
    "## Date Ranges"
   ]
  },
  {
   "cell_type": "code",
   "execution_count": 32,
   "metadata": {},
   "outputs": [
    {
     "name": "stdout",
     "output_type": "stream",
     "text": [
      "DatetimeIndex(['2020-07-01', '2020-07-02', '2020-07-03', '2020-07-04',\n",
      "               '2020-07-05', '2020-07-06', '2020-07-07', '2020-07-08',\n",
      "               '2020-07-09', '2020-07-10', '2020-07-11', '2020-07-12',\n",
      "               '2020-07-13', '2020-07-14', '2020-07-15', '2020-07-16',\n",
      "               '2020-07-17', '2020-07-18', '2020-07-19', '2020-07-20',\n",
      "               '2020-07-21', '2020-07-22', '2020-07-23', '2020-07-24',\n",
      "               '2020-07-25', '2020-07-26', '2020-07-27', '2020-07-28',\n",
      "               '2020-07-29', '2020-07-30', '2020-07-31'],\n",
      "              dtype='datetime64[ns]', freq='D')\n",
      "\n",
      " DatetimeIndex(['2020-07-01', '2020-07-02', '2020-07-03', '2020-07-04',\n",
      "               '2020-07-05', '2020-07-06', '2020-07-07', '2020-07-08',\n",
      "               '2020-07-09', '2020-07-10', '2020-07-11', '2020-07-12',\n",
      "               '2020-07-13', '2020-07-14', '2020-07-15', '2020-07-16',\n",
      "               '2020-07-17', '2020-07-18', '2020-07-19', '2020-07-20',\n",
      "               '2020-07-21', '2020-07-22', '2020-07-23', '2020-07-24',\n",
      "               '2020-07-25', '2020-07-26', '2020-07-27', '2020-07-28',\n",
      "               '2020-07-29', '2020-07-30', '2020-07-31'],\n",
      "              dtype='datetime64[ns]', freq='D')\n"
     ]
    }
   ],
   "source": [
    "# With a specific end date:\n",
    "specific_end_date = pd.date_range(start=\"2020-07-01\", end=\"2020-07-31\", freq=\"D\")\n",
    "print(specific_end_date)\n",
    "\n",
    "number_of_periods = pd.date_range(start=\"2020-07-01\", periods=31, freq=\"D\")\n",
    "print(\"\\n\", number_of_periods)\n",
    "\n"
   ]
  },
  {
   "cell_type": "markdown",
   "metadata": {},
   "source": [
    "## Converting a string column to datetime and setting as the index"
   ]
  },
  {
   "cell_type": "code",
   "execution_count": 33,
   "metadata": {},
   "outputs": [
    {
     "data": {
      "text/html": [
       "<div>\n",
       "<style scoped>\n",
       "    .dataframe tbody tr th:only-of-type {\n",
       "        vertical-align: middle;\n",
       "    }\n",
       "\n",
       "    .dataframe tbody tr th {\n",
       "        vertical-align: top;\n",
       "    }\n",
       "\n",
       "    .dataframe thead th {\n",
       "        text-align: right;\n",
       "    }\n",
       "</style>\n",
       "<table border=\"1\" class=\"dataframe\">\n",
       "  <thead>\n",
       "    <tr style=\"text-align: right;\">\n",
       "      <th></th>\n",
       "      <th>values</th>\n",
       "    </tr>\n",
       "    <tr>\n",
       "      <th>date</th>\n",
       "      <th></th>\n",
       "    </tr>\n",
       "  </thead>\n",
       "  <tbody>\n",
       "    <tr>\n",
       "      <th>2020-07-21</th>\n",
       "      <td>5</td>\n",
       "    </tr>\n",
       "    <tr>\n",
       "      <th>2020-07-22</th>\n",
       "      <td>9</td>\n",
       "    </tr>\n",
       "    <tr>\n",
       "      <th>2020-07-23</th>\n",
       "      <td>10</td>\n",
       "    </tr>\n",
       "  </tbody>\n",
       "</table>\n",
       "</div>"
      ],
      "text/plain": [
       "            values\n",
       "date              \n",
       "2020-07-21       5\n",
       "2020-07-22       9\n",
       "2020-07-23      10"
      ]
     },
     "execution_count": 33,
     "metadata": {},
     "output_type": "execute_result"
    }
   ],
   "source": [
    "df = pd.DataFrame({\n",
    "    \"date\": [\"2020-07-21\", \"2020-07-22\", \"2020-07-23\"],\n",
    "    \"values\": [5, 9, 10]\n",
    "})\n",
    "\n",
    "df[\"date\"] = pd.to_datetime(df[\"date\"])\n",
    "df.set_index(\"date\", inplace=True)\n",
    "df"
   ]
  },
  {
   "cell_type": "markdown",
   "metadata": {},
   "source": [
    "## Plotting a time series from a data frame"
   ]
  },
  {
   "cell_type": "code",
   "execution_count": 34,
   "metadata": {},
   "outputs": [
    {
     "data": {
      "image/png": "[encoded data removed]",
      "text/plain": [
       "<Figure size 432x288 with 1 Axes>"
      ]
     },
     "metadata": {
      "needs_background": "light"
     },
     "output_type": "display_data"
    }
   ],
   "source": [
    "index = pd.date_range(start=\"2010-01-01\", end=\"2019-12-31\", freq=\"MS\")\n",
    "values = np.random.randint(0, 100, size=len(index))\n",
    "df = pd.DataFrame(values, columns=[\"price\"], index=index)\n",
    "\n",
    "df.plot()\n",
    "plt.show()"
   ]
  },
  {
   "cell_type": "markdown",
   "metadata": {},
   "source": [
    "## Plotting multiple columns"
   ]
  },
  {
   "cell_type": "code",
   "execution_count": 35,
   "metadata": {},
   "outputs": [
    {
     "name": "stdout",
     "output_type": "stream",
     "text": [
      "            price  users\n",
      "2010-01-01      3      2\n",
      "2010-02-01     99      3\n",
      "2010-03-01     63      1\n",
      "2010-04-01     49      4\n",
      "2010-05-01     67      4\n"
     ]
    },
    {
     "data": {
      "image/png": "[encoded data removed]",
      "text/plain": [
       "<Figure size 432x288 with 2 Axes>"
      ]
     },
     "metadata": {
      "needs_background": "light"
     },
     "output_type": "display_data"
    }
   ],
   "source": [
    "df[\"users\"] = np.random.randint(0, 6, size=len(index))\n",
    "print(df.head())\n",
    "\n",
    "# subplots will cause pyplot to show one chart per column\n",
    "df.plot(subplots=True)\n",
    "plt.show()"
   ]
  },
  {
   "cell_type": "markdown",
   "metadata": {},
   "source": [
    "## Slicing a time series data frame"
   ]
  },
  {
   "cell_type": "code",
   "execution_count": 36,
   "metadata": {},
   "outputs": [
    {
     "name": "stdout",
     "output_type": "stream",
     "text": [
      "            price  users\n",
      "2010-01-01      3      2\n",
      "2010-02-01     99      3\n",
      "2010-03-01     63      1\n",
      "2010-04-01     49      4\n",
      "2010-05-01     67      4\n",
      "\n",
      "Rows in 2018: 12\n",
      "Rows in 2018 - 2019: 24\n",
      "Rows in Jan 2018 - March 2019: 15\n",
      "Price on a specific day 3\n"
     ]
    }
   ],
   "source": [
    "print(df.head())\n",
    "\n",
    "# Slice to get all values in a year\n",
    "print(\"\\nRows in 2018:\", len(df['2018']))\n",
    "\n",
    "# Can also give it a range - note that the second value is inclusive\n",
    "print(\"Rows in 2018 - 2019:\", len(df['2018':'2019']))\n",
    "\n",
    "# Or slice by month\n",
    "print(\"Rows in Jan 2018 - March 2019:\", len(df['2018-01-01':'2019-03-01']))\n",
    "\n",
    "# And of course using loc to grab a specific value\n",
    "print(\"Price on a specific day\", df.loc[\"2010-01-01\", \"price\"])"
   ]
  },
  {
   "cell_type": "markdown",
   "metadata": {},
   "source": [
    "## Changing the frequency of a time series"
   ]
  },
  {
   "cell_type": "code",
   "execution_count": 37,
   "metadata": {},
   "outputs": [
    {
     "name": "stdout",
     "output_type": "stream",
     "text": [
      "Upsampling:\n",
      "             price  users\n",
      "2010-01-01    3.0    2.0\n",
      "2010-01-02    NaN    NaN\n",
      "2010-01-03    NaN    NaN\n",
      "2010-01-04    NaN    NaN\n",
      "2010-01-05    NaN    NaN\n"
     ]
    }
   ],
   "source": [
    "# Upsampling because new frequency is higher than original frequency:\n",
    "daily = df.asfreq(\"D\")\n",
    "\n",
    "print(\"Upsampling:\\n\", daily.head())"
   ]
  },
  {
   "cell_type": "markdown",
   "metadata": {},
   "source": [
    "## Shifting and lagging"
   ]
  },
  {
   "cell_type": "code",
   "execution_count": 38,
   "metadata": {},
   "outputs": [
    {
     "name": "stdout",
     "output_type": "stream",
     "text": [
      "Original:\n",
      "\n",
      "            price\n",
      "2010-01-01     81\n",
      "2010-02-01     93\n",
      "2010-03-01     71\n",
      "2010-04-01      4\n",
      "2010-05-01     58\n",
      "\n",
      "Shifted, lagged, and % change:\n",
      "\n",
      "            price  shifted  lagged  change  percent_change_1  percent_change_2\n",
      "2010-01-01     81      NaN    93.0     NaN               NaN               NaN\n",
      "2010-02-01     93     81.0    71.0    12.0         14.814815         14.814815\n",
      "2010-03-01     71     93.0     4.0   -22.0        -23.655914        -23.655914\n",
      "2010-04-01      4     71.0    58.0   -67.0        -94.366197        -94.366197\n",
      "2010-05-01     58      4.0    17.0    54.0       1350.000000       1350.000000\n"
     ]
    }
   ],
   "source": [
    "index = pd.date_range(start=\"2010-01-01\", end=\"2019-12-31\", freq=\"MS\")\n",
    "values = np.random.randint(0, 100, size=len(index))\n",
    "df = pd.DataFrame(values, columns=[\"price\"], index=index)\n",
    "\n",
    "print(\"Original:\\n\")\n",
    "print(df.head())\n",
    "\n",
    "print(\"\\nShifted, lagged, and % change:\\n\")\n",
    "df[\"shifted\"] = df[\"price\"].shift()\n",
    "df[\"lagged\"] = df[\"price\"].shift(periods=-1)\n",
    "df[\"change\"] = df[\"price\"].diff()\n",
    "df[\"percent_change_1\"] = df[\"price\"].div(df[\"shifted\"]).sub(1).mul(100)\n",
    "df[\"percent_change_2\"] = df[\"price\"].pct_change().mul(100)\n",
    "print(df.head())"
   ]
  },
  {
   "cell_type": "markdown",
   "metadata": {},
   "source": [
    "## Forward and Backfill"
   ]
  },
  {
   "cell_type": "code",
   "execution_count": 39,
   "metadata": {},
   "outputs": [
    {
     "name": "stdout",
     "output_type": "stream",
     "text": [
      "Weekly:\n",
      "             price\n",
      "2010-01-03     31\n",
      "2010-01-10     55\n",
      "2010-01-17     16\n",
      "2010-01-24     38\n",
      "2010-01-31     57\n",
      "\n",
      "Daily:\n",
      "             default  ffill  bfill  zero\n",
      "2010-01-03     31.0     31     31    31\n",
      "2010-01-04      NaN     31     55     0\n",
      "2010-01-05      NaN     31     55     0\n",
      "2010-01-06      NaN     31     55     0\n",
      "2010-01-07      NaN     31     55     0\n",
      "2010-01-08      NaN     31     55     0\n",
      "2010-01-09      NaN     31     55     0\n",
      "2010-01-10     55.0     55     55    55\n",
      "2010-01-11      NaN     55     16     0\n",
      "2010-01-12      NaN     55     16     0\n",
      "2010-01-13      NaN     55     16     0\n",
      "2010-01-14      NaN     55     16     0\n",
      "2010-01-15      NaN     55     16     0\n",
      "2010-01-16      NaN     55     16     0\n",
      "2010-01-17     16.0     16     16    16\n",
      "2010-01-18      NaN     16     38     0\n",
      "2010-01-19      NaN     16     38     0\n",
      "2010-01-20      NaN     16     38     0\n",
      "2010-01-21      NaN     16     38     0\n",
      "2010-01-22      NaN     16     38     0\n",
      "2010-01-23      NaN     16     38     0\n",
      "2010-01-24     38.0     38     38    38\n",
      "2010-01-25      NaN     38     57     0\n",
      "2010-01-26      NaN     38     57     0\n",
      "2010-01-27      NaN     38     57     0\n",
      "2010-01-28      NaN     38     57     0\n",
      "2010-01-29      NaN     38     57     0\n",
      "2010-01-30      NaN     38     57     0\n",
      "2010-01-31     57.0     57     57    57\n"
     ]
    }
   ],
   "source": [
    "index = pd.date_range(start=\"2010-01-01\", end=\"2010-01-31\", freq=\"W\")\n",
    "values = np.random.randint(0, 100, size=len(index))\n",
    "df_weekly = pd.DataFrame(values, columns=[\"price\"], index=index)\n",
    "\n",
    "print(\"Weekly:\\n\", df_weekly)\n",
    "\n",
    "df_daily = df_weekly.asfreq(\"D\")\n",
    "df_daily_ffill = df_weekly.asfreq(\"D\", method=\"ffill\")\n",
    "df_daily_bfill = df_weekly.asfreq(\"D\", method=\"bfill\")\n",
    "df_daily_zero = df_weekly.asfreq(\"D\", fill_value=0)\n",
    "\n",
    "combined = pd.concat([df_daily, df_daily_ffill, df_daily_bfill, df_daily_zero], axis=1)\n",
    "combined.columns = [\"default\", \"ffill\", \"bfill\", \"zero\"]\n",
    "print(\"\\nDaily:\\n\", combined)"
   ]
  },
  {
   "cell_type": "markdown",
   "metadata": {},
   "source": [
    "## Upsampling with resampling and reindexing"
   ]
  },
  {
   "cell_type": "code",
   "execution_count": 40,
   "metadata": {},
   "outputs": [
    {
     "name": "stdout",
     "output_type": "stream",
     "text": [
      "Original:\n",
      "             price\n",
      "2010-01-01     10\n",
      "2010-04-01     20\n",
      "2010-07-01     30\n",
      "2010-10-01     40\n",
      "\n",
      "Forward fill:\n",
      "             price_ffill\n",
      "2010-01-01           10\n",
      "2010-02-01           10\n",
      "2010-03-01           10\n",
      "2010-04-01           20\n",
      "2010-05-01           20\n",
      "2010-06-01           20\n",
      "2010-07-01           30\n",
      "2010-08-01           30\n",
      "2010-09-01           30\n",
      "2010-10-01           40\n",
      "\n",
      "Back fill:\n",
      "             price_bfill\n",
      "2010-01-01           10\n",
      "2010-02-01           20\n",
      "2010-03-01           20\n",
      "2010-04-01           20\n",
      "2010-05-01           30\n",
      "2010-06-01           30\n",
      "2010-07-01           30\n",
      "2010-08-01           40\n",
      "2010-09-01           40\n",
      "2010-10-01           40\n",
      "\n",
      "Interpolate:\n",
      "             price_interpolate\n",
      "2010-01-01          10.000000\n",
      "2010-02-01          13.333333\n",
      "2010-03-01          16.666667\n",
      "2010-04-01          20.000000\n",
      "2010-05-01          23.333333\n",
      "2010-06-01          26.666667\n",
      "2010-07-01          30.000000\n",
      "2010-08-01          33.333333\n",
      "2010-09-01          36.666667\n",
      "2010-10-01          40.000000\n",
      "\n",
      "Reindexed:\n",
      "             price\n",
      "2010-01-01   10.0\n",
      "2010-02-01    NaN\n",
      "2010-03-01    NaN\n",
      "2010-04-01   20.0\n",
      "2010-05-01    NaN\n",
      "2010-06-01    NaN\n",
      "2010-07-01   30.0\n",
      "2010-08-01    NaN\n",
      "2010-09-01    NaN\n",
      "2010-10-01   40.0\n",
      "\n",
      "Reindexed forward filled:\n",
      "             price\n",
      "2010-01-01   10.0\n",
      "2010-02-01   10.0\n",
      "2010-03-01   10.0\n",
      "2010-04-01   20.0\n",
      "2010-05-01   20.0\n",
      "2010-06-01   20.0\n",
      "2010-07-01   30.0\n",
      "2010-08-01   30.0\n",
      "2010-09-01   30.0\n",
      "2010-10-01   40.0\n",
      "\n",
      "Reindexed back filled:\n",
      "             price\n",
      "2010-01-01   10.0\n",
      "2010-02-01   20.0\n",
      "2010-03-01   20.0\n",
      "2010-04-01   20.0\n",
      "2010-05-01   30.0\n",
      "2010-06-01   30.0\n",
      "2010-07-01   30.0\n",
      "2010-08-01   40.0\n",
      "2010-09-01   40.0\n",
      "2010-10-01   40.0\n",
      "\n",
      "Reindexed interpolated:\n",
      "                 price\n",
      "2010-01-01  10.000000\n",
      "2010-02-01  13.333333\n",
      "2010-03-01  16.666667\n",
      "2010-04-01  20.000000\n",
      "2010-05-01  23.333333\n",
      "2010-06-01  26.666667\n",
      "2010-07-01  30.000000\n",
      "2010-08-01  33.333333\n",
      "2010-09-01  36.666667\n",
      "2010-10-01  40.000000\n"
     ]
    }
   ],
   "source": [
    "index = pd.date_range(start=\"2010-01-01\", periods=4, freq=\"QS\")\n",
    "quarterly = pd.DataFrame([10, 20, 30, 40], columns=[\"price\"], index=index)\n",
    "print(\"Original:\\n\", quarterly)\n",
    "\n",
    "# Resampling\n",
    "print(\"\\nForward fill:\\n\", quarterly.resample(\"MS\").ffill().add_suffix(\"_ffill\"))\n",
    "print(\"\\nBack fill:\\n\", quarterly.resample(\"MS\").bfill().add_suffix(\"_bfill\"))\n",
    "print(\"\\nInterpolate:\\n\", quarterly.resample(\"MS\").interpolate().add_suffix(\"_interpolate\"))\n",
    "\n",
    "# Reindexing\n",
    "monthly_dates = pd.date_range(start=quarterly.index.min(), end=quarterly.index.max(), freq=\"MS\")\n",
    "monthly = quarterly.reindex(monthly_dates)\n",
    "print(\"\\nReindexed:\\n\", monthly)\n",
    "print(\"\\nReindexed forward filled:\\n\", monthly.ffill())\n",
    "print(\"\\nReindexed back filled:\\n\", monthly.bfill())\n",
    "print(\"\\nReindexed interpolated:\\n\", monthly.interpolate())\n"
   ]
  },
  {
   "cell_type": "markdown",
   "metadata": {},
   "source": [
    "## Upsampling with resampling"
   ]
  },
  {
   "cell_type": "code",
   "execution_count": 41,
   "metadata": {},
   "outputs": [
    {
     "name": "stdout",
     "output_type": "stream",
     "text": [
      "Original:\n",
      "                  price\n",
      "2010-01-01  105.760342\n",
      "2010-04-01  105.470327\n",
      "2010-07-01  101.285692\n",
      "2010-10-01   93.737199\n",
      "2011-01-01   99.067561\n",
      "\n",
      "Yearly Total:\n",
      "                  price\n",
      "2010-01-01  406.253560\n",
      "2011-01-01  412.188495\n",
      "2012-01-01  384.261394\n",
      "2013-01-01  383.374547\n",
      "2014-01-01  395.804996\n",
      "\n",
      "Yearly Mean:\n",
      "                  price\n",
      "2010-01-01  101.563390\n",
      "2011-01-01  103.047124\n",
      "2012-01-01   96.065348\n",
      "2013-01-01   95.843637\n",
      "2014-01-01   98.951249\n",
      "\n",
      "Yearly First:\n",
      "                  price\n",
      "2010-01-01  105.760342\n",
      "2011-01-01   99.067561\n",
      "2012-01-01   90.288714\n",
      "2013-01-01   86.691613\n",
      "2014-01-01   99.418390\n",
      "\n",
      "Yearly Last:\n",
      "                  price\n",
      "2010-01-01   93.737199\n",
      "2011-01-01  104.076291\n",
      "2012-01-01   85.726936\n",
      "2013-01-01   97.389707\n",
      "2014-01-01   97.697832\n"
     ]
    },
    {
     "data": {
      "image/png": "[encoded data removed]",
      "text/plain": [
       "<Figure size 432x288 with 1 Axes>"
      ]
     },
     "metadata": {
      "needs_background": "light"
     },
     "output_type": "display_data"
    }
   ],
   "source": [
    "index = pd.date_range(start=\"2010-01-01\", periods=40, freq=\"QS\")\n",
    "values = np.random.normal(loc=100, scale=5, size=len(index))\n",
    "quarterly = pd.DataFrame(values, columns=[\"price\"], index=index)\n",
    "print(\"Original:\\n\", quarterly.head())\n",
    "\n",
    "print(\"\\nYearly Total:\\n\", quarterly.resample(\"YS\").sum().head())\n",
    "print(\"\\nYearly Mean:\\n\", quarterly.resample(\"YS\").mean().head())\n",
    "print(\"\\nYearly First:\\n\", quarterly.resample(\"YS\").first().head())\n",
    "print(\"\\nYearly Last:\\n\", quarterly.resample(\"YS\").last().head())\n",
    "\n",
    "ax = quarterly.add_suffix(\"_quarterly\").plot()\n",
    "quarterly.resample(\"YS\").mean().add_suffix(\"_yearly_avg\").plot(ax=ax, title=\"Quarterly Values & Yearly Average\")\n",
    "plt.show()"
   ]
  },
  {
   "cell_type": "markdown",
   "metadata": {},
   "source": [
    "## Rolling Windows"
   ]
  },
  {
   "cell_type": "code",
   "execution_count": 42,
   "metadata": {},
   "outputs": [
    {
     "name": "stdout",
     "output_type": "stream",
     "text": [
      "Original:\n",
      "             price\n",
      "date             \n",
      "2020-07-01      1\n",
      "2020-07-03      2\n",
      "2020-07-05      3\n",
      "2020-07-07      4\n",
      "2020-07-09      5\n",
      "2020-07-11      6\n",
      "2020-07-13      7\n",
      "2020-07-15      8\n",
      "2020-07-17      9\n",
      "2020-07-19     10\n",
      "2020-07-21     11\n",
      "2020-07-23     12\n",
      "2020-07-25     13\n",
      "2020-07-27     14\n",
      "2020-07-29     15\n",
      "2020-07-31     16\n",
      "\n",
      "Mean Last 2 Rows (including this date):\n",
      "             price\n",
      "date             \n",
      "2020-07-01    NaN\n",
      "2020-07-03    1.5\n",
      "2020-07-05    2.5\n",
      "2020-07-07    3.5\n",
      "2020-07-09    4.5\n",
      "2020-07-11    5.5\n",
      "2020-07-13    6.5\n",
      "2020-07-15    7.5\n",
      "2020-07-17    8.5\n",
      "2020-07-19    9.5\n",
      "2020-07-21   10.5\n",
      "2020-07-23   11.5\n",
      "2020-07-25   12.5\n",
      "2020-07-27   13.5\n",
      "2020-07-29   14.5\n",
      "2020-07-31   15.5\n",
      "\n",
      "Mean Last 2 Days (including this date):\n",
      "             price\n",
      "date             \n",
      "2020-07-01    1.0\n",
      "2020-07-03    2.0\n",
      "2020-07-05    3.0\n",
      "2020-07-07    4.0\n",
      "2020-07-09    5.0\n",
      "2020-07-11    6.0\n",
      "2020-07-13    7.0\n",
      "2020-07-15    8.0\n",
      "2020-07-17    9.0\n",
      "2020-07-19   10.0\n",
      "2020-07-21   11.0\n",
      "2020-07-23   12.0\n",
      "2020-07-25   13.0\n",
      "2020-07-27   14.0\n",
      "2020-07-29   15.0\n",
      "2020-07-31   16.0\n"
     ]
    }
   ],
   "source": [
    "index = pd.date_range(start=\"2020-07-01\", end=\"2020-07-31\", freq=\"2D\")\n",
    "every_two_days = pd.DataFrame({\n",
    "    \"date\": index,\n",
    "    \"price\": range(1, len(index) + 1)\n",
    "})\n",
    "every_two_days.set_index(\"date\", inplace=True)\n",
    "\n",
    "print(\"Original:\\n\", every_two_days)\n",
    "\n",
    "print(\"\\nMean Last 2 Rows (including this date):\\n\", every_two_days.rolling(window=2).mean())\n",
    "print(\"\\nMean Last 2 Days (including this date):\\n\", every_two_days.rolling(window=\"2D\").mean())"
   ]
  },
  {
   "cell_type": "markdown",
   "metadata": {},
   "source": [
    "## Expanding Windows"
   ]
  },
  {
   "cell_type": "code",
   "execution_count": 43,
   "metadata": {
    "scrolled": true
   },
   "outputs": [
    {
     "data": {
      "text/html": [
       "<div>\n",
       "<style scoped>\n",
       "    .dataframe tbody tr th:only-of-type {\n",
       "        vertical-align: middle;\n",
       "    }\n",
       "\n",
       "    .dataframe tbody tr th {\n",
       "        vertical-align: top;\n",
       "    }\n",
       "\n",
       "    .dataframe thead th {\n",
       "        text-align: right;\n",
       "    }\n",
       "</style>\n",
       "<table border=\"1\" class=\"dataframe\">\n",
       "  <thead>\n",
       "    <tr style=\"text-align: right;\">\n",
       "      <th></th>\n",
       "      <th>price</th>\n",
       "      <th>cumsum</th>\n",
       "    </tr>\n",
       "  </thead>\n",
       "  <tbody>\n",
       "    <tr>\n",
       "      <th>0</th>\n",
       "      <td>1</td>\n",
       "      <td>1</td>\n",
       "    </tr>\n",
       "    <tr>\n",
       "      <th>1</th>\n",
       "      <td>2</td>\n",
       "      <td>3</td>\n",
       "    </tr>\n",
       "    <tr>\n",
       "      <th>2</th>\n",
       "      <td>3</td>\n",
       "      <td>6</td>\n",
       "    </tr>\n",
       "    <tr>\n",
       "      <th>3</th>\n",
       "      <td>4</td>\n",
       "      <td>10</td>\n",
       "    </tr>\n",
       "    <tr>\n",
       "      <th>4</th>\n",
       "      <td>5</td>\n",
       "      <td>15</td>\n",
       "    </tr>\n",
       "  </tbody>\n",
       "</table>\n",
       "</div>"
      ],
      "text/plain": [
       "   price  cumsum\n",
       "0      1       1\n",
       "1      2       3\n",
       "2      3       6\n",
       "3      4      10\n",
       "4      5      15"
      ]
     },
     "execution_count": 43,
     "metadata": {},
     "output_type": "execute_result"
    }
   ],
   "source": [
    "df = pd.DataFrame({\n",
    "    \"price\": range(1, 6)\n",
    "})\n",
    "df[\"cumsum\"] = df[\"price\"].cumsum()\n",
    "df"
   ]
  },
  {
   "cell_type": "markdown",
   "metadata": {},
   "source": [
    "## Plotting a time series"
   ]
  },
  {
   "cell_type": "code",
   "execution_count": 44,
   "metadata": {},
   "outputs": [
    {
     "data": {
      "text/html": [
       "<div>\n",
       "<style scoped>\n",
       "    .dataframe tbody tr th:only-of-type {\n",
       "        vertical-align: middle;\n",
       "    }\n",
       "\n",
       "    .dataframe tbody tr th {\n",
       "        vertical-align: top;\n",
       "    }\n",
       "\n",
       "    .dataframe thead th {\n",
       "        text-align: right;\n",
       "    }\n",
       "</style>\n",
       "<table border=\"1\" class=\"dataframe\">\n",
       "  <thead>\n",
       "    <tr style=\"text-align: right;\">\n",
       "      <th></th>\n",
       "      <th>DateSold</th>\n",
       "      <th>SalePrice</th>\n",
       "    </tr>\n",
       "  </thead>\n",
       "  <tbody>\n",
       "    <tr>\n",
       "      <th>0</th>\n",
       "      <td>2008-02-01</td>\n",
       "      <td>208500</td>\n",
       "    </tr>\n",
       "    <tr>\n",
       "      <th>1</th>\n",
       "      <td>2007-05-01</td>\n",
       "      <td>181500</td>\n",
       "    </tr>\n",
       "    <tr>\n",
       "      <th>2</th>\n",
       "      <td>2008-09-01</td>\n",
       "      <td>223500</td>\n",
       "    </tr>\n",
       "    <tr>\n",
       "      <th>3</th>\n",
       "      <td>2006-02-01</td>\n",
       "      <td>140000</td>\n",
       "    </tr>\n",
       "    <tr>\n",
       "      <th>4</th>\n",
       "      <td>2008-12-01</td>\n",
       "      <td>250000</td>\n",
       "    </tr>\n",
       "  </tbody>\n",
       "</table>\n",
       "</div>"
      ],
      "text/plain": [
       "    DateSold  SalePrice\n",
       "0 2008-02-01     208500\n",
       "1 2007-05-01     181500\n",
       "2 2008-09-01     223500\n",
       "3 2006-02-01     140000\n",
       "4 2008-12-01     250000"
      ]
     },
     "execution_count": 44,
     "metadata": {},
     "output_type": "execute_result"
    }
   ],
   "source": [
    "house_prices = pd.read_csv(\"data/house-prices.csv\")\n",
    "house_prices[\"DateSold\"] = house_prices.apply(lambda row: datetime(row[\"YrSold\"], row[\"MoSold\"], 1), axis=1)\n",
    "\n",
    "df_timeseries = house_prices[[\"DateSold\", \"SalePrice\"]]\n",
    "df_timeseries.head()"
   ]
  },
  {
   "cell_type": "code",
   "execution_count": 45,
   "metadata": {},
   "outputs": [
    {
     "data": {
      "image/png": "[encoded data removed]",
      "text/plain": [
       "<Figure size 432x288 with 1 Axes>"
      ]
     },
     "metadata": {
      "needs_background": "light"
     },
     "output_type": "display_data"
    }
   ],
   "source": [
    "ax = sns.lineplot(x=\"DateSold\", y=\"SalePrice\", data=df_timeseries,ci=None)\n",
    "bounds = df_timeseries.groupby('DateSold')['SalePrice'].quantile((0.25,0.75)).unstack()\n",
    "ax.fill_between(x=bounds.index, y1=bounds.iloc[:,0], y2=bounds.iloc[:,1], alpha=0.1)\n",
    "plt.xticks(rotation=90)\n",
    "plt.xlabel(\"Month Sold\")\n",
    "plt.show()\n"
   ]
  },
  {
   "cell_type": "markdown",
   "metadata": {},
   "source": [
    "## Rolling with criteria"
   ]
  },
  {
   "cell_type": "code",
   "execution_count": 47,
   "metadata": {},
   "outputs": [
    {
     "data": {
      "text/html": [
       "<div>\n",
       "<style scoped>\n",
       "    .dataframe tbody tr th:only-of-type {\n",
       "        vertical-align: middle;\n",
       "    }\n",
       "\n",
       "    .dataframe tbody tr th {\n",
       "        vertical-align: top;\n",
       "    }\n",
       "\n",
       "    .dataframe thead th {\n",
       "        text-align: right;\n",
       "    }\n",
       "</style>\n",
       "<table border=\"1\" class=\"dataframe\">\n",
       "  <thead>\n",
       "    <tr style=\"text-align: right;\">\n",
       "      <th></th>\n",
       "      <th>price</th>\n",
       "      <th>dow</th>\n",
       "      <th>is_weekend</th>\n",
       "      <th>recent_avg_weekday_price</th>\n",
       "      <th>recent_avg_weekend_price</th>\n",
       "    </tr>\n",
       "    <tr>\n",
       "      <th>date</th>\n",
       "      <th></th>\n",
       "      <th></th>\n",
       "      <th></th>\n",
       "      <th></th>\n",
       "      <th></th>\n",
       "    </tr>\n",
       "  </thead>\n",
       "  <tbody>\n",
       "    <tr>\n",
       "      <th>2020-07-01</th>\n",
       "      <td>1</td>\n",
       "      <td>Wednesday</td>\n",
       "      <td>False</td>\n",
       "      <td>NaN</td>\n",
       "      <td>NaN</td>\n",
       "    </tr>\n",
       "    <tr>\n",
       "      <th>2020-07-02</th>\n",
       "      <td>2</td>\n",
       "      <td>Thursday</td>\n",
       "      <td>False</td>\n",
       "      <td>NaN</td>\n",
       "      <td>NaN</td>\n",
       "    </tr>\n",
       "    <tr>\n",
       "      <th>2020-07-03</th>\n",
       "      <td>3</td>\n",
       "      <td>Friday</td>\n",
       "      <td>False</td>\n",
       "      <td>NaN</td>\n",
       "      <td>NaN</td>\n",
       "    </tr>\n",
       "    <tr>\n",
       "      <th>2020-07-04</th>\n",
       "      <td>4</td>\n",
       "      <td>Saturday</td>\n",
       "      <td>True</td>\n",
       "      <td>NaN</td>\n",
       "      <td>NaN</td>\n",
       "    </tr>\n",
       "    <tr>\n",
       "      <th>2020-07-05</th>\n",
       "      <td>5</td>\n",
       "      <td>Sunday</td>\n",
       "      <td>True</td>\n",
       "      <td>NaN</td>\n",
       "      <td>NaN</td>\n",
       "    </tr>\n",
       "    <tr>\n",
       "      <th>2020-07-06</th>\n",
       "      <td>6</td>\n",
       "      <td>Monday</td>\n",
       "      <td>False</td>\n",
       "      <td>NaN</td>\n",
       "      <td>NaN</td>\n",
       "    </tr>\n",
       "    <tr>\n",
       "      <th>2020-07-07</th>\n",
       "      <td>7</td>\n",
       "      <td>Tuesday</td>\n",
       "      <td>False</td>\n",
       "      <td>NaN</td>\n",
       "      <td>NaN</td>\n",
       "    </tr>\n",
       "    <tr>\n",
       "      <th>2020-07-08</th>\n",
       "      <td>8</td>\n",
       "      <td>Wednesday</td>\n",
       "      <td>False</td>\n",
       "      <td>3.8</td>\n",
       "      <td>4.5</td>\n",
       "    </tr>\n",
       "    <tr>\n",
       "      <th>2020-07-09</th>\n",
       "      <td>9</td>\n",
       "      <td>Thursday</td>\n",
       "      <td>False</td>\n",
       "      <td>5.2</td>\n",
       "      <td>4.5</td>\n",
       "    </tr>\n",
       "    <tr>\n",
       "      <th>2020-07-10</th>\n",
       "      <td>10</td>\n",
       "      <td>Friday</td>\n",
       "      <td>False</td>\n",
       "      <td>6.6</td>\n",
       "      <td>4.5</td>\n",
       "    </tr>\n",
       "    <tr>\n",
       "      <th>2020-07-11</th>\n",
       "      <td>11</td>\n",
       "      <td>Saturday</td>\n",
       "      <td>True</td>\n",
       "      <td>8.0</td>\n",
       "      <td>4.5</td>\n",
       "    </tr>\n",
       "    <tr>\n",
       "      <th>2020-07-12</th>\n",
       "      <td>12</td>\n",
       "      <td>Sunday</td>\n",
       "      <td>True</td>\n",
       "      <td>8.0</td>\n",
       "      <td>8.0</td>\n",
       "    </tr>\n",
       "    <tr>\n",
       "      <th>2020-07-13</th>\n",
       "      <td>13</td>\n",
       "      <td>Monday</td>\n",
       "      <td>False</td>\n",
       "      <td>8.0</td>\n",
       "      <td>11.5</td>\n",
       "    </tr>\n",
       "    <tr>\n",
       "      <th>2020-07-14</th>\n",
       "      <td>14</td>\n",
       "      <td>Tuesday</td>\n",
       "      <td>False</td>\n",
       "      <td>9.4</td>\n",
       "      <td>11.5</td>\n",
       "    </tr>\n",
       "    <tr>\n",
       "      <th>2020-07-15</th>\n",
       "      <td>15</td>\n",
       "      <td>Wednesday</td>\n",
       "      <td>False</td>\n",
       "      <td>10.8</td>\n",
       "      <td>11.5</td>\n",
       "    </tr>\n",
       "    <tr>\n",
       "      <th>2020-07-16</th>\n",
       "      <td>16</td>\n",
       "      <td>Thursday</td>\n",
       "      <td>False</td>\n",
       "      <td>12.2</td>\n",
       "      <td>11.5</td>\n",
       "    </tr>\n",
       "    <tr>\n",
       "      <th>2020-07-17</th>\n",
       "      <td>17</td>\n",
       "      <td>Friday</td>\n",
       "      <td>False</td>\n",
       "      <td>13.6</td>\n",
       "      <td>11.5</td>\n",
       "    </tr>\n",
       "    <tr>\n",
       "      <th>2020-07-18</th>\n",
       "      <td>18</td>\n",
       "      <td>Saturday</td>\n",
       "      <td>True</td>\n",
       "      <td>15.0</td>\n",
       "      <td>11.5</td>\n",
       "    </tr>\n",
       "    <tr>\n",
       "      <th>2020-07-19</th>\n",
       "      <td>19</td>\n",
       "      <td>Sunday</td>\n",
       "      <td>True</td>\n",
       "      <td>15.0</td>\n",
       "      <td>15.0</td>\n",
       "    </tr>\n",
       "    <tr>\n",
       "      <th>2020-07-20</th>\n",
       "      <td>20</td>\n",
       "      <td>Monday</td>\n",
       "      <td>False</td>\n",
       "      <td>15.0</td>\n",
       "      <td>18.5</td>\n",
       "    </tr>\n",
       "    <tr>\n",
       "      <th>2020-07-21</th>\n",
       "      <td>21</td>\n",
       "      <td>Tuesday</td>\n",
       "      <td>False</td>\n",
       "      <td>16.4</td>\n",
       "      <td>18.5</td>\n",
       "    </tr>\n",
       "    <tr>\n",
       "      <th>2020-07-22</th>\n",
       "      <td>22</td>\n",
       "      <td>Wednesday</td>\n",
       "      <td>False</td>\n",
       "      <td>17.8</td>\n",
       "      <td>18.5</td>\n",
       "    </tr>\n",
       "    <tr>\n",
       "      <th>2020-07-23</th>\n",
       "      <td>23</td>\n",
       "      <td>Thursday</td>\n",
       "      <td>False</td>\n",
       "      <td>19.2</td>\n",
       "      <td>18.5</td>\n",
       "    </tr>\n",
       "    <tr>\n",
       "      <th>2020-07-24</th>\n",
       "      <td>24</td>\n",
       "      <td>Friday</td>\n",
       "      <td>False</td>\n",
       "      <td>20.6</td>\n",
       "      <td>18.5</td>\n",
       "    </tr>\n",
       "    <tr>\n",
       "      <th>2020-07-25</th>\n",
       "      <td>25</td>\n",
       "      <td>Saturday</td>\n",
       "      <td>True</td>\n",
       "      <td>22.0</td>\n",
       "      <td>18.5</td>\n",
       "    </tr>\n",
       "    <tr>\n",
       "      <th>2020-07-26</th>\n",
       "      <td>26</td>\n",
       "      <td>Sunday</td>\n",
       "      <td>True</td>\n",
       "      <td>22.0</td>\n",
       "      <td>22.0</td>\n",
       "    </tr>\n",
       "    <tr>\n",
       "      <th>2020-07-27</th>\n",
       "      <td>27</td>\n",
       "      <td>Monday</td>\n",
       "      <td>False</td>\n",
       "      <td>22.0</td>\n",
       "      <td>25.5</td>\n",
       "    </tr>\n",
       "    <tr>\n",
       "      <th>2020-07-28</th>\n",
       "      <td>28</td>\n",
       "      <td>Tuesday</td>\n",
       "      <td>False</td>\n",
       "      <td>23.4</td>\n",
       "      <td>25.5</td>\n",
       "    </tr>\n",
       "    <tr>\n",
       "      <th>2020-07-29</th>\n",
       "      <td>29</td>\n",
       "      <td>Wednesday</td>\n",
       "      <td>False</td>\n",
       "      <td>24.8</td>\n",
       "      <td>25.5</td>\n",
       "    </tr>\n",
       "    <tr>\n",
       "      <th>2020-07-30</th>\n",
       "      <td>30</td>\n",
       "      <td>Thursday</td>\n",
       "      <td>False</td>\n",
       "      <td>26.2</td>\n",
       "      <td>25.5</td>\n",
       "    </tr>\n",
       "    <tr>\n",
       "      <th>2020-07-31</th>\n",
       "      <td>31</td>\n",
       "      <td>Friday</td>\n",
       "      <td>False</td>\n",
       "      <td>27.6</td>\n",
       "      <td>25.5</td>\n",
       "    </tr>\n",
       "  </tbody>\n",
       "</table>\n",
       "</div>"
      ],
      "text/plain": [
       "            price        dow  is_weekend  recent_avg_weekday_price  \\\n",
       "date                                                                 \n",
       "2020-07-01      1  Wednesday       False                       NaN   \n",
       "2020-07-02      2   Thursday       False                       NaN   \n",
       "2020-07-03      3     Friday       False                       NaN   \n",
       "2020-07-04      4   Saturday        True                       NaN   \n",
       "2020-07-05      5     Sunday        True                       NaN   \n",
       "2020-07-06      6     Monday       False                       NaN   \n",
       "2020-07-07      7    Tuesday       False                       NaN   \n",
       "2020-07-08      8  Wednesday       False                       3.8   \n",
       "2020-07-09      9   Thursday       False                       5.2   \n",
       "2020-07-10     10     Friday       False                       6.6   \n",
       "2020-07-11     11   Saturday        True                       8.0   \n",
       "2020-07-12     12     Sunday        True                       8.0   \n",
       "2020-07-13     13     Monday       False                       8.0   \n",
       "2020-07-14     14    Tuesday       False                       9.4   \n",
       "2020-07-15     15  Wednesday       False                      10.8   \n",
       "2020-07-16     16   Thursday       False                      12.2   \n",
       "2020-07-17     17     Friday       False                      13.6   \n",
       "2020-07-18     18   Saturday        True                      15.0   \n",
       "2020-07-19     19     Sunday        True                      15.0   \n",
       "2020-07-20     20     Monday       False                      15.0   \n",
       "2020-07-21     21    Tuesday       False                      16.4   \n",
       "2020-07-22     22  Wednesday       False                      17.8   \n",
       "2020-07-23     23   Thursday       False                      19.2   \n",
       "2020-07-24     24     Friday       False                      20.6   \n",
       "2020-07-25     25   Saturday        True                      22.0   \n",
       "2020-07-26     26     Sunday        True                      22.0   \n",
       "2020-07-27     27     Monday       False                      22.0   \n",
       "2020-07-28     28    Tuesday       False                      23.4   \n",
       "2020-07-29     29  Wednesday       False                      24.8   \n",
       "2020-07-30     30   Thursday       False                      26.2   \n",
       "2020-07-31     31     Friday       False                      27.6   \n",
       "\n",
       "            recent_avg_weekend_price  \n",
       "date                                  \n",
       "2020-07-01                       NaN  \n",
       "2020-07-02                       NaN  \n",
       "2020-07-03                       NaN  \n",
       "2020-07-04                       NaN  \n",
       "2020-07-05                       NaN  \n",
       "2020-07-06                       NaN  \n",
       "2020-07-07                       NaN  \n",
       "2020-07-08                       4.5  \n",
       "2020-07-09                       4.5  \n",
       "2020-07-10                       4.5  \n",
       "2020-07-11                       4.5  \n",
       "2020-07-12                       8.0  \n",
       "2020-07-13                      11.5  \n",
       "2020-07-14                      11.5  \n",
       "2020-07-15                      11.5  \n",
       "2020-07-16                      11.5  \n",
       "2020-07-17                      11.5  \n",
       "2020-07-18                      11.5  \n",
       "2020-07-19                      15.0  \n",
       "2020-07-20                      18.5  \n",
       "2020-07-21                      18.5  \n",
       "2020-07-22                      18.5  \n",
       "2020-07-23                      18.5  \n",
       "2020-07-24                      18.5  \n",
       "2020-07-25                      18.5  \n",
       "2020-07-26                      22.0  \n",
       "2020-07-27                      25.5  \n",
       "2020-07-28                      25.5  \n",
       "2020-07-29                      25.5  \n",
       "2020-07-30                      25.5  \n",
       "2020-07-31                      25.5  "
      ]
     },
     "metadata": {},
     "output_type": "display_data"
    }
   ],
   "source": [
    "index = pd.date_range(start=\"2020-07-01\", end=\"2020-07-31\")\n",
    "df = pd.DataFrame({\n",
    "    \"date\": index,\n",
    "    \"price\": range(1, len(index) + 1)\n",
    "})\n",
    "df[\"dow\"] = df[\"date\"].apply(lambda x: x.strftime(\"%A\"))\n",
    "df[\"is_weekend\"] = df[\"date\"].apply(lambda x: x.weekday() >= 5)\n",
    "\n",
    "def recent_avg_weekday_price(price, is_weekend):\n",
    "    return np.nanmean(np.where(is_weekend[:-1], np.nan, price[:-1]))\n",
    "\n",
    "def recent_avg_weekend_price(price, is_weekend):\n",
    "    return np.nanmean(np.where(is_weekend[:-1], price[:-1], np.nan))\n",
    "\n",
    "df[\"recent_avg_weekday_price\"] = npext.rolling_apply(recent_avg_weekday_price, 8, df[\"price\"].values, df[\"is_weekend\"].values)\n",
    "df[\"recent_avg_weekend_price\"] = npext.rolling_apply(recent_avg_weekend_price, 8, df[\"price\"].values, df[\"is_weekend\"].values)\n",
    "\n",
    "\n",
    "df.set_index(\"date\", inplace=True)\n",
    "\n",
    "display(df)\n",
    "\n",
    "\n"
   ]
  },
  {
   "cell_type": "code",
   "execution_count": null,
   "metadata": {},
   "outputs": [],
   "source": []
  },
  {
   "cell_type": "code",
   "execution_count": null,
   "metadata": {},
   "outputs": [],
   "source": []
  }
 ],
 "metadata": {
  "kernelspec": {
   "display_name": "Python 3",
   "language": "python",
   "name": "python3"
  },
  "language_info": {
   "codemirror_mode": {
    "name": "ipython",
    "version": 3
   },
   "file_extension": ".py",
   "mimetype": "text/x-python",
   "name": "python",
   "nbconvert_exporter": "python",
   "pygments_lexer": "ipython3",
   "version": "3.8.2"
  }
 },
 "nbformat": 4,
 "nbformat_minor": 4
}
