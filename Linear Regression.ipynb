{
 "cells": [
  {
   "cell_type": "markdown",
   "metadata": {},
   "source": [
    "# Linear Regression\n",
    "\n",
    "References:\n",
    "    \n",
    "* [Dimensionality Reduction in Python](https://campus.datacamp.com/courses/dimensionality-reduction-in-python/feature-selection-ii-selecting-for-model-accuracy)\n",
    "* [Lasso Documentation](https://scikit-learn.org/stable/modules/generated/sklearn.linear_model.Lasso.html)"
   ]
  },
  {
   "cell_type": "code",
   "execution_count": 288,
   "metadata": {},
   "outputs": [],
   "source": [
    "import numpy as np\n",
    "import pandas as pd\n",
    "from sklearn.linear_model import LinearRegression, Lasso, LassoCV\n",
    "import statsmodels.api as sm\n"
   ]
  },
  {
   "cell_type": "markdown",
   "metadata": {},
   "source": [
    "## Sample data"
   ]
  },
  {
   "cell_type": "code",
   "execution_count": 282,
   "metadata": {},
   "outputs": [
    {
     "data": {
      "text/html": [
       "<div>\n",
       "<style scoped>\n",
       "    .dataframe tbody tr th:only-of-type {\n",
       "        vertical-align: middle;\n",
       "    }\n",
       "\n",
       "    .dataframe tbody tr th {\n",
       "        vertical-align: top;\n",
       "    }\n",
       "\n",
       "    .dataframe thead th {\n",
       "        text-align: right;\n",
       "    }\n",
       "</style>\n",
       "<table border=\"1\" class=\"dataframe\">\n",
       "  <thead>\n",
       "    <tr style=\"text-align: right;\">\n",
       "      <th></th>\n",
       "      <th>x1</th>\n",
       "      <th>x2</th>\n",
       "      <th>x3</th>\n",
       "      <th>x4</th>\n",
       "      <th>error</th>\n",
       "      <th>y</th>\n",
       "    </tr>\n",
       "  </thead>\n",
       "  <tbody>\n",
       "    <tr>\n",
       "      <th>0</th>\n",
       "      <td>13.121727</td>\n",
       "      <td>1.941218</td>\n",
       "      <td>2.359141</td>\n",
       "      <td>-0.364843</td>\n",
       "      <td>-1.403710</td>\n",
       "      <td>88.087360</td>\n",
       "    </tr>\n",
       "    <tr>\n",
       "      <th>1</th>\n",
       "      <td>9.327038</td>\n",
       "      <td>-6.507693</td>\n",
       "      <td>13.724059</td>\n",
       "      <td>1.193965</td>\n",
       "      <td>1.416417</td>\n",
       "      <td>55.036220</td>\n",
       "    </tr>\n",
       "    <tr>\n",
       "      <th>2</th>\n",
       "      <td>6.595195</td>\n",
       "      <td>3.753148</td>\n",
       "      <td>12.310540</td>\n",
       "      <td>-5.300704</td>\n",
       "      <td>3.119686</td>\n",
       "      <td>63.601960</td>\n",
       "    </tr>\n",
       "    <tr>\n",
       "      <th>3</th>\n",
       "      <td>3.387914</td>\n",
       "      <td>3.079728</td>\n",
       "      <td>10.668847</td>\n",
       "      <td>-0.499456</td>\n",
       "      <td>7.690852</td>\n",
       "      <td>50.789878</td>\n",
       "    </tr>\n",
       "    <tr>\n",
       "      <th>4</th>\n",
       "      <td>4.137859</td>\n",
       "      <td>0.610708</td>\n",
       "      <td>5.211069</td>\n",
       "      <td>7.914076</td>\n",
       "      <td>5.842858</td>\n",
       "      <td>47.753568</td>\n",
       "    </tr>\n",
       "  </tbody>\n",
       "</table>\n",
       "</div>"
      ],
      "text/plain": [
       "          x1        x2         x3        x4     error          y\n",
       "0  13.121727  1.941218   2.359141 -0.364843 -1.403710  88.087360\n",
       "1   9.327038 -6.507693  13.724059  1.193965  1.416417  55.036220\n",
       "2   6.595195  3.753148  12.310540 -5.300704  3.119686  63.601960\n",
       "3   3.387914  3.079728  10.668847 -0.499456  7.690852  50.789878\n",
       "4   4.137859  0.610708   5.211069  7.914076  5.842858  47.753568"
      ]
     },
     "execution_count": 282,
     "metadata": {},
     "output_type": "execute_result"
    }
   ],
   "source": [
    "np.random.seed(1)\n",
    "\n",
    "df = pd.DataFrame(np.random.normal(size=(1000, 4), loc=5, scale=5), columns=[\"x1\", \"x2\", \"x3\", \"x4\"])\n",
    "df[\"error\"] = np.random.normal(size=len(df), loc=0, scale=10)\n",
    "\n",
    "# Actual intercept is 20\n",
    "# Actual coefficients are [5, 2, 0, 0]\n",
    "df[\"y\"] = 20 + 5 * df[\"x1\"] + 2 * df[\"x2\"] + 0 * df[\"x3\"] + 0 * df[\"x4\"] + df[\"error\"]\n",
    "\n",
    "X = df[[\"x1\", \"x2\", \"x3\", \"x4\"]]\n",
    "y = df[\"y\"]\n",
    "\n",
    "df.head()"
   ]
  },
  {
   "cell_type": "markdown",
   "metadata": {},
   "source": [
    "## Using the LinearRegression classifier"
   ]
  },
  {
   "cell_type": "code",
   "execution_count": 283,
   "metadata": {},
   "outputs": [
    {
     "name": "stdout",
     "output_type": "stream",
     "text": [
      "Intercept: 21.348\n",
      "Coefficients: [ 4.99107031  2.00208645 -0.07989671 -0.031451  ]\n",
      "R2 score: 0.873\n"
     ]
    }
   ],
   "source": [
    "lr = LinearRegression()\n",
    "lr.fit(X, y)\n",
    "\n",
    "print(\"Intercept: {:.3f}\".format(lr.intercept_))\n",
    "print(\"Coefficients:\", lr.coef_)\n",
    "print(\"R2 score: {:.3f}\".format(lr.score(X, y)))"
   ]
  },
  {
   "cell_type": "markdown",
   "metadata": {},
   "source": [
    "## Using Lasso to minimize coefficients\n",
    "\n",
    "* Lasso stands for Least Absolute Shrinkage and Selection\n",
    "* It penalizes large coefficients"
   ]
  },
  {
   "cell_type": "code",
   "execution_count": 295,
   "metadata": {},
   "outputs": [
    {
     "name": "stdout",
     "output_type": "stream",
     "text": [
      "Intercept: 21.619\n",
      "Coefficients: [ 4.90549375  1.91595741 -0.         -0.        ]\n",
      "R2 score: 0.872\n",
      "The model has ignored 2 out of 4 features.\n",
      "Reduced features: ['x1' 'x2']\n"
     ]
    }
   ],
   "source": [
    "# When alpha is too low, model might overfit\n",
    "# When alpha is too high, model might become too simple and inaccurate\n",
    "la = Lasso(alpha=2)\n",
    "la.fit(X, y)\n",
    "\n",
    "print(\"Intercept: {:.3f}\".format(la.intercept_))\n",
    "print(\"Coefficients:\", la.coef_)\n",
    "print(\"R2 score: {:.3f}\".format(la.score(X, y)))\n",
    "\n",
    "zero_coef = la.coef_ == 0\n",
    "print(\"The model has ignored {} out of {} features.\".format(sum(zero_coef), len(la.coef_)))\n",
    "\n",
    "mask = zero_coef = la.coef_ != 0\n",
    "reduced_X = X.loc[:, mask]\n",
    "print(\"Reduced features:\", reduced_X.columns.values)"
   ]
  },
  {
   "cell_type": "markdown",
   "metadata": {},
   "source": [
    "## Finding best alpha value with LassoCV"
   ]
  },
  {
   "cell_type": "code",
   "execution_count": 292,
   "metadata": {},
   "outputs": [
    {
     "name": "stdout",
     "output_type": "stream",
     "text": [
      "Alpha: 0.883\n",
      "Intercept: 21.368\n",
      "Coefficients: [ 4.95261684  1.96433853 -0.04311655 -0.        ]\n",
      "R2 score: 0.873\n"
     ]
    }
   ],
   "source": [
    "lcv = LassoCV()\n",
    "lcv.fit(X, y)\n",
    "\n",
    "print(\"Alpha: {:.3f}\".format(lcv.alpha_))\n",
    "print(\"Intercept: {:.3f}\".format(lcv.intercept_))\n",
    "print(\"Coefficients:\", lcv.coef_)\n",
    "print(\"R2 score: {:.3f}\".format(lcv.score(X, y)))\n"
   ]
  },
  {
   "cell_type": "markdown",
   "metadata": {},
   "source": [
    "## Using the Stats Model package"
   ]
  },
  {
   "cell_type": "code",
   "execution_count": 285,
   "metadata": {},
   "outputs": [
    {
     "name": "stdout",
     "output_type": "stream",
     "text": [
      "Summary:\n",
      "                                 OLS Regression Results                                \n",
      "=======================================================================================\n",
      "Dep. Variable:                      y   R-squared (uncentered):                   0.951\n",
      "Model:                            OLS   Adj. R-squared (uncentered):              0.951\n",
      "Method:                 Least Squares   F-statistic:                              4812.\n",
      "Date:                Wed, 02 Sep 2020   Prob (F-statistic):                        0.00\n",
      "Time:                        10:34:47   Log-Likelihood:                         -4047.8\n",
      "No. Observations:                1000   AIC:                                      8104.\n",
      "Df Residuals:                     996   BIC:                                      8123.\n",
      "Df Model:                           4                                                  \n",
      "Covariance Type:            nonrobust                                                  \n",
      "==============================================================================\n",
      "                 coef    std err          t      P>|t|      [0.025      0.975]\n",
      "------------------------------------------------------------------------------\n",
      "x1             5.8124      0.078     74.559      0.000       5.659       5.965\n",
      "x2             2.8589      0.079     36.289      0.000       2.704       3.014\n",
      "x3             0.7486      0.080      9.414      0.000       0.593       0.905\n",
      "x4             0.8585      0.079     10.888      0.000       0.704       1.013\n",
      "==============================================================================\n",
      "Omnibus:                        2.155   Durbin-Watson:                   1.796\n",
      "Prob(Omnibus):                  0.341   Jarque-Bera (JB):                2.201\n",
      "Skew:                          -0.019   Prob(JB):                        0.333\n",
      "Kurtosis:                       3.227   Cond. No.                         2.33\n",
      "==============================================================================\n",
      "\n",
      "Warnings:\n",
      "[1] Standard Errors assume that the covariance matrix of the errors is correctly specified.\n",
      "\n",
      "Coefficients:\n",
      "x1    5.812370\n",
      "x2    2.858905\n",
      "x3    0.748638\n",
      "x4    0.858536\n",
      "dtype: float64\n"
     ]
    }
   ],
   "source": [
    "result = sm.OLS(y, X).fit()\n",
    "\n",
    "print(\"Summary:\\n{}\".format(result.summary()))\n",
    "print(\"\\nCoefficients:\\n{}\".format(result.params))"
   ]
  }
 ],
 "metadata": {
  "kernelspec": {
   "display_name": "Python 3",
   "language": "python",
   "name": "python3"
  },
  "language_info": {
   "codemirror_mode": {
    "name": "ipython",
    "version": 3
   },
   "file_extension": ".py",
   "mimetype": "text/x-python",
   "name": "python",
   "nbconvert_exporter": "python",
   "pygments_lexer": "ipython3",
   "version": "3.8.2"
  }
 },
 "nbformat": 4,
 "nbformat_minor": 4
}
