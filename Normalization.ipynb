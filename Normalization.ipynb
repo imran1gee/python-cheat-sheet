{
 "cells": [
  {
   "cell_type": "markdown",
   "metadata": {},
   "source": [
    "# Normalization"
   ]
  },
  {
   "cell_type": "code",
   "execution_count": 7,
   "metadata": {},
   "outputs": [],
   "source": [
    "import pandas as pd\n",
    "import numpy as np\n",
    "from sklearn.preprocessing import StandardScaler\n",
    "from scipy.cluster.vq import whiten"
   ]
  },
  {
   "cell_type": "markdown",
   "metadata": {},
   "source": [
    "## StandardScaler\n",
    "\n",
    "Note that DataFrame.var and DataFrame.std default to using 1 degree of freedom (ddof=1) but StandardScaler is using numpy's versions which default to ddof=0. That's why when printing the variance and standard deviation of the original data frame, we're specifying ddof=0. ddof=1 is known as Bessel's correction."
   ]
  },
  {
   "cell_type": "code",
   "execution_count": 3,
   "metadata": {},
   "outputs": [
    {
     "name": "stdout",
     "output_type": "stream",
     "text": [
      "Original:\n",
      "\n",
      "   col1  col2  col3\n",
      "0     1    10     0\n",
      "1     2    20    20\n",
      "2     3    30    22\n",
      "\n",
      "Column means:\n",
      "\n",
      "col1     2.0\n",
      "col2    20.0\n",
      "col3    14.0\n",
      "dtype: float64\n",
      "\n",
      "Original variance:\n",
      "\n",
      "col1     0.666667\n",
      "col2    66.666667\n",
      "col3    98.666667\n",
      "dtype: float64\n",
      "\n",
      "Original standard deviations:\n",
      "\n",
      "col1    0.816497\n",
      "col2    8.164966\n",
      "col3    9.933110\n",
      "dtype: float64\n",
      "\n",
      "After scaling:\n",
      "\n",
      "       col1      col2      col3\n",
      "0 -1.224745 -1.224745 -1.409428\n",
      "1  0.000000  0.000000  0.604040\n",
      "2  1.224745  1.224745  0.805387\n",
      "\n",
      "Column means:\n",
      "\n",
      "col1    0.0\n",
      "col2    0.0\n",
      "col3    0.0\n",
      "dtype: float64\n",
      "\n",
      "Variance:\n",
      "\n",
      "col1    1.0\n",
      "col2    1.0\n",
      "col3    1.0\n",
      "dtype: float64\n",
      "\n",
      "Standard deviations:\n",
      "\n",
      "col1    1.0\n",
      "col2    1.0\n",
      "col3    1.0\n",
      "dtype: float64\n",
      "\n",
      "Example calculation for col2:\n",
      "z = (x - mean) / std\n",
      "z = (10 - 20) / 8.164966 = -1.224745\n"
     ]
    }
   ],
   "source": [
    "df = pd.DataFrame({\n",
    "    'col1': [1, 2, 3],\n",
    "    'col2': [10, 20, 30],\n",
    "    'col3': [0, 20, 22]\n",
    "})\n",
    "print(\"Original:\\n\")\n",
    "print(df)\n",
    "print(\"\\nColumn means:\\n\")\n",
    "print(df.mean())\n",
    "print(\"\\nOriginal variance:\\n\")\n",
    "print(df.var(ddof=0))\n",
    "print(\"\\nOriginal standard deviations:\\n\")\n",
    "print(df.std(ddof=0))\n",
    "\n",
    "scaler = StandardScaler()\n",
    "df1 = pd.DataFrame(scaler.fit_transform(df), columns=df.columns)\n",
    "print(\"\\nAfter scaling:\\n\")\n",
    "print(df1)\n",
    "print(\"\\nColumn means:\\n\")\n",
    "print(round(df1.mean(), 3))\n",
    "print(\"\\nVariance:\\n\")\n",
    "print(df1.var(ddof=0))\n",
    "print(\"\\nStandard deviations:\\n\")\n",
    "print(df1.std(ddof=0))\n",
    "\n",
    "print(\"\\nExample calculation for col2:\")\n",
    "print(\"z = (x - mean) / std\")\n",
    "print(\"z = (10 - 20) / 8.164966 = -1.224745\")"
   ]
  },
  {
   "cell_type": "markdown",
   "metadata": {},
   "source": [
    "## Whiten\n",
    "\n",
    "```\n",
    "x_new = x / std(x)\n",
    "```"
   ]
  },
  {
   "cell_type": "code",
   "execution_count": 15,
   "metadata": {},
   "outputs": [
    {
     "name": "stdout",
     "output_type": "stream",
     "text": [
      "Original: [5, 1, 3, 3, 2, 3, 8, 1, 2, 2, 3, 5]\n",
      "\n",
      "Std Dev: 1.9075871903765997\n",
      "\n",
      "Scaled with Whiten: [2.62111217 0.52422243 1.5726673  1.5726673  1.04844487 1.5726673\n",
      " 4.19377947 0.52422243 1.04844487 1.04844487 1.5726673  2.62111217]\n",
      "\n",
      "Scaled Manuallly: [2.62111217 0.52422243 1.5726673  1.5726673  1.04844487 1.5726673\n",
      " 4.19377947 0.52422243 1.04844487 1.04844487 1.5726673  2.62111217]\n"
     ]
    }
   ],
   "source": [
    "data = [5, 1, 3, 3, 2, 3, 8, 1, 2, 2, 3, 5]\n",
    "print(\"Original:\", data)\n",
    "print(\"\\nStd Dev:\", np.std(data))\n",
    "\n",
    "scaled = whiten(data)\n",
    "print(\"\\nScaled with Whiten:\", scaled)\n",
    "\n",
    "scaled_manual = data / np.std(data)\n",
    "print(\"\\nScaled Manuallly:\", scaled_manual)"
   ]
  }
 ],
 "metadata": {
  "kernelspec": {
   "display_name": "Python 3",
   "language": "python",
   "name": "python3"
  },
  "language_info": {
   "codemirror_mode": {
    "name": "ipython",
    "version": 3
   },
   "file_extension": ".py",
   "mimetype": "text/x-python",
   "name": "python",
   "nbconvert_exporter": "python",
   "pygments_lexer": "ipython3",
   "version": "3.8.2"
  }
 },
 "nbformat": 4,
 "nbformat_minor": 4
}
