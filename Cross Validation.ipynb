{
 "cells": [
  {
   "cell_type": "markdown",
   "metadata": {},
   "source": [
    "# Cross Validation"
   ]
  },
  {
   "cell_type": "code",
   "execution_count": 44,
   "metadata": {},
   "outputs": [],
   "source": [
    "import numpy as np\n",
    "from sklearn.ensemble import RandomForestRegressor\n",
    "from sklearn.model_selection import KFold\n",
    "from sklearn.model_selection import cross_val_score\n",
    "from sklearn.metrics import mean_squared_error, make_scorer"
   ]
  },
  {
   "cell_type": "markdown",
   "metadata": {},
   "source": [
    "## KFold"
   ]
  },
  {
   "cell_type": "code",
   "execution_count": 8,
   "metadata": {},
   "outputs": [],
   "source": [
    "# via https://campus.datacamp.com/courses/winning-a-kaggle-competition-in-python/dive-into-the-competition?ex=9\n",
    "# also https://campus.datacamp.com/courses/model-validation-in-python/cross-validation\n",
    "\n",
    "# You probably want to use cross_val_score instead of doing this manually\n",
    "\n",
    "kf = KFold(n_splits=3, shuffle=True, random_state=123)\n",
    "\n",
    "fold = 0\n",
    "for train_index, test_index in kf.split(train):\n",
    "    cv_train = train.iloc[train_index]\n",
    "    cv_test = train.iloc[test_index]\n",
    "    print('Fold: {}'.format(fold))\n",
    "    print('CV train shape: {}'.format(cv_train.shape))\n",
    "    print('Medium interest listings in CV train: {}\\n'.format(sum(cv_train.interest_level == 'medium')))\n",
    "    fold += 1"
   ]
  },
  {
   "cell_type": "code",
   "execution_count": 41,
   "metadata": {},
   "outputs": [
    {
     "name": "stdout",
     "output_type": "stream",
     "text": [
      "Data:\n",
      "[ 0  1  2  3  4  5  6  7  8  9 10 11 12 13 14 15 16 17 18 19]\n",
      "\n",
      "Fold 1\n",
      " Train ( 15 values ): [ 5  6  7  8  9 10 11 12 13 14 15 16 17 18 19]\n",
      " Test ( 5 values ): [0 1 2 3 4]\n",
      "\n",
      "Fold 2\n",
      " Train ( 15 values ): [ 0  1  2  3  4 10 11 12 13 14 15 16 17 18 19]\n",
      " Test ( 5 values ): [5 6 7 8 9]\n",
      "\n",
      "Fold 3\n",
      " Train ( 15 values ): [ 0  1  2  3  4  5  6  7  8  9 15 16 17 18 19]\n",
      " Test ( 5 values ): [10 11 12 13 14]\n",
      "\n",
      "Fold 4\n",
      " Train ( 15 values ): [ 0  1  2  3  4  5  6  7  8  9 10 11 12 13 14]\n",
      " Test ( 5 values ): [15 16 17 18 19]\n"
     ]
    }
   ],
   "source": [
    "print(\"Data:\")\n",
    "arr = np.array(range(0, 20))\n",
    "print(arr)\n",
    "\n",
    "kf = KFold(n_splits = 4, random_state=123)\n",
    "splits = kf.split(arr)\n",
    "\n",
    "fold = 1\n",
    "for train_index, test_index in splits:\n",
    "    cv_train = arr[train_index]\n",
    "    cv_test = arr[test_index]\n",
    "    \n",
    "    print(\"\\nFold\", fold)\n",
    "    print(\" Train (\", len(cv_train), \"values ):\", cv_train)\n",
    "    print(\" Test (\", len(cv_test), \"values ):\", cv_test)\n",
    "    fold += 1"
   ]
  },
  {
   "cell_type": "markdown",
   "metadata": {},
   "source": [
    "## Stratified KFold"
   ]
  },
  {
   "cell_type": "code",
   "execution_count": null,
   "metadata": {},
   "outputs": [],
   "source": [
    "# \"The general rule is to prefer Stratified K-Fold over usual K-Fold in any classification problem.\"\n",
    "# via https://campus.datacamp.com/courses/winning-a-kaggle-competition-in-python/dive-into-the-competition?ex=9\n",
    "\n",
    "# Import StratifiedKFold\n",
    "from sklearn.model_selection import StratifiedKFold\n",
    "\n",
    "# Create a StratifiedKFold object\n",
    "str_kf = StratifiedKFold(n_splits=3, shuffle=True, random_state=123)\n",
    "\n",
    "# Loop through each split\n",
    "fold = 0\n",
    "for train_index, test_index in str_kf.split(train, train['interest_level']):\n",
    "    # Obtain training and testing folds\n",
    "    cv_train, cv_test = train.iloc[train_index], train.iloc[test_index]\n",
    "    print('Fold: {}'.format(fold))\n",
    "    print('CV train shape: {}'.format(cv_train.shape))\n",
    "    print('Medium interest listings in CV train: {}\\n'.format(sum(cv_train.interest_level == 'medium')))\n",
    "    fold += 1"
   ]
  },
  {
   "cell_type": "markdown",
   "metadata": {},
   "source": [
    "## Time Series Split"
   ]
  },
  {
   "cell_type": "code",
   "execution_count": null,
   "metadata": {},
   "outputs": [],
   "source": [
    "# \"It works as expected, training only on the past data and predicting the future.\"\n",
    "# via https://campus.datacamp.com/courses/winning-a-kaggle-competition-in-python/dive-into-the-competition?ex=12\n",
    "\n",
    "# Create TimeSeriesSplit object\n",
    "time_kfold = TimeSeriesSplit(n_splits=3)\n",
    "\n",
    "# Sort train data by date\n",
    "train = train.sort_values(\"date\")\n",
    "\n",
    "# Iterate through each split\n",
    "fold = 0\n",
    "\n",
    "for train_index, test_index in time_kfold.split(train):\n",
    "    cv_train, cv_test = train.iloc[train_index], train.iloc[test_index]\n",
    "    \n",
    "    print('Fold :', fold)\n",
    "    print('Train date range: from {} to {}'.format(cv_train.date.min(), cv_train.date.max()))\n",
    "    print('Test date range: from {} to {}\\n'.format(cv_test.date.min(), cv_test.date.max()))\n",
    "    fold += 1"
   ]
  },
  {
   "cell_type": "markdown",
   "metadata": {},
   "source": [
    "## Cross Val Score"
   ]
  },
  {
   "cell_type": "code",
   "execution_count": null,
   "metadata": {},
   "outputs": [],
   "source": [
    "rfc = RandomForestRegressor(n_estimators=25, random_state=1111)\n",
    "mse = make_scorer(mean_squared_error)\n",
    "\n",
    "# scoring can be \"A str (see model evaluation documentation) or a scorer callable object / function \n",
    "# with signature scorer(estimator, X, y) which should return only a single value.\"\n",
    "\n",
    "cv = cross_val_score(estimator=rfc, X=X_train, y=y_train, cv=10, scoring=mse)\n",
    "\n",
    "# Print the mean error\n",
    "print(cv.mean())"
   ]
  },
  {
   "cell_type": "markdown",
   "metadata": {},
   "source": [
    "## Leave One Out Cross Validation (LOOCV)\n",
    "\n",
    "* Have as many folds as their are observations\n",
    "* Keep 1 training point, then the rest are validation set\n",
    "* Good when training data is limited and you want the best error estimate for new data\n",
    "* It's computationally expensive though\n"
   ]
  },
  {
   "cell_type": "code",
   "execution_count": null,
   "metadata": {},
   "outputs": [],
   "source": []
  }
 ],
 "metadata": {
  "kernelspec": {
   "display_name": "Python 3",
   "language": "python",
   "name": "python3"
  },
  "language_info": {
   "codemirror_mode": {
    "name": "ipython",
    "version": 3
   },
   "file_extension": ".py",
   "mimetype": "text/x-python",
   "name": "python",
   "nbconvert_exporter": "python",
   "pygments_lexer": "ipython3",
   "version": "3.8.2"
  }
 },
 "nbformat": 4,
 "nbformat_minor": 4
}
