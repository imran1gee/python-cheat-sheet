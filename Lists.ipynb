{
 "cells": [
  {
   "cell_type": "markdown",
   "metadata": {},
   "source": [
    "# Lists"
   ]
  },
  {
   "cell_type": "code",
   "execution_count": 18,
   "metadata": {},
   "outputs": [],
   "source": [
    "import pandas as pd"
   ]
  },
  {
   "cell_type": "markdown",
   "metadata": {},
   "source": [
    "## Appending to a list"
   ]
  },
  {
   "cell_type": "code",
   "execution_count": 1,
   "metadata": {},
   "outputs": [],
   "source": [
    "x = []\n",
    "x.append(\"hi\")"
   ]
  },
  {
   "cell_type": "markdown",
   "metadata": {},
   "source": [
    "## List comprenension"
   ]
  },
  {
   "cell_type": "code",
   "execution_count": 3,
   "metadata": {},
   "outputs": [
    {
     "name": "stdout",
     "output_type": "stream",
     "text": [
      "[2, 3, 4, 5]\n"
     ]
    }
   ],
   "source": [
    "nums = [1, 2, 3, 4]\n",
    "updated = [num + 1 for num in nums]\n",
    "print(updated)"
   ]
  },
  {
   "cell_type": "code",
   "execution_count": 4,
   "metadata": {},
   "outputs": [
    {
     "name": "stdout",
     "output_type": "stream",
     "text": [
      "['matt', 'morgan']\n"
     ]
    }
   ],
   "source": [
    "names = ['matt', 'simon', 'morgan']\n",
    "m_names = [name for name in names if name[0] == 'm']\n",
    "print(m_names)"
   ]
  },
  {
   "cell_type": "code",
   "execution_count": 5,
   "metadata": {},
   "outputs": [
    {
     "name": "stdout",
     "output_type": "stream",
     "text": [
      "['matt', '', 'morgan']\n"
     ]
    }
   ],
   "source": [
    "names = ['matt', 'simon', 'morgan']\n",
    "m_names = [name if name[0] == 'm' else '' for name in names]\n",
    "print(m_names)"
   ]
  },
  {
   "cell_type": "code",
   "execution_count": 6,
   "metadata": {},
   "outputs": [
    {
     "name": "stdout",
     "output_type": "stream",
     "text": [
      "{'matt': 4, 'simon': 5, 'morgan': 6}\n"
     ]
    }
   ],
   "source": [
    "names = ['matt', 'simon', 'morgan']\n",
    "lengths = { name: len(name) for name in names }\n",
    "print(lengths)"
   ]
  },
  {
   "cell_type": "markdown",
   "metadata": {},
   "source": [
    "## Zipping"
   ]
  },
  {
   "cell_type": "code",
   "execution_count": 34,
   "metadata": {},
   "outputs": [
    {
     "name": "stdout",
     "output_type": "stream",
     "text": [
      "[('matt', 35), ('simon', 56), ('morgan', 30)]\n",
      "\n",
      "     name  age\n",
      "0    matt   35\n",
      "1   simon   56\n",
      "2  morgan   30\n"
     ]
    }
   ],
   "source": [
    "names = ['matt', 'simon', 'morgan']\n",
    "age = [35, 56, 30]\n",
    "\n",
    "# zip combines list elements in parallel\n",
    "# it returns an enumerator\n",
    "zipped = zip(names, age)\n",
    "\n",
    "# We can completely instantiate it by wrapping it in a `list` call\n",
    "data = list(zipped)\n",
    "print(data)\n",
    "\n",
    "df = pd.DataFrame(data, columns=[\"name\", \"age\"])\n",
    "print(\"\")\n",
    "print(df)"
   ]
  },
  {
   "cell_type": "markdown",
   "metadata": {},
   "source": [
    "## Mapping list values with a function"
   ]
  },
  {
   "cell_type": "code",
   "execution_count": 3,
   "metadata": {},
   "outputs": [
    {
     "data": {
      "text/plain": [
       "[65, 66, 67]"
      ]
     },
     "execution_count": 3,
     "metadata": {},
     "output_type": "execute_result"
    }
   ],
   "source": [
    "list(map(lambda letter: ord(letter), [\"A\", \"B\", \"C\"]))"
   ]
  }
 ],
 "metadata": {
  "kernelspec": {
   "display_name": "Python 3",
   "language": "python",
   "name": "python3"
  },
  "language_info": {
   "codemirror_mode": {
    "name": "ipython",
    "version": 3
   },
   "file_extension": ".py",
   "mimetype": "text/x-python",
   "name": "python",
   "nbconvert_exporter": "python",
   "pygments_lexer": "ipython3",
   "version": "3.8.2"
  }
 },
 "nbformat": 4,
 "nbformat_minor": 4
}
