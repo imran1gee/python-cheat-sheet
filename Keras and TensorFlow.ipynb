{
 "cells": [
  {
   "cell_type": "markdown",
   "metadata": {},
   "source": [
    "# Keras and TensorFlow\n",
    "\n",
    "## TensorFlow\n",
    "\n",
    "* Open source library for graph-based numerical computation (??)\n",
    "* Low and high level APIs\n",
    "  * Addition, multiplication, differentiation\n",
    "  * Machine learning models\n",
    "\n",
    "References:\n",
    "\n",
    "* [TensorFlow Website](https://www.tensorflow.org/)\n",
    "* [Introduction to TensorFlow in Python](https://campus.datacamp.com/courses/introduction-to-tensorflow-in-python)\n",
    "* [Introduction to Deep Learning in Python](https://campus.datacamp.com/courses/introduction-to-deep-learning-in-python)\n",
    "* [Advanced Deep Learning with Keras](https://campus.datacamp.com/courses/advanced-deep-learning-with-keras/the-keras-functional-api)"
   ]
  },
  {
   "cell_type": "code",
   "execution_count": 1,
   "metadata": {},
   "outputs": [],
   "source": [
    "import tensorflow as tf\n",
    "from tensorflow import keras\n",
    "import numpy as np\n",
    "import pandas as pd"
   ]
  },
  {
   "cell_type": "markdown",
   "metadata": {},
   "source": [
    "## Defining tensors\n",
    "\n",
    "A tensor is a genrealization of vectors and matrices. Like a collection of numbers arranged in a particular shape. Imagine a loaf of bread, cut into slices, and the slices are cut into 9 pieces. A piece of the slice is a 0 dimensional vector. A row or column of pieces is a 1 dimensional vector. A whole slice is a 2 dimensional vector. The whole loaf is a 3 dimensional vector.\n",
    "\n",
    "Tensors are used to used to define the data flow through the model."
   ]
  },
  {
   "cell_type": "markdown",
   "metadata": {},
   "source": [
    "### 0d\n",
    "\n",
    "Here is a \"scalar\" or \"rank-0\" tensor . A scalar contains a single value, and no \"axes\"."
   ]
  },
  {
   "cell_type": "code",
   "execution_count": 211,
   "metadata": {},
   "outputs": [
    {
     "name": "stdout",
     "output_type": "stream",
     "text": [
      "5\n"
     ]
    }
   ],
   "source": [
    "print(tf.constant(5).numpy())"
   ]
  },
  {
   "cell_type": "markdown",
   "metadata": {},
   "source": [
    "### 1d\n",
    "\n",
    "A \"vector\" or \"rank-1\" tensor is like a list of values. A vector has 1-axis:"
   ]
  },
  {
   "cell_type": "code",
   "execution_count": 212,
   "metadata": {},
   "outputs": [
    {
     "name": "stdout",
     "output_type": "stream",
     "text": [
      "[2. 3. 4.]\n"
     ]
    }
   ],
   "source": [
    "print(tf.constant([2.0, 3.0, 4.0]).numpy())"
   ]
  },
  {
   "cell_type": "code",
   "execution_count": 213,
   "metadata": {},
   "outputs": [
    {
     "name": "stdout",
     "output_type": "stream",
     "text": [
      "[5]\n"
     ]
    }
   ],
   "source": [
    "print(tf.constant([5]).numpy())"
   ]
  },
  {
   "cell_type": "markdown",
   "metadata": {},
   "source": [
    "### 2d\n",
    "\n",
    "A \"matrix\" or \"rank-2\" tensor has 2-axes:"
   ]
  },
  {
   "cell_type": "code",
   "execution_count": 214,
   "metadata": {},
   "outputs": [
    {
     "name": "stdout",
     "output_type": "stream",
     "text": [
      "[[1. 2.]\n",
      " [3. 4.]\n",
      " [5. 6.]]\n"
     ]
    }
   ],
   "source": [
    "print(tf.constant([[1, 2], [3, 4], [5, 6]], dtype=tf.float16).numpy())"
   ]
  },
  {
   "cell_type": "markdown",
   "metadata": {},
   "source": [
    "### 3d"
   ]
  },
  {
   "cell_type": "code",
   "execution_count": 215,
   "metadata": {},
   "outputs": [
    {
     "name": "stdout",
     "output_type": "stream",
     "text": [
      "[[[1. 1.]\n",
      "  [1. 1.]]\n",
      "\n",
      " [[1. 1.]\n",
      "  [1. 1.]]]\n"
     ]
    }
   ],
   "source": [
    "d3 = tf.ones((2, 2, 2))\n",
    "print(d3.numpy())"
   ]
  },
  {
   "cell_type": "markdown",
   "metadata": {},
   "source": [
    "## Constants\n",
    "\n",
    "* A constant is the simplest category of tensor\n",
    "  * It's not trainable (??)\n",
    "  * Can have any dimension\n",
    "* `shape` is `[rows, columns]`"
   ]
  },
  {
   "cell_type": "code",
   "execution_count": 216,
   "metadata": {},
   "outputs": [
    {
     "name": "stdout",
     "output_type": "stream",
     "text": [
      "[[3 3 3]\n",
      " [3 3 3]]\n"
     ]
    }
   ],
   "source": [
    "print(tf.constant(3, shape=[2, 3]).numpy())"
   ]
  },
  {
   "cell_type": "code",
   "execution_count": 217,
   "metadata": {
    "scrolled": true
   },
   "outputs": [
    {
     "name": "stdout",
     "output_type": "stream",
     "text": [
      "[[1 2]\n",
      " [3 4]]\n"
     ]
    }
   ],
   "source": [
    "print(tf.constant([1, 2, 3, 4], shape=[2, 2]).numpy())"
   ]
  },
  {
   "cell_type": "markdown",
   "metadata": {},
   "source": [
    "### Zeros"
   ]
  },
  {
   "cell_type": "code",
   "execution_count": 218,
   "metadata": {
    "scrolled": false
   },
   "outputs": [
    {
     "name": "stdout",
     "output_type": "stream",
     "text": [
      "[[0. 0.]\n",
      " [0. 0.]]\n"
     ]
    }
   ],
   "source": [
    "print(tf.zeros([2, 2]).numpy())"
   ]
  },
  {
   "cell_type": "markdown",
   "metadata": {},
   "source": [
    "### Zeros Like"
   ]
  },
  {
   "cell_type": "code",
   "execution_count": 219,
   "metadata": {},
   "outputs": [
    {
     "name": "stdout",
     "output_type": "stream",
     "text": [
      "[[0 0 0]\n",
      " [0 0 0]]\n"
     ]
    }
   ],
   "source": [
    "a = tf.constant(4, shape=[2, 3]).numpy()\n",
    "print(tf.zeros_like(a).numpy())"
   ]
  },
  {
   "cell_type": "markdown",
   "metadata": {},
   "source": [
    "### Ones"
   ]
  },
  {
   "cell_type": "code",
   "execution_count": 220,
   "metadata": {
    "scrolled": false
   },
   "outputs": [
    {
     "name": "stdout",
     "output_type": "stream",
     "text": [
      "[[1. 1.]\n",
      " [1. 1.]]\n",
      "\n",
      "[[1. 1.]\n",
      " [1. 1.]]\n"
     ]
    }
   ],
   "source": [
    "# Lists work:\n",
    "print(tf.ones([2, 2]).numpy())\n",
    "\n",
    "# So do tuples:\n",
    "print()\n",
    "print(tf.ones((2, 2)).numpy())"
   ]
  },
  {
   "cell_type": "code",
   "execution_count": 221,
   "metadata": {},
   "outputs": [
    {
     "name": "stdout",
     "output_type": "stream",
     "text": [
      "[[1. 1.]\n",
      " [1. 1.]]\n"
     ]
    }
   ],
   "source": [
    "print(tf.ones((2, 2)).numpy())"
   ]
  },
  {
   "cell_type": "markdown",
   "metadata": {},
   "source": [
    "### Ones Like"
   ]
  },
  {
   "cell_type": "code",
   "execution_count": 222,
   "metadata": {},
   "outputs": [
    {
     "name": "stdout",
     "output_type": "stream",
     "text": [
      "[[1 1 1]\n",
      " [1 1 1]]\n"
     ]
    }
   ],
   "source": [
    "a = tf.constant(4, shape=[2, 3]).numpy()\n",
    "print(tf.ones_like(a).numpy())"
   ]
  },
  {
   "cell_type": "markdown",
   "metadata": {},
   "source": [
    "### Fill"
   ]
  },
  {
   "cell_type": "code",
   "execution_count": 223,
   "metadata": {
    "scrolled": false
   },
   "outputs": [
    {
     "name": "stdout",
     "output_type": "stream",
     "text": [
      "[[7 7 7]\n",
      " [7 7 7]\n",
      " [7 7 7]]\n"
     ]
    }
   ],
   "source": [
    "print(tf.fill([3, 3], 7).numpy())"
   ]
  },
  {
   "cell_type": "markdown",
   "metadata": {},
   "source": [
    "### Creating a constnat from a numpy array"
   ]
  },
  {
   "cell_type": "code",
   "execution_count": 224,
   "metadata": {},
   "outputs": [
    {
     "name": "stdout",
     "output_type": "stream",
     "text": [
      "<dtype: 'int64'>\n",
      "[5 6 7]\n",
      "(3,)\n"
     ]
    }
   ],
   "source": [
    "arr = np.array([5, 6, 7])\n",
    "b = tf.constant(arr)\n",
    "print(b.dtype)\n",
    "print(b.numpy())\n",
    "print(b.shape)"
   ]
  },
  {
   "cell_type": "markdown",
   "metadata": {},
   "source": [
    "## Variables\n",
    "\n",
    "* Unlike a constant, a variable's value can be changed\n",
    "* Data type and shape are fixed"
   ]
  },
  {
   "cell_type": "code",
   "execution_count": 225,
   "metadata": {},
   "outputs": [
    {
     "name": "stdout",
     "output_type": "stream",
     "text": [
      "Varible: [1 2 3]\n",
      "Constant: 2\n",
      "Multiplication method 1: [2 4 6]\n",
      "Multiplication method 2: [2 4 6]\n",
      "Multiplication method 3: [2 4 6]\n",
      "Multiplication method 4: [2 4 6]\n"
     ]
    }
   ],
   "source": [
    "# dtype could also be like tf.float32\n",
    "a0 = tf.Variable([1, 2, 3], dtype=tf.int16)\n",
    "print(\"Varible:\", a0.numpy())\n",
    "\n",
    "b = tf.constant(2, tf.int16)\n",
    "print(\"Constant:\", b.numpy())\n",
    "\n",
    "c1 = a0 * b\n",
    "print(\"Multiplication method 1:\", c1.numpy())\n",
    "print(\"Multiplication method 2:\", tf.multiply(a0, b).numpy())\n",
    "\n",
    "# \"Note that tensorflow 2 allows you to use data as either a numpy array \n",
    "# or a tensorflow constant object. Using a constant will ensure that any \n",
    "# operations performed with that object are done in tensorflow.\"\n",
    "print(\"Multiplication method 3:\", tf.multiply([1, 2, 3], [2]).numpy())\n",
    "print(\"Multiplication method 4:\", tf.multiply(np.array([1, 2, 3]), np.array([2])).numpy())"
   ]
  },
  {
   "cell_type": "markdown",
   "metadata": {},
   "source": [
    "## Operations"
   ]
  },
  {
   "cell_type": "markdown",
   "metadata": {},
   "source": [
    "### Element wise operations"
   ]
  },
  {
   "cell_type": "code",
   "execution_count": 226,
   "metadata": {},
   "outputs": [
    {
     "name": "stdout",
     "output_type": "stream",
     "text": [
      "[3]\n"
     ]
    }
   ],
   "source": [
    "a = tf.constant([1])\n",
    "b = tf.constant([2])\n",
    "print(tf.add(a, b).numpy())"
   ]
  },
  {
   "cell_type": "code",
   "execution_count": 227,
   "metadata": {},
   "outputs": [
    {
     "name": "stdout",
     "output_type": "stream",
     "text": [
      "[ 4 15]\n"
     ]
    }
   ],
   "source": [
    "a = tf.constant([1, 5])\n",
    "b = tf.constant([3, 10])\n",
    "print(tf.add(a, b).numpy())"
   ]
  },
  {
   "cell_type": "code",
   "execution_count": 228,
   "metadata": {},
   "outputs": [
    {
     "name": "stdout",
     "output_type": "stream",
     "text": [
      "[ 3 50]\n"
     ]
    }
   ],
   "source": [
    "a = tf.constant([1, 5])\n",
    "b = tf.constant([3, 10])\n",
    "print(tf.multiply(a, b).numpy())"
   ]
  },
  {
   "cell_type": "code",
   "execution_count": 229,
   "metadata": {},
   "outputs": [
    {
     "name": "stdout",
     "output_type": "stream",
     "text": [
      "a:\n",
      " [[1 2]\n",
      " [3 4]]\n",
      "\n",
      "b:\n",
      " [[5 6]\n",
      " [7 8]]\n",
      "\n",
      "a + b:\n",
      " [[ 6  8]\n",
      " [10 12]]\n",
      "\n",
      "a + b:\n",
      " [[ 6  8]\n",
      " [10 12]]\n"
     ]
    }
   ],
   "source": [
    "a = tf.constant([1, 2, 3, 4], shape=[2, 2])\n",
    "b = tf.constant([5, 6, 7, 8], shape=[2, 2])\n",
    "\n",
    "print(\"a:\\n\", a.numpy())\n",
    "print(\"\\nb:\\n\", b.numpy())\n",
    "print(\"\\na + b:\\n\", tf.add(a, b).numpy())\n",
    "print(\"\\na + b:\\n\", (a + b).numpy())"
   ]
  },
  {
   "cell_type": "markdown",
   "metadata": {},
   "source": [
    "### Matrix Multiplication\n",
    "\n",
    "* [Multiplying a Matrix by Another Matrix](https://www.mathsisfun.com/algebra/matrix-multiplying.html)\n",
    "* To multiple matrix `a` by matrix `b`, `b` must have the same number of rows as `a` has columns since we're taking a dot product"
   ]
  },
  {
   "cell_type": "code",
   "execution_count": 230,
   "metadata": {
    "scrolled": true
   },
   "outputs": [
    {
     "name": "stdout",
     "output_type": "stream",
     "text": [
      "a:\n",
      " [[1 2]\n",
      " [3 4]]\n",
      "\n",
      "b:\n",
      " [[5 6]\n",
      " [7 8]]\n",
      "\n",
      "a * b:\n",
      " [[19 22]\n",
      " [43 50]]\n",
      "\n",
      "a * b:\n",
      " [[19 22]\n",
      " [43 50]]\n"
     ]
    }
   ],
   "source": [
    "a = tf.constant([1, 2, 3, 4], shape=[2, 2])\n",
    "b = tf.constant([5, 6, 7, 8], shape=[2, 2])\n",
    "\n",
    "print(\"a:\\n\", a.numpy())\n",
    "print(\"\\nb:\\n\", b.numpy())\n",
    "print(\"\\na * b:\\n\", tf.matmul(a, b).numpy())\n",
    "print(\"\\na * b:\\n\", (a @ b).numpy())\n",
    "\n",
    "# 1 * 5 + 2 * 7 = 19\n",
    "# 1 * 6 + 2 * 8 = 22\n",
    "# 3 * 5 + 4 * 7 = 34\n",
    "# 3 * 6 + 4 * 8 = 50"
   ]
  },
  {
   "cell_type": "code",
   "execution_count": 231,
   "metadata": {},
   "outputs": [
    {
     "name": "stdout",
     "output_type": "stream",
     "text": [
      "features:\n",
      " [[2 3]\n",
      " [4 5]]\n",
      "\n",
      "coefficients:\n",
      " [[1000]\n",
      " [  50]]\n",
      "\n",
      "predictions:\n",
      " [[2150]\n",
      " [4250]]\n"
     ]
    }
   ],
   "source": [
    "features = tf.constant([2, 3, 4, 5], shape=[2, 2])\n",
    "coefficients = tf.constant([1000, 50], shape=[2, 1])\n",
    "predictions = tf.matmul(features, coefficients)\n",
    "\n",
    "print(\"features:\\n\", features.numpy())\n",
    "print(\"\\ncoefficients:\\n\", coefficients.numpy())\n",
    "print(\"\\npredictions:\\n\", predictions.numpy())"
   ]
  },
  {
   "cell_type": "markdown",
   "metadata": {},
   "source": [
    "### Summing over tensor dimensions"
   ]
  },
  {
   "cell_type": "code",
   "execution_count": 232,
   "metadata": {},
   "outputs": [
    {
     "data": {
      "text/plain": [
       "24.0"
      ]
     },
     "execution_count": 232,
     "metadata": {},
     "output_type": "execute_result"
    }
   ],
   "source": [
    "a = tf.ones([2, 3, 4])\n",
    "\n",
    "# 24 because it's a 2 x 3 x 4 dimensional tensor with each element being 1\n",
    "tf.reduce_sum(a).numpy()"
   ]
  },
  {
   "cell_type": "code",
   "execution_count": 233,
   "metadata": {},
   "outputs": [
    {
     "name": "stdout",
     "output_type": "stream",
     "text": [
      "\n",
      "Dimension 0:\n",
      " [[2. 2. 2. 2.]\n",
      " [2. 2. 2. 2.]\n",
      " [2. 2. 2. 2.]]\n",
      "\n",
      "Dimension 1:\n",
      " [[3. 3. 3. 3.]\n",
      " [3. 3. 3. 3.]]\n",
      "\n",
      "Dimension 2:\n",
      " [[4. 4. 4.]\n",
      " [4. 4. 4.]]\n"
     ]
    }
   ],
   "source": [
    "# We reduce the size of the tensor by summing over one of its dimensions\n",
    "print(\"\\nDimension 0:\\n\", tf.reduce_sum(a, 0).numpy()) # A 3x4 tensor\n",
    "print(\"\\nDimension 1:\\n\", tf.reduce_sum(a, 1).numpy()) # A 2x4 tensor\n",
    "print(\"\\nDimension 2:\\n\", tf.reduce_sum(a, 2).numpy()) # A 2x3 tensor"
   ]
  },
  {
   "cell_type": "code",
   "execution_count": 234,
   "metadata": {},
   "outputs": [
    {
     "name": "stdout",
     "output_type": "stream",
     "text": [
      "a:\n",
      " [[3 4]\n",
      " [5 6]]\n",
      "\n",
      "Total sum:\n",
      " 18\n",
      "\n",
      "Column sums:\n",
      " [ 8 10]\n",
      "\n",
      "Row sums:\n",
      " [ 7 11]\n"
     ]
    }
   ],
   "source": [
    "a = tf.constant([3, 4, 5, 6], shape=[2, 2])\n",
    "print(\"a:\\n\", a.numpy())\n",
    "\n",
    "print(\"\\nTotal sum:\\n\", tf.reduce_sum(a).numpy())\n",
    "\n",
    "# Reducing along rows (axis=0) means we're squeezing from bottom and top so that\n",
    "# the separate rows become one row. This gives is the column sums.\n",
    "print(\"\\nColumn sums:\\n\", tf.reduce_sum(a, 0).numpy())\n",
    "\n",
    "# Reducing along columns (axis=1) means we're squeezing from left and right so that\n",
    "# the separate columns become one column. This gives us the row sums.\n",
    "print(\"\\nRow sums:\\n\", tf.reduce_sum(a, 1).numpy())"
   ]
  },
  {
   "cell_type": "markdown",
   "metadata": {},
   "source": [
    "## Gradient\n",
    "\n",
    "Computes the slope of a function at a point."
   ]
  },
  {
   "cell_type": "code",
   "execution_count": 235,
   "metadata": {},
   "outputs": [
    {
     "name": "stdout",
     "output_type": "stream",
     "text": [
      "Slope at -1.0: -2.0:\n"
     ]
    }
   ],
   "source": [
    "# We'll find the minumum for y = x ** 2\n",
    "\n",
    "# Define x\n",
    "x = tf.Variable(-1.0)\n",
    "\n",
    "# Define y within an instance of GradientTape\n",
    "# This allows us to computer the rate of change of y with respect to x\n",
    "with tf.GradientTape() as tape:\n",
    "    tape.watch(x)\n",
    "    y = tf.multiply(x, x)\n",
    "\n",
    "# Evaluate the gradient of y with respect to x at x = -1\n",
    "g = tape.gradient(y, x)\n",
    "print(\"Slope at {}: {}:\".format(x.numpy(), g.numpy()))\n",
    "\n",
    "# Recall from calc that the derivative for y = x ** 2 is 2x\n",
    "# So the derivative at x = -1 is 2 * -1 = -2"
   ]
  },
  {
   "cell_type": "markdown",
   "metadata": {},
   "source": [
    "## Reshape\n",
    "\n",
    "Reshapes a tensor (like a 10x10 into a 100x1)"
   ]
  },
  {
   "cell_type": "code",
   "execution_count": 236,
   "metadata": {
    "scrolled": true
   },
   "outputs": [
    {
     "name": "stdout",
     "output_type": "stream",
     "text": [
      "Original 2x2:\n",
      " [[1 2]\n",
      " [3 4]]\n",
      "\n",
      "Reshaped into 4x1 using list:\n",
      " [[1]\n",
      " [2]\n",
      " [3]\n",
      " [4]]\n",
      "\n",
      "Rehsaped into a 4x1 using tuple:\n",
      " [[1]\n",
      " [2]\n",
      " [3]\n",
      " [4]]\n"
     ]
    }
   ],
   "source": [
    "a = tf.constant([1, 2, 3, 4], shape=[2, 2])\n",
    "print(\"Original 2x2:\\n\", a.numpy())\n",
    "print(\"\\nReshaped into 4x1 using list:\\n\", tf.reshape(a, [4, 1]).numpy())\n",
    "print(\"\\nRehsaped into a 4x1 using tuple:\\n\", tf.reshape(a, (4, 1)).numpy())"
   ]
  },
  {
   "cell_type": "markdown",
   "metadata": {},
   "source": [
    "## Random\n",
    "\n",
    "Populates a tensor with entries drawn from a probability distribution"
   ]
  },
  {
   "cell_type": "markdown",
   "metadata": {},
   "source": [
    "### Float between 0 and 1"
   ]
  },
  {
   "cell_type": "code",
   "execution_count": 237,
   "metadata": {},
   "outputs": [
    {
     "name": "stdout",
     "output_type": "stream",
     "text": [
      "[[0.9453641  0.19514918]\n",
      " [0.83159983 0.9215629 ]]\n"
     ]
    }
   ],
   "source": [
    "a = tf.random.uniform([2, 2])\n",
    "print(a.numpy())"
   ]
  },
  {
   "cell_type": "markdown",
   "metadata": {},
   "source": [
    "### Float between 0 and n"
   ]
  },
  {
   "cell_type": "code",
   "execution_count": 238,
   "metadata": {
    "scrolled": false
   },
   "outputs": [
    {
     "name": "stdout",
     "output_type": "stream",
     "text": [
      "[[8.971273 4.00175 ]\n",
      " [2.660606 5.992365]]\n"
     ]
    }
   ],
   "source": [
    "a = tf.random.uniform([2, 2], maxval=10)\n",
    "print(a.numpy())"
   ]
  },
  {
   "cell_type": "markdown",
   "metadata": {},
   "source": [
    "### Integer between 0 and n"
   ]
  },
  {
   "cell_type": "code",
   "execution_count": 239,
   "metadata": {},
   "outputs": [
    {
     "name": "stdout",
     "output_type": "stream",
     "text": [
      "[[0 8]\n",
      " [2 0]]\n"
     ]
    }
   ],
   "source": [
    "a = tf.random.uniform([2, 2], maxval=10, dtype=\"int32\")\n",
    "print(a.numpy())"
   ]
  },
  {
   "cell_type": "markdown",
   "metadata": {},
   "source": [
    "## Casting"
   ]
  },
  {
   "cell_type": "markdown",
   "metadata": {},
   "source": [
    "### Integer to boolean"
   ]
  },
  {
   "cell_type": "code",
   "execution_count": 240,
   "metadata": {
    "scrolled": true
   },
   "outputs": [
    {
     "name": "stdout",
     "output_type": "stream",
     "text": [
      "[ True False  True  True]\n"
     ]
    }
   ],
   "source": [
    "series = pd.Series([1, 0, 1, 1])\n",
    "print(tf.cast(series, tf.bool).numpy())"
   ]
  },
  {
   "cell_type": "markdown",
   "metadata": {},
   "source": [
    "### Integer to float"
   ]
  },
  {
   "cell_type": "code",
   "execution_count": 241,
   "metadata": {},
   "outputs": [
    {
     "name": "stdout",
     "output_type": "stream",
     "text": [
      "[23. 45. 67.]\n"
     ]
    }
   ],
   "source": [
    "series = pd.Series([23, 45, 67])\n",
    "print(tf.cast(series, tf.float32).numpy())"
   ]
  },
  {
   "cell_type": "markdown",
   "metadata": {},
   "source": [
    "## Loss Functions"
   ]
  },
  {
   "cell_type": "code",
   "execution_count": 242,
   "metadata": {},
   "outputs": [
    {
     "data": {
      "text/plain": [
       "12.5"
      ]
     },
     "execution_count": 242,
     "metadata": {},
     "output_type": "execute_result"
    }
   ],
   "source": [
    "# Note that if you pass lists of integers then TensorFlow will return an integer (12) not 12.5\n",
    "targets = [10.0, 12.0]\n",
    "predictions = [14.0, 9.0]\n",
    "tf.keras.losses.mse(targets, predictions).numpy()\n",
    "\n",
    "# Sum the squares of predicitons minus targets: (14 - 10)** 2 + (9 - 12) ** 2 = 16 + 9 = 25\n",
    "# Divide by number of observations = 25 / 2 = 12.5"
   ]
  },
  {
   "cell_type": "markdown",
   "metadata": {},
   "source": [
    "From [DataCamp example](https://campus.datacamp.com/courses/introduction-to-tensorflow-in-python/63343?ex=6):"
   ]
  },
  {
   "cell_type": "code",
   "execution_count": 243,
   "metadata": {},
   "outputs": [
    {
     "name": "stdout",
     "output_type": "stream",
     "text": [
      "3.0\n"
     ]
    }
   ],
   "source": [
    "features = tf.constant([1, 2, 3, 4, 5], tf.float32)\n",
    "targets = tf.constant([2, 4, 6, 8, 10], tf.float32)\n",
    "scalar = tf.Variable(1.0, tf.float32)\n",
    "\n",
    "# Define the model\n",
    "def model(scalar, features = features):\n",
    "    return scalar * features\n",
    "\n",
    "# Define a loss function\n",
    "def loss_function(scalar, features = features, targets = targets):\n",
    "    # Compute the predicted values\n",
    "    predictions = model(scalar, features)\n",
    "    \n",
    "    # Return the mean absolute error loss\n",
    "    return tf.keras.losses.mae(targets, predictions)\n",
    "\n",
    "# Evaluate the loss function and print the loss\n",
    "print(loss_function(scalar).numpy())"
   ]
  },
  {
   "cell_type": "markdown",
   "metadata": {},
   "source": [
    "## Training a Linear Model"
   ]
  },
  {
   "cell_type": "markdown",
   "metadata": {},
   "source": [
    "Modified example inspired by a [DataCamp exercise](https://campus.datacamp.com/courses/introduction-to-tensorflow-in-python/63343?ex=9):"
   ]
  },
  {
   "cell_type": "markdown",
   "metadata": {},
   "source": [
    "## One parameter"
   ]
  },
  {
   "cell_type": "code",
   "execution_count": 244,
   "metadata": {},
   "outputs": [
    {
     "name": "stdout",
     "output_type": "stream",
     "text": [
      "Training...\n",
      "MSE after 0 iterations: 1052.125\n",
      "MSE after 50 iterations: 3.633875\n",
      "MSE after 100 iterations: 0.40788904\n",
      "MSE after 150 iterations: 0.03056418\n",
      "MSE after 200 iterations: 0.0010345107\n",
      "MSE after 250 iterations: 1.1735907e-05\n",
      "MSE after 300 iterations: 1.2565943e-08\n",
      "\n",
      "Estimated intercept: 9.999792\n",
      "Estimated slope:  5.0000343\n"
     ]
    }
   ],
   "source": [
    "x = np.array(range(10))\n",
    "y = 10 + x * 5\n",
    "\n",
    "# Define a linear regression model\n",
    "def linear_regression(intercept, slope, features = x):\n",
    "    return intercept + slope * features\n",
    "\n",
    "# Set loss_function() to take the variables as arguments\n",
    "def loss_function(intercept, slope, features, targets):\n",
    "    # Set the predicted values\n",
    "    predictions = linear_regression(intercept, slope, features)\n",
    "    \n",
    "    # Return the mean squared error loss\n",
    "    return tf.keras.losses.mse(targets, predictions)\n",
    "\n",
    "print(\"Training...\")\n",
    "\n",
    "# Initialize an Adam optimizer\n",
    "opt = tf.keras.optimizers.Adam(0.5)\n",
    "\n",
    "# The optimizer will adjust the intercept and slope\n",
    "intercept = tf.Variable(0, dtype=tf.float32)\n",
    "slope = tf.Variable(0, dtype=tf.float32)\n",
    "\n",
    "for i in range(301):\n",
    "    # Apply minimize, pass the loss function, and supply the variables\n",
    "    opt.minimize(lambda: loss_function(intercept, slope, x, y), var_list=[intercept, slope])\n",
    "\n",
    "    if i % 50 == 0:\n",
    "        current_loss = loss_function(intercept, slope, x, y).numpy()\n",
    "        print(\"MSE after\", i, \"iterations:\", current_loss)\n",
    "\n",
    "\n",
    "print(\"\\nEstimated intercept:\", intercept.numpy())\n",
    "print(\"Estimated slope: \", slope.numpy())"
   ]
  },
  {
   "cell_type": "markdown",
   "metadata": {},
   "source": [
    "## Multiple parameters"
   ]
  },
  {
   "cell_type": "code",
   "execution_count": 245,
   "metadata": {},
   "outputs": [
    {
     "name": "stdout",
     "output_type": "stream",
     "text": [
      "x1: [0 1 2 3 4 5 6 7 8 9]\n",
      "x2: [30 31 32 33 34 35 36 37 38 39]\n",
      "actual params: [10, 5, 25]\n",
      "y: [ 760  790  820  850  880  910  940  970 1000 1030]\n",
      "\n",
      "Training...\n",
      "MSE after 0 iterations: 772563.25\n",
      "MSE after 250 iterations: 762.1769\n",
      "MSE after 500 iterations: 130.75668\n",
      "MSE after 750 iterations: 11.037022\n",
      "MSE after 1000 iterations: 0.4575019\n",
      "MSE after 1250 iterations: 0.0088784555\n",
      "MSE after 1500 iterations: 7.480383e-05\n",
      "MSE after 1750 iterations: 3.0845405e-07\n",
      "MSE after 2000 iterations: 3.837049e-08\n",
      "\n",
      "Estimated params: [27.377342   5.5793157 24.420744 ]\n",
      "\n",
      "Predictions: [ 759.99963  789.99976  819.99976  849.9998   879.9999   909.99994\n",
      "  940.       970.00006 1000.0001  1030.0002 ]\n"
     ]
    }
   ],
   "source": [
    "x1 = np.arange(0, 10)\n",
    "x2 = np.arange(30, 40)\n",
    "actual_params = [10, 5, 25]\n",
    "y = actual_params[0] + actual_params[1] * x1 + actual_params[2] * x2\n",
    "\n",
    "print(\"x1:\", x1)\n",
    "print(\"x2:\", x2)\n",
    "print(\"actual params:\", actual_params)\n",
    "print(\"y:\", y)\n",
    "\n",
    "# Define a linear regression model\n",
    "def linear_regression(params, feature1, feature2):\n",
    "    return params[0] + params[1] * feature1 + params[2] * feature2\n",
    "\n",
    "# Set loss_function() to take the variables as arguments\n",
    "def loss_function(params, feature1, feature2, targets):\n",
    "    # Set the predicted values\n",
    "    predictions = linear_regression(params, feature1, feature2)\n",
    "    \n",
    "    # Return the mean squared error loss\n",
    "    return tf.keras.losses.mse(targets, predictions)\n",
    "\n",
    "print(\"\\nTraining...\")\n",
    "\n",
    "# Initialize an Adam optimizer\n",
    "opt = tf.keras.optimizers.Adam(0.5)\n",
    "\n",
    "# The optimizer will adjust the intercept and slope\n",
    "params = tf.Variable([0, 0, 0], dtype=tf.float32)\n",
    "\n",
    "for i in range(2001):\n",
    "    # Apply minimize, pass the loss function, and supply the variables\n",
    "    opt.minimize(lambda: loss_function(params, x1, x2, y), var_list=[params])\n",
    "\n",
    "    if i % 250 == 0:\n",
    "        current_loss = loss_function(params, x1, x2, y).numpy()\n",
    "        print(\"MSE after\", i, \"iterations:\", current_loss)\n",
    "\n",
    "# It comes up with different params that still work\n",
    "print(\"\\nEstimated params:\", params.numpy())\n",
    "print(\"\\nPredictions:\", linear_regression(params, x1, x2).numpy())"
   ]
  },
  {
   "cell_type": "markdown",
   "metadata": {},
   "source": [
    "## Creating a neural network using low level functions\n",
    "\n",
    "Imagine 3 inputs, 2 hidden layer neurons, and 1 output layer\n",
    "\n",
    "Inspired by [Introduction to TensorFlow example exercise](https://campus.datacamp.com/courses/introduction-to-tensorflow-in-python/63344?ex=2).\n",
    "\n",
    "First, we feed the inputs to the hidden layer:"
   ]
  },
  {
   "cell_type": "code",
   "execution_count": 246,
   "metadata": {
    "scrolled": true
   },
   "outputs": [
    {
     "name": "stdout",
     "output_type": "stream",
     "text": [
      "inputs:\n",
      " [[ 2. 10. 43.]]\n",
      "\n",
      "hidden_layer_bias: 1.0\n",
      "\n",
      "hidden_layer_weights:\n",
      " [[1. 1.]\n",
      " [1. 1.]\n",
      " [1. 1.]]\n",
      "\n",
      "hidden_layer_inputs_times_weights:\n",
      " [[55. 55.]]\n",
      "\n",
      "dense1:\n",
      " [[1. 1.]]\n"
     ]
    }
   ],
   "source": [
    "inputs = np.array([[2, 10, 43]], np.float32)\n",
    "print(\"inputs:\\n\", inputs)\n",
    "\n",
    "# We figure out the total net input to each hidden layer neuron, squash the \n",
    "# total net input using an activation function (here we use the sigmoid function), \n",
    "# then repeat the process with the output layer neurons.\n",
    "\n",
    "# Initialize bias for the hidden layer\n",
    "hidden_layer_bias = tf.Variable(1.0)\n",
    "print(\"\\nhidden_layer_bias:\", hidden_layer_bias.numpy())\n",
    "\n",
    "# These are the weights from the inputs to the hidden layer neurons\n",
    "# It's 3 rows by 2 columns because there are 3 inputs feeding into 2 neurons\n",
    "hidden_layer_weights = tf.Variable(tf.ones((3, 2)))\n",
    "print(\"\\nhidden_layer_weights:\\n\", hidden_layer_weights.numpy())\n",
    "\n",
    "# Perform matrix multiplication of the features and weights1\n",
    "hidden_layer_inputs_times_weights = tf.matmul(inputs, hidden_layer_weights)\n",
    "# 1 * 2 + 1 * 10 + 1 * 43 = 55\n",
    "print(\"\\nhidden_layer_inputs_times_weights:\\n\", hidden_layer_inputs_times_weights.numpy())\n",
    "\n",
    "# Apply sigmoid activation function to product1 + bias1\n",
    "# Because the value is greater than 1, it gets squashed to 1\n",
    "hidden_layer_outputs = tf.keras.activations.sigmoid(hidden_layer_inputs_times_weights + hidden_layer_bias)\n",
    "print(\"\\ndense1:\\n\", hidden_layer_outputs.numpy())"
   ]
  },
  {
   "cell_type": "markdown",
   "metadata": {},
   "source": [
    "Then we feed the outputs of the hidden layer to the output layer:"
   ]
  },
  {
   "cell_type": "code",
   "execution_count": 247,
   "metadata": {
    "scrolled": true
   },
   "outputs": [
    {
     "name": "stdout",
     "output_type": "stream",
     "text": [
      "prediction: 0.953\n",
      "actual: 1\n"
     ]
    }
   ],
   "source": [
    "output_layer_bias = tf.Variable(1.0)\n",
    "output_layer_weights = tf.Variable(tf.ones((2, 1)))\n",
    "output_layer_inputs_times_weights = tf.matmul(hidden_layer_outputs, output_layer_weights)\n",
    "prediction = tf.keras.activations.sigmoid(output_layer_inputs_times_weights + output_layer_bias)\n",
    "\n",
    "# \"Our model produces predicted values in the interval between 0 and 1. For the example we considered, \n",
    "# the actual value was 1 and the predicted value was a probability between 0 and 1. This, of course, \n",
    "# is not meaningful, since we have not yet trained our model's parameters.\"\n",
    "print('prediction: {:.3f}'.format(prediction.numpy()[0,0]))\n",
    "print('actual: 1')"
   ]
  },
  {
   "cell_type": "markdown",
   "metadata": {},
   "source": [
    "## Using the high level Keras API\n",
    "\n",
    "Here we feed the inputs into the same 2-neuron hidden layer, then the 1-neuron output layer.\n",
    "We could easily add other hidden layers as well, feeding in the output of prior hidden layers."
   ]
  },
  {
   "cell_type": "code",
   "execution_count": 248,
   "metadata": {
    "scrolled": true
   },
   "outputs": [
    {
     "name": "stdout",
     "output_type": "stream",
     "text": [
      "prediction: 0.305\n"
     ]
    }
   ],
   "source": [
    "inputs = np.array([[2, 10, 43]], np.float32)\n",
    "# Hidden layers typically use Rectified Linear Unit (ReLu) Activation activation function which is max(0, value)\n",
    "hidden_layer = tf.keras.layers.Dense(2, activation=\"sigmoid\")(inputs)\n",
    "# If this were a classification problem with 2+ output classes, we would use softmax here\n",
    "# If we did, outputs could be interpreted as class probabilities in multiclass classification problems\n",
    "# (each rows values would output to 1 aka 100%)\n",
    "prediction = tf.keras.layers.Dense(1, activation=\"sigmoid\")(hidden_layer)\n",
    "\n",
    "# The output changes each time because we're using an untrained model with randomly initialized parameters\n",
    "print('prediction: {:.3f}'.format(prediction.numpy()[0,0]))"
   ]
  },
  {
   "cell_type": "markdown",
   "metadata": {},
   "source": [
    "## More low level training\n",
    "\n",
    "Also a via [DataCamp exercise](https://campus.datacamp.com/courses/introduction-to-tensorflow-in-python/63344?ex=14):"
   ]
  },
  {
   "cell_type": "markdown",
   "metadata": {},
   "source": [
    "```python\n",
    "# Define the model\n",
    "def model(w1, b1, w2, b2, features = borrower_features):\n",
    "    # Apply relu activation functions to layer 1\n",
    "    layer1 = keras.activations.relu(matmul(features, w1) + b1)\n",
    "    # Apply dropout\n",
    "    dropout = keras.layers.Dropout(0.25)(layer1)\n",
    "    return keras.activations.sigmoid(matmul(dropout, w2) + b2)\n",
    "\n",
    "# Define the loss function\n",
    "def loss_function(w1, b1, w2, b2, features = borrower_features, targets = default):\n",
    "    predictions = model(w1, b1, w2, b2)\n",
    "    # Pass targets and predictions to the cross entropy loss\n",
    "    return keras.losses.binary_crossentropy(targets, predictions)\n",
    "\n",
    "Train the model\n",
    "for j in range(100):\n",
    "    # Complete the optimizer\n",
    "    opt.minimize(lambda: loss_function(w1, b1, w2, b2), \n",
    "                 var_list=[w1, b1, w2, b2])\n",
    "\n",
    "# Make predictions with model\n",
    "model_predictions = model(w1, b1, w2, b2, test_features)\n",
    "\n",
    "# Construct the confusion matrix\n",
    "confusion_matrix(test_targets, model_predictions)\n",
    "```"
   ]
  },
  {
   "cell_type": "markdown",
   "metadata": {},
   "source": [
    "## Dropout function\n",
    "\n",
    "Helps prevent overfitting by randomly drops weights connected to certain nodes in a layer during the training process. Force network to develop more robust rules for classification. Tends to improve out of sample performance."
   ]
  },
  {
   "cell_type": "markdown",
   "metadata": {},
   "source": [
    "```python\n",
    "# ... other layers\n",
    "\n",
    "# Drop weights connected to 25% of the nodes randomly\n",
    "dropout1 = tf.keras.layers.Dropout(0.25)(dense2)\n",
    "\n",
    "# ... then pass that to the output layer\n",
    "outputs = tf.keras.layers.Dense(1, activation=\"sigmoid\")(dropout)\n",
    "```"
   ]
  },
  {
   "cell_type": "markdown",
   "metadata": {},
   "source": [
    "## Optimizers\n",
    "\n",
    "* Stochastic Gradient Descent (SGD)\n",
    "  * Improved version of gradient descent that is less likely to get stuck in local minimums. For simple problems, SGD algorithms work well.\n",
    "  * `keras.optimizers.SGD(learning_rate=0.01)`\n",
    "  * `learning_rate` - between 0.5 and 0.001. Higher introduces more force.\n",
    "  * Simpler and easy to interpret vs modern optimizations\n",
    "* Root Mean Squared (RMS) optimizer\n",
    "  * Applies different learning rates to each feature which is useful for high dimensional problems\n",
    "  * `keras.optimizers.RMSprop(learning_rate=0.01, momentum=0.99)`\n",
    "  * `learning_rate`\n",
    "  * `momentum`\n",
    "  * `decay` - setting a low value prevents momentum from accumulating over long periods of the training process\n",
    "* Adaptive Moment (Adam) optimizer\n",
    "  * Generally a good first choice\n",
    "  * Require 10x many iterations to achieve similar loss vs SGD\n",
    "  * `beta1` - lowers momentum\n",
    "  * Performs well with default parameter values\n"
   ]
  },
  {
   "cell_type": "markdown",
   "metadata": {},
   "source": [
    "## Random"
   ]
  },
  {
   "cell_type": "markdown",
   "metadata": {},
   "source": [
    "### Draw numbers from a normal distribution"
   ]
  },
  {
   "cell_type": "code",
   "execution_count": 249,
   "metadata": {
    "scrolled": true
   },
   "outputs": [
    {
     "data": {
      "text/plain": [
       "array([[ 0.16820055,  0.8850882 , -1.4864322 ],\n",
       "       [ 0.2228577 ,  0.56002563, -0.20416106],\n",
       "       [ 1.2134453 ,  0.03427787,  0.90148443]], dtype=float32)"
      ]
     },
     "execution_count": 249,
     "metadata": {},
     "output_type": "execute_result"
    }
   ],
   "source": [
    "tf.random.normal([3, 3]).numpy()"
   ]
  },
  {
   "cell_type": "markdown",
   "metadata": {},
   "source": [
    "### Draw numbers from a normal distribution\n",
    "\n",
    ".. And ignore very large and very small values"
   ]
  },
  {
   "cell_type": "code",
   "execution_count": 250,
   "metadata": {},
   "outputs": [
    {
     "data": {
      "text/plain": [
       "array([[-0.13662614, -0.43377414,  0.7998232 ],\n",
       "       [-0.8046036 ,  1.3716617 ,  0.5730576 ],\n",
       "       [ 0.10732784,  0.40168315,  1.5509814 ]], dtype=float32)"
      ]
     },
     "execution_count": 250,
     "metadata": {},
     "output_type": "execute_result"
    }
   ],
   "source": [
    "tf.random.truncated_normal([3, 3]).numpy()"
   ]
  },
  {
   "cell_type": "markdown",
   "metadata": {},
   "source": [
    "## Sequential API\n",
    "\n",
    "via [DataCamp](https://campus.datacamp.com/courses/introduction-to-tensorflow-in-python/63345?ex=2):"
   ]
  },
  {
   "cell_type": "markdown",
   "metadata": {},
   "source": [
    "```python\n",
    "# Define a Keras sequential model\n",
    "model = keras.Sequential()\n",
    "\n",
    "# Define the first dense layer\n",
    "# The input shape represents the number of inputs which in this example\n",
    "# is 784 because we're analyzing a 28x28 image that's reshaped\n",
    "model.add(keras.layers.Dense(16, activation='relu', input_shape=(784,)))\n",
    "\n",
    "# Define the second dense layer\n",
    "model.add(keras.layers.Dense(8, activation='relu'))\n",
    "\n",
    "# Define the output layer\n",
    "model.add(keras.layers.Dense(4, activation='softmax'))\n",
    "\n",
    "# Print the model architecture\n",
    "print(model.summary())\n",
    "```"
   ]
  },
  {
   "cell_type": "markdown",
   "metadata": {},
   "source": [
    "Then we compile it:"
   ]
  },
  {
   "cell_type": "markdown",
   "metadata": {},
   "source": [
    "```python\n",
    "# Define the first dense layer\n",
    "model.add(keras.layers.Dense(16, activation=\"sigmoid\", input_shape=(784,)))\n",
    "\n",
    "# Apply dropout to the first layer's output\n",
    "model.add(keras.layers.Dropout(0.25))\n",
    "\n",
    "# Define the output layer\n",
    "model.add(keras.layers.Dense(4, activation=\"softmax\"))\n",
    "\n",
    "# Compile the model\n",
    "# We could also set the `metrics` argument to ['accuracy'] since\n",
    "# reporting on the loss isn't that useful.\n",
    "# Optimizer could also be `SGD` or `RMSprop`\n",
    "model.compile('adam', loss='categorical_crossentropy')\n",
    "\n",
    "# Alternative syntax for passing arguments for the optimizer\n",
    "# model.compile(optimizer=keras.optimizers.Adam(lr=0.001), loss='categorical_crossentropy', metrics=['accuracy'])\n",
    "\n",
    "# Print a model summary\n",
    "print(model.summary())\n",
    "```"
   ]
  },
  {
   "cell_type": "markdown",
   "metadata": {},
   "source": [
    "## Activation Functions\n",
    "\n",
    "* `softmax`: \"The elements of the output vector are in range (0, 1) and sum to 1. Softmax is often used as the activation for the last layer of a classification network because the result could be interpreted as a probability distribution.\"\n",
    "* `relu` (rectified linear unit): 0 if negative value, otherwise the value: `max(0, value)`\n",
    "* `sigmoid`: varies between 0 and 1\n",
    "* `tanh` (hyperbolic tangent): varies between -1 and 1\n",
    "\n",
    "* ReLu is a good first choice\n",
    "* Avoid sigmoid for hidden layers in deep learning models\n",
    "* Tune with experimentation"
   ]
  },
  {
   "cell_type": "markdown",
   "metadata": {},
   "source": [
    "## Losses\n",
    "\n",
    "\"The purpose of loss functions is to compute the quantity that a model should seek to minimize during training.\"\n",
    "\n",
    "* `binary_crossentropy`: \"Use this cross-entropy loss when there are only two label classes (assumed to be 0 and 1). For each example, there should be a single floating-point value per prediction.\"\n",
    "* `categorical_crossentropy`: \"Use this crossentropy loss function when there are two or more label classes. We expect labels to be provided in a one_hot representation.\""
   ]
  },
  {
   "cell_type": "markdown",
   "metadata": {},
   "source": [
    "## Binary Classification Notes\n",
    "\n",
    "There are [different approaches](https://stats.stackexchange.com/a/207067/289300) to this.\n",
    "\n",
    "### Option 1\n",
    "\n",
    "Output layer has 1 neuron representing the probability of the positive class.\n",
    "\n",
    "```python\n",
    "model.add(keras.layers.Dense(1, activation=\"sigmoid\"))\n",
    "model.compile(optimizer=\"adam\", loss=\"binary_crossentropy\", metrics=[\"accuracy\"]\n",
    "```\n",
    "\n",
    "### Option 2\n",
    "\n",
    "Output layer will have a separate node for each outcome.\n",
    "\n",
    "```python\n",
    "# With softmax, the values total 1\n",
    "model.add(keras.layers.Dense(2, activation=\"softmax\"))\n",
    "model.compile(optimizer=\"adam\", loss=\"categorical_crossentropy\", metrics=[\"accuracy\"]\n",
    "```"
   ]
  },
  {
   "cell_type": "markdown",
   "metadata": {},
   "source": [
    "## Multiclass Classification\n",
    "\n",
    "```python\n",
    "model.add(keras.layers.Dense(10, activation=\"softmax\"))\n",
    "model.compile(optimize=\"adam\", loss=\"categorical_crossentropy\", metrics=[\"accuracy\"]\n",
    "```"
   ]
  },
  {
   "cell_type": "markdown",
   "metadata": {},
   "source": [
    "## Multilabel Classification\n",
    "\n",
    "For example, identifying multiple objects in an image.\n",
    "\n",
    "```python\n",
    "# With sigmoid, each value can be between 0 and 1 but unlike softmax they don't have to total 1\n",
    "model.add(keras.layers.Dense(10, activation=\"sigmoid\"))\n",
    "\n",
    "# binary_crossentropy because we're deciding whether each item is present or not in the image (or whatever)\n",
    "model.compile(optimize=\"adam\", loss=\"binary_crossentropy\", metrics=[\"accuracy\"]\n",
    "```"
   ]
  },
  {
   "cell_type": "markdown",
   "metadata": {},
   "source": [
    "## Training the model\n",
    "\n",
    "via [DataCamp](https://campus.datacamp.com/courses/introduction-to-tensorflow-in-python/63345?ex=5):\n",
    "\n",
    "Only two required arguments for `fit`:\n",
    "\n",
    "1. `features`\n",
    "2. `labels`\n",
    "\n",
    "But many optional including:\n",
    "\n",
    "3. `batch_size` - the number of examples in each batch (32 by default). For example, imagine your training data consists of 128 samples. With the default batch size of 32, there would be 4 batches.\n",
    "4. `epochs` - the number of times you train on the full set of batches. This allows the model to revisit the same batches but with different model weights and possibly optimizer parameters since they are optimized after each batch.\n",
    "5. `validation_split` - selecting a value of 0.2 will put 20% of the data in the validation set. You can see how well the model performs on both the data it was trained on (the training set) and data it was not trained on (the validation set)\n",
    "6. `epochs` - the number of epochs to train for. Defaults to 10. Better to set to like 30 and use early stopping to end when there's no more improvement.\n",
    "7. `callbacks` - \"A callback is an object that can perform actions at various stages of training (e.g. at the start or end of an epoch, before or after a single batch, etc).\"\n"
   ]
  },
  {
   "cell_type": "markdown",
   "metadata": {},
   "source": [
    "```python\n",
    "model.fit(image_features, image_labels)\n",
    "```"
   ]
  },
  {
   "cell_type": "markdown",
   "metadata": {},
   "source": [
    "## Early stopping\n",
    "\n",
    "via [DataCamp](https://campus.datacamp.com/courses/introduction-to-deep-learning-in-python/fine-tuning-keras-models?ex=4)"
   ]
  },
  {
   "cell_type": "markdown",
   "metadata": {},
   "source": [
    "```python\n",
    "# How many epochs to go without improvements before the model stops training. 2 or is reasonable.\n",
    "early_stopping_monitor = tf.keras.callbacks.EarlyStopping(patience=2)\n",
    "\n",
    "# epochs is the default, but will be stopped early if it goes 2 epochs without improvement\n",
    "# callbacks can take other functions as well\n",
    "model.fit(predictors, target, validation_split=0.3, epochs=20, callbacks=[early_stopping_monitor])\n",
    "```"
   ]
  },
  {
   "cell_type": "markdown",
   "metadata": {},
   "source": [
    "## Batch Normalization\n",
    "\n",
    "\"Layer that normalizes its inputs. Batch normalization applies a transformation that maintains the mean output close to 0 and the output standard deviation close to 1.\"\n",
    "\n",
    "```python\n",
    "from keras.layers import BatchNormalization\n",
    "\n",
    "model = Sequential()\n",
    "model.add(Dense(3, input_shape=(2,), activation=\"relu\"))\n",
    "model.add(BatchNormalization())\n",
    "model.add(Dense(1, activation=\"sigmoid\"))\n",
    "```"
   ]
  },
  {
   "cell_type": "markdown",
   "metadata": {},
   "source": [
    "## Evaluating on the test set\n",
    "\n",
    "Provides you with further assurance that you have not overfitted.\n",
    "\n",
    "\"Notice that the gap between the test and train set losses is high for large_model, suggesting that overfitting may be an issue. Furthermore, both test and train set performance is better for large_model. This suggests that we may want to use large_model, but reduce the number of training epochs\" [#](https://campus.datacamp.com/courses/introduction-to-tensorflow-in-python/63345?ex=9)"
   ]
  },
  {
   "cell_type": "markdown",
   "metadata": {},
   "source": [
    "## Hyperparameter Tuning\n",
    "\n",
    "From [Improving your model performance](https://campus.datacamp.com/courses/introduction-to-deep-learning-with-keras/improving-your-model-performance?ex=14) DataCamp course.\n",
    "\n",
    "```python\n",
    "# Creates a model given an activation and learning rate\n",
    "def create_model(learning_rate, activation):\n",
    "  \n",
    "  \t# Create an Adam optimizer with the given learning rate\n",
    "  \topt = Adam(lr = learning_rate)\n",
    "  \t\n",
    "  \t# Create your binary classification model  \n",
    "  \tmodel = Sequential()\n",
    "  \tmodel.add(Dense(128, input_shape = (30,), activation = activation))\n",
    "  \tmodel.add(Dense(256, activation = activation))\n",
    "  \tmodel.add(Dense(1, activation = 'sigmoid'))\n",
    "  \t\n",
    "  \t# Compile your model with your optimizer, loss, and metrics\n",
    "  \tmodel.compile(optimizer = opt, loss = \"binary_crossentropy\", metrics = ['accuracy'])\n",
    "  \treturn model\n",
    "\n",
    "\n",
    "# Import KerasClassifier from keras scikit learn wrappers\n",
    "from keras.wrappers.scikit_learn import KerasClassifier\n",
    "\n",
    "# Create a KerasClassifier\n",
    "model = KerasClassifier(build_fn = create_model)\n",
    "\n",
    "# Define the parameters to try out\n",
    "params = {'activation': [\"relu\", \"tanh\"], 'batch_size': [32, 128, 256], \n",
    "          'epochs': [50, 100, 200], 'learning_rate': [0.1, 0.01, 0.001]}\n",
    "\n",
    "# Create a randomize search cv object passing in the parameters to try\n",
    "random_search = RandomizedSearchCV(model, param_distributions = params, cv = KFold(3))\n",
    "\n",
    "# Can take a while\n",
    "random_search.fit(X, y)\n",
    "\n",
    "# Then...\n",
    "\n",
    "# Create a KerasClassifier\n",
    "model = KerasClassifier(build_fn = create_model(learning_rate = 0.001, activation = \"relu\"), epochs = 50, batch_size = 128, verbose = 0)\n",
    "\n",
    "# Calculate the accuracy score for each fold\n",
    "kfolds = cross_val_score(model, X, y, cv = 3)\n",
    "\n",
    "# Print the mean accuracy\n",
    "print('The mean accuracy was:', kfolds.mean())\n",
    "\n",
    "# Print the accuracy standard deviation\n",
    "print('With a standard deviation of:', kfolds.std())\n",
    "```"
   ]
  },
  {
   "cell_type": "markdown",
   "metadata": {},
   "source": [
    "```python\n",
    "model.evaluate(test_features, test_labels)\n",
    "```"
   ]
  },
  {
   "cell_type": "markdown",
   "metadata": {},
   "source": [
    "## Functional API\n",
    "\n",
    "\"In some cases, the sequential API will not be sufficiently flexible to accommodate your desired model architecture and you will need to use the functional API instead. If, for instance, you want to train two models with different architectures jointly, you will need to use the functional API to do this.\" [#](https://campus.datacamp.com/courses/introduction-to-tensorflow-in-python/63345?ex=4)"
   ]
  },
  {
   "cell_type": "markdown",
   "metadata": {},
   "source": [
    "```python\n",
    "# For model 1, pass the input layer to layer 1 and layer 1 to layer 2\n",
    "m1_layer1 = keras.layers.Dense(12, activation='sigmoid')(m1_inputs)\n",
    "m1_layer2 = keras.layers.Dense(4, activation='softmax')(m1_layer1)\n",
    "\n",
    "# For model 2, pass the input layer to layer 1 and layer 1 to layer 2\n",
    "m2_layer1 = keras.layers.Dense(12, activation='relu')(m2_inputs)\n",
    "m2_layer2 = keras.layers.Dense(4, activation='softmax')(m2_layer1)\n",
    "\n",
    "# Merge model outputs and define a functional model\n",
    "merged = keras.layers.add([m1_layer2, m2_layer2])\n",
    "model = keras.Model(inputs=[m1_inputs, m2_inputs], outputs=merged)\n",
    "\n",
    "# Print a model summary\n",
    "print(model.summary())\n",
    "```"
   ]
  },
  {
   "cell_type": "markdown",
   "metadata": {},
   "source": [
    "### Defining an input\n",
    "\n",
    "via [DataCamp](https://campus.datacamp.com/courses/advanced-deep-learning-with-keras/the-keras-functional-api?ex=10)"
   ]
  },
  {
   "cell_type": "code",
   "execution_count": 11,
   "metadata": {},
   "outputs": [
    {
     "name": "stdout",
     "output_type": "stream",
     "text": [
      "Model: \"functional_5\"\n",
      "_________________________________________________________________\n",
      "Layer (type)                 Output Shape              Param #   \n",
      "=================================================================\n",
      "input_7 (InputLayer)         [(None, 1)]               0         \n",
      "_________________________________________________________________\n",
      "Output-Layer (Dense)         (None, 1)                 2         \n",
      "=================================================================\n",
      "Total params: 2\n",
      "Trainable params: 2\n",
      "Non-trainable params: 0\n",
      "_________________________________________________________________\n"
     ]
    }
   ],
   "source": [
    "from tensorflow.keras.layers import Input, Dense\n",
    "from tensorflow.keras.models import Model\n",
    "\n",
    "# This is a simple regression model with 1 input and 1 output\n",
    "input_tensor = Input(shape=(1,))\n",
    "output_tensor =  Dense(1, name=\"Output-Layer\")(input_tensor)\n",
    "\n",
    "model = Model(input_tensor, output_tensor)\n",
    "model.compile(optimizer=\"adam\", loss=\"mae\")\n",
    "model.summary()"
   ]
  },
  {
   "cell_type": "markdown",
   "metadata": {},
   "source": [
    "## Fitting"
   ]
  },
  {
   "cell_type": "markdown",
   "metadata": {},
   "source": [
    "```python\n",
    "# Now fit the model\n",
    "model.fit(X_test, y_test, epochs=1, batch_size=128, validation_split=0.10, verbose=True)\n",
    "```"
   ]
  },
  {
   "cell_type": "markdown",
   "metadata": {},
   "source": [
    "## Visualizing a model"
   ]
  },
  {
   "cell_type": "code",
   "execution_count": 10,
   "metadata": {
    "scrolled": true
   },
   "outputs": [
    {
     "data": {
      "image/png": "[encoded data removed]",
      "text/plain": [
       "<Figure size 432x288 with 1 Axes>"
      ]
     },
     "metadata": {
      "needs_background": "light"
     },
     "output_type": "display_data"
    }
   ],
   "source": [
    "import matplotlib.pyplot as plt\n",
    "from tensorflow.keras.utils import plot_model\n",
    "\n",
    "tf.keras.utils.plot_model(model, to_file=\"model.png\")\n",
    "\n",
    "img = plt.imread(\"model.png\")\n",
    "plt.imshow(img)\n",
    "plt.show()"
   ]
  },
  {
   "cell_type": "markdown",
   "metadata": {},
   "source": [
    "## Category Embeddings\n",
    "\n",
    "* Inputs are integers\n",
    "* Outputs are floats\n",
    "* It increases dimensionality, so we have to flatten it back to a 2d layer\n"
   ]
  },
  {
   "cell_type": "markdown",
   "metadata": {},
   "source": [
    "```python\n",
    "# Imports\n",
    "from keras.layers import Embedding\n",
    "from numpy import unique\n",
    "\n",
    "# Count the unique number of teams\n",
    "n_teams = unique(games_season[\"team_1\"]).shape[0]\n",
    "\n",
    "# Create an embedding layer\n",
    "# This will increase the dimensionality of your data\n",
    "# Input has two dimensions (rows and columns) and this will add a 3rd dimension\n",
    "# This 3rd dimension is useful for images/text, but not here. \n",
    "# Which is why we use the Flatten layer to reduce it back to 2d\n",
    "# \"The embedding layer is a lot like a dictionary, but your model learns the values for each key.\"\n",
    "team_lookup = Embedding(input_dim=n_teams,\n",
    "    # We want to produce a single team strength rating\n",
    "    output_dim=1,\n",
    "    # Because each team is represented by a single integer, we use an input length of 1\n",
    "    input_length=1,\n",
    "    # Name it so we can easily find it when looking at the model summary or plot\n",
    "    name='Team-Strength')\n",
    "\n",
    "# Imports\n",
    "from keras.layers import Input, Embedding, Flatten\n",
    "from keras.models import Model\n",
    "\n",
    "# Create an input layer for the team ID\n",
    "teamid_in = Input(shape=(1,))\n",
    "\n",
    "# Lookup the input in the team strength embedding layer\n",
    "strength_lookup = team_lookup(teamid_in)\n",
    "\n",
    "# Flatten the output\n",
    "# Reduce from multiple dimensions back down to 2 dimensions\n",
    "# Useful for time series, text, and images\n",
    "strength_lookup_flat = Flatten()(strength_lookup)\n",
    "\n",
    "# Combine the operations into a single, re-usable model\n",
    "team_strength_model = Model(teamid_in, strength_lookup_flat, name='Team-Strength-Model')\n",
    "```"
   ]
  },
  {
   "cell_type": "markdown",
   "metadata": {},
   "source": [
    "## Estimators\n",
    "\n",
    "via [DataCamp](https://campus.datacamp.com/courses/introduction-to-tensorflow-in-python/63345?ex=11):"
   ]
  },
  {
   "cell_type": "markdown",
   "metadata": {},
   "source": [
    "```python\n",
    "# Define feature columns for bedrooms and bathrooms\n",
    "bedrooms = feature_column.numeric_column(\"bedrooms\")\n",
    "bathrooms = feature_column.numeric_column(\"bathrooms\")\n",
    "\n",
    "# Define the list of feature columns\n",
    "feature_list = [bedrooms, bathrooms]\n",
    "\n",
    "def input_fn():\n",
    "    # Define the labels\n",
    "    labels = np.array(housing[\"price\"])\n",
    "    # Define the features\n",
    "    features = {'bedrooms':np.array(housing['bedrooms']), \n",
    "                'bathrooms':np.array(housing[\"bathrooms\"])}\n",
    "    return features, labels\n",
    "```"
   ]
  },
  {
   "cell_type": "markdown",
   "metadata": {},
   "source": [
    "```python\n",
    "# Define the model and set the number of steps\n",
    "model = estimator.DNNRegressor(feature_columns=feature_list, hidden_units=[2,2])\n",
    "model.train(input_fn, steps=1)\n",
    "```"
   ]
  },
  {
   "cell_type": "markdown",
   "metadata": {},
   "source": [
    "\"Note that you have other premade estimator options, such as BoostedTreesRegressor(), and can also create your own custom estimators.\"[#](https://campus.datacamp.com/courses/introduction-to-tensorflow-in-python/63345?ex=12)"
   ]
  },
  {
   "cell_type": "markdown",
   "metadata": {},
   "source": [
    "```python\n",
    "# Define the model and set the number of steps\n",
    "model = estimator.LinearRegressor(feature_columns=feature_list)\n",
    "model.train(input_fn, steps=2)\n",
    "```"
   ]
  },
  {
   "cell_type": "markdown",
   "metadata": {},
   "source": [
    "## Convulutional Neural Networks"
   ]
  },
  {
   "cell_type": "markdown",
   "metadata": {},
   "source": [
    "```python\n",
    "# Import the Conv2D and Flatten layers and instantiate model\n",
    "from keras.layers import Conv2D, Flatten\n",
    "model = Sequential()\n",
    "\n",
    "# Add a convolutional layer of 32 filters of size 3x3\n",
    "model.add(Conv2D(32, kernel_size = 3, input_shape = (28, 28, 1), activation = 'relu'))\n",
    "\n",
    "# Add a convolutional layer of 16 filters of size 3x3\n",
    "model.add(Conv2D(16, kernel_size = 3, activation = \"relu\"))\n",
    "\n",
    "# Flatten the previous layer output\n",
    "model.add(Flatten())\n",
    "\n",
    "# Add as many outputs as classes with softmax activation\n",
    "model.add(Dense(10, activation = 'softmax'))\n",
    "```\n",
    "\n",
    "Plotting convolutions:\n",
    "    \n",
    "```python\n",
    "# Obtain a reference to the outputs of the first layer\n",
    "first_layer_output = model.layers[0].output\n",
    "\n",
    "# Build a model using the model's input and the first layer output\n",
    "first_layer_model = Model(inputs = model.layers[0].input, outputs = first_layer_output)\n",
    "\n",
    "# Use this model to predict on X_test\n",
    "activations = first_layer_model.predict(X_test)\n",
    "\n",
    "# Plot the activations of first digit of X_test for the 15th filter\n",
    "axs[0].matshow(activations[0,:,:,14], cmap = 'viridis')\n",
    "\n",
    "# Do the same but for the 18th filter now\n",
    "axs[1].matshow(activations[0,:,:,18], cmap = 'viridis')\n",
    "plt.show()\n",
    "```"
   ]
  },
  {
   "cell_type": "markdown",
   "metadata": {},
   "source": [
    "## ResNet50\n",
    "\n",
    "From [Introduction to Deep Learning with Keras](https://campus.datacamp.com/courses/introduction-to-deep-learning-with-keras/advanced-model-architectures?ex=9):"
   ]
  },
  {
   "cell_type": "code",
   "execution_count": 254,
   "metadata": {},
   "outputs": [
    {
     "data": {
      "image/png": "[encoded data removed]",
      "text/plain": [
       "<Figure size 432x288 with 1 Axes>"
      ]
     },
     "metadata": {
      "needs_background": "light"
     },
     "output_type": "display_data"
    },
    {
     "name": "stdout",
     "output_type": "stream",
     "text": [
      "Predictions:\n",
      "\n",
      "toy_terrier: 94%\n",
      "Chihuahua: 3%\n",
      "kelpie: 1%\n"
     ]
    }
   ],
   "source": [
    "import matplotlib.pyplot as plt\n",
    "from tensorflow.keras.preprocessing import image\n",
    "from tensorflow.keras.applications.resnet50 import ResNet50, preprocess_input, decode_predictions\n",
    "\n",
    "# Load the image with the right target size for your model\n",
    "img_path = \"data/sola.png\"\n",
    "img = image.load_img(img_path, target_size=(224, 224))\n",
    "\n",
    "# Turn it into an array\n",
    "img_array = image.img_to_array(img)\n",
    "\n",
    "# Expand the dimensions of the image, this is so that it fits the expected model input format\n",
    "img_expanded = np.expand_dims(img_array, axis=0)\n",
    "\n",
    "# Pre-process the img in the same way original images were\n",
    "img_ready = preprocess_input(img_expanded)\n",
    "\n",
    "# Instantiate a ResNet50 model with 'imagenet' weights\n",
    "model = ResNet50(weights=\"imagenet\")\n",
    "\n",
    "# Predict with ResNet50 on your already processed img\n",
    "preds = model.predict(img_ready)\n",
    "\n",
    "plt.imshow(img)\n",
    "plt.show()\n",
    "\n",
    "# Decode the first 3 predictions\n",
    "print(\"Predictions:\\n\")\n",
    "for prediction in decode_predictions(preds, top=3)[0]:\n",
    "    print(\"{}: {:.0%}\".format(prediction[1], prediction[2]))"
   ]
  },
  {
   "cell_type": "markdown",
   "metadata": {},
   "source": [
    "## LSTM\n",
    "\n",
    "Inspired by [Introduction to Deep Learning with Keras](https://campus.datacamp.com/courses/introduction-to-deep-learning-with-keras/advanced-model-architectures?ex=12)"
   ]
  },
  {
   "cell_type": "code",
   "execution_count": 255,
   "metadata": {},
   "outputs": [
    {
     "name": "stdout",
     "output_type": "stream",
     "text": [
      "['the', 'tragedie', 'of', 'macbeth', 'by', 'william', 'shakespeare', 'actus', 'primus', 'scoena', 'prima', 'thunder', 'and', 'lightning', 'enter', 'three', 'witches', 'when', 'shall', 'we']\n",
      "\n",
      "Vocab size: 676\n"
     ]
    }
   ],
   "source": [
    "# Grabbing Macbeth text\n",
    "import nltk\n",
    "from nltk.tokenize import word_tokenize\n",
    "\n",
    "macbeth = nltk.corpus.gutenberg.raw('shakespeare-macbeth.txt')\n",
    "\n",
    "words = [token for token in word_tokenize(text.lower()) if token.isalpha()]\n",
    "vocab_size = len(set(words))\n",
    "\n",
    "print(words[:20])\n",
    "print(\"\\nVocab size:\", vocab_size)"
   ]
  },
  {
   "cell_type": "markdown",
   "metadata": {},
   "source": [
    "## Converting words to sequences of numbers"
   ]
  },
  {
   "cell_type": "code",
   "execution_count": 256,
   "metadata": {},
   "outputs": [
    {
     "name": "stdout",
     "output_type": "stream",
     "text": [
      "Sentences:\n",
      " ['the tragedie of macbeth', 'tragedie of macbeth by', 'of macbeth by william', 'macbeth by william shakespeare', 'by william shakespeare actus', 'william shakespeare actus primus', 'shakespeare actus primus scoena', 'actus primus scoena prima', 'primus scoena prima thunder', 'scoena prima thunder and', 'prima thunder and lightning', 'thunder and lightning enter', 'and lightning enter three', 'lightning enter three witches', 'enter three witches when', 'three witches when shall', 'witches when shall we', 'when shall we three', 'shall we three meet', 'we three meet againe']\n",
      "\n",
      "Sequences (1666):\n",
      "[[1, 674, 3, 15], [674, 3, 15, 56], [3, 15, 56, 224], [15, 56, 224, 225], [56, 224, 225, 226], [224, 225, 226, 227], [225, 226, 227, 228], [226, 227, 228, 229], [227, 228, 229, 84], [228, 229, 84, 2], [229, 84, 2, 122], [84, 2, 122, 48], [2, 122, 48, 85], [122, 48, 85, 86], [48, 85, 86, 57], [85, 86, 57, 33], [86, 57, 33, 65], [57, 33, 65, 85], [33, 65, 85, 123], [65, 85, 123, 124]]\n"
     ]
    }
   ],
   "source": [
    "from tensorflow.keras.preprocessing.text import Tokenizer\n",
    "\n",
    "# Make sentences of 4 words each, moving one word at a time\n",
    "seq_len = 4\n",
    "sentences = []\n",
    "for i in range(seq_len, len(words)):\n",
    "  sentences.append(' '.join(words[i-seq_len:i]))\n",
    "\n",
    "# Instantiate a Tokenizer, then fit it on the sentences\n",
    "tokenizer = Tokenizer()\n",
    "tokenizer.fit_on_texts(sentences)\n",
    "\n",
    "# Turn sentences into a sequence of numbers\n",
    "sequences = tokenizer.texts_to_sequences(sentences)\n",
    "print(\"Sentences:\\n\", sentences[:20])\n",
    "print(\"\\nSequences ({}):\\n{}\".format(len(sequences), sequences[:20]))"
   ]
  },
  {
   "cell_type": "code",
   "execution_count": 257,
   "metadata": {},
   "outputs": [
    {
     "name": "stdout",
     "output_type": "stream",
     "text": [
      "Inputs (1666, 3):\n",
      "\n",
      " [[  1 674   3]\n",
      " [674   3  15]\n",
      " [  3  15  56]\n",
      " ...\n",
      " [672 673  13]\n",
      " [673  13   4]\n",
      " [ 13   4  83]]\n",
      "\n",
      "Targets (1666,):\n",
      "\n",
      " [ 15  56 224 ...   4  83 675]\n",
      "\n",
      "Targets Categorical (1666, 676):\n",
      "\n",
      " [[0. 0. 0. ... 0. 0. 0.]\n",
      " [0. 0. 0. ... 0. 0. 0.]\n",
      " [0. 0. 0. ... 0. 0. 0.]\n",
      " ...\n",
      " [0. 0. 0. ... 0. 0. 0.]\n",
      " [0. 0. 0. ... 0. 0. 0.]\n",
      " [0. 0. 0. ... 0. 0. 1.]]\n"
     ]
    }
   ],
   "source": [
    "from tensorflow.keras.utils import to_categorical\n",
    "\n",
    "train_inputs = np.array(sequences)[:, :-1]\n",
    "train_targets = np.array(sequences)[:, -1]\n",
    "\n",
    "print(\"Inputs {}:\\n\\n {}\".format(train_inputs.shape, train_inputs))\n",
    "print(\"\\nTargets {}:\\n\\n {}\".format(train_targets.shape, train_targets))\n",
    "\n",
    "train_targets_categorical = to_categorical(train_targets)\n",
    "print(\"\\nTargets Categorical {}:\\n\\n {}\".format(train_targets_categorical.shape, train_targets_categorical))"
   ]
  },
  {
   "cell_type": "markdown",
   "metadata": {},
   "source": [
    "> \"Remember your sequences had 4 words each, your model will be trained on the first three words of each sequence, predicting the 4th one. You are going to use an Embedding layer that will essentially learn to turn words into vectors. These vectors will then be passed to a simple LSTM layer. Our output is a Dense layer with as many neurons as words in the vocabulary and softmax activation. This is because we want to obtain the highest probable next word out of all possible words.\" [#](https://campus.datacamp.com/courses/introduction-to-deep-learning-with-keras/advanced-model-architectures?ex=13)"
   ]
  },
  {
   "cell_type": "code",
   "execution_count": 258,
   "metadata": {
    "scrolled": true
   },
   "outputs": [
    {
     "name": "stdout",
     "output_type": "stream",
     "text": [
      "\n",
      "Summary:\n",
      "Model: \"sequential_16\"\n",
      "_________________________________________________________________\n",
      "Layer (type)                 Output Shape              Param #   \n",
      "=================================================================\n",
      "embedding_16 (Embedding)     (None, 3, 8)              5408      \n",
      "_________________________________________________________________\n",
      "lstm_16 (LSTM)               (None, 32)                5248      \n",
      "_________________________________________________________________\n",
      "dense_34 (Dense)             (None, 32)                1056      \n",
      "_________________________________________________________________\n",
      "dense_35 (Dense)             (None, 676)               22308     \n",
      "=================================================================\n",
      "Total params: 34,020\n",
      "Trainable params: 34,020\n",
      "Non-trainable params: 0\n",
      "_________________________________________________________________\n"
     ]
    }
   ],
   "source": [
    "# Import the Embedding, LSTM and Dense layer\n",
    "from tensorflow.keras.layers import Embedding, LSTM, Dense\n",
    "\n",
    "model = keras.Sequential()\n",
    "\n",
    "# Add an Embedding layer with the right parameters\n",
    "# Input length is 3 because we're going to train on the first 3 words to predict the 4th\n",
    "model.add(Embedding(input_dim=vocab_size, input_length=seq_len-1, output_dim=8))\n",
    "\n",
    "# Add a 32 unit LSTM layer\n",
    "model.add(LSTM(32))\n",
    "\n",
    "# Add a hidden Dense layer of 32 units and an output layer of vocab_size with softmax\n",
    "model.add(Dense(32, activation=\"relu\"))\n",
    "model.add(Dense(vocab_size, activation=\"softmax\"))\n",
    "\n",
    "print(\"\\nSummary:\")\n",
    "model.summary()"
   ]
  },
  {
   "cell_type": "markdown",
   "metadata": {},
   "source": [
    "> You'll see that this model is powerful enough to learn text relationships, we aren't using a lot of text in this tiny example and our sequences are quite short. This model is to be trained as usual, you would just need to compile it with an optimizer like adam and use crossentropy loss. This is because we have modeled this next word prediction task as a classification problem with all the unique words in our vocabulary as candidate classes. [#](https://campus.datacamp.com/courses/introduction-to-deep-learning-with-keras/advanced-model-architectures?ex=13)"
   ]
  },
  {
   "cell_type": "code",
   "execution_count": 259,
   "metadata": {},
   "outputs": [
    {
     "data": {
      "text/plain": [
       "<tensorflow.python.keras.callbacks.History at 0x199878ac0>"
      ]
     },
     "execution_count": 259,
     "metadata": {},
     "output_type": "execute_result"
    }
   ],
   "source": [
    "model.compile(optimizer=\"adam\", loss=\"categorical_crossentropy\")\n",
    "model.fit(train_inputs, train_targets_categorical, epochs=1000, verbose=0)"
   ]
  },
  {
   "cell_type": "code",
   "execution_count": 272,
   "metadata": {},
   "outputs": [
    {
     "data": {
      "text/plain": [
       "'rebels'"
      ]
     },
     "execution_count": 272,
     "metadata": {},
     "output_type": "execute_result"
    }
   ],
   "source": [
    "def predict_text(test_text, model = model):\n",
    "    if len(test_text.split()) != seq_len - 1:\n",
    "        print('Text input should be 3 words!')\n",
    "        return False\n",
    "\n",
    "    # Turn the test_text into a sequence of numbers\n",
    "    test_seq = tokenizer.texts_to_sequences([test_text])\n",
    "    if len(test_seq[0]) != seq_len - 1:\n",
    "        print(\"Text input contains token not in the training data\")\n",
    "        return False\n",
    "\n",
    "    test_seq = np.array(test_seq)\n",
    "\n",
    "    # Use the model passed as a parameter to predict the next word\n",
    "    pred = model.predict(test_seq).argmax(axis=1)[0]\n",
    "\n",
    "    # Return the word that maps to the prediction\n",
    "    return tokenizer.index_word[pred]\n",
    "\n",
    "tf.compat.v1.logging.set_verbosity(tf.compat.v1.logging.ERROR)\n",
    "\n",
    "# Probably a bug somewhere because this is leading to strange output\n",
    "predict_text(\"macbeth is a\")"
   ]
  }
 ],
 "metadata": {
  "kernelspec": {
   "display_name": "Python 3",
   "language": "python",
   "name": "python3"
  },
  "language_info": {
   "codemirror_mode": {
    "name": "ipython",
    "version": 3
   },
   "file_extension": ".py",
   "mimetype": "text/x-python",
   "name": "python",
   "nbconvert_exporter": "python",
   "pygments_lexer": "ipython3",
   "version": "3.8.2"
  }
 },
 "nbformat": 4,
 "nbformat_minor": 4
}
